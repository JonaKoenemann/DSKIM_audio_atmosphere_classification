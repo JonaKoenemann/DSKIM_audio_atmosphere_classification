{
 "cells": [
  {
   "cell_type": "code",
   "execution_count": null,
   "metadata": {},
   "outputs": [],
   "source": [
    "!pip install numpy matplotlib plotly pandas"
   ]
  },
  {
   "cell_type": "code",
   "execution_count": null,
   "metadata": {},
   "outputs": [],
   "source": [
    "import sys\n",
    "\n",
    "!{sys.executable} -m pip install librosa"
   ]
  },
  {
   "cell_type": "code",
   "execution_count": null,
   "metadata": {},
   "outputs": [],
   "source": [
    "!pip install nbformat>=4.2.0"
   ]
  },
  {
   "cell_type": "code",
   "execution_count": 1,
   "metadata": {},
   "outputs": [],
   "source": [
    "import pandas as pd\n",
    "import numpy as np\n",
    "import matplotlib.pyplot as plt\n",
    "import plotly.graph_objects as go\n",
    "import plotly.express as px\n",
    "import json\n",
    "import librosa\n",
    "from scipy.fft import fft, fftfreq\n",
    "from scipy.signal import spectrogram"
   ]
  },
  {
   "cell_type": "markdown",
   "metadata": {},
   "source": [
    "# Get data"
   ]
  },
  {
   "cell_type": "code",
   "execution_count": 2,
   "metadata": {},
   "outputs": [],
   "source": [
    "npz_data = np.load('../../data/48k_data/training.npz')\n",
    "meta_data = json.load(open(\"../../data/48k_data/meta.json\", 'r'))"
   ]
  },
  {
   "cell_type": "code",
   "execution_count": null,
   "metadata": {},
   "outputs": [],
   "source": [
    "# Print the keys to understand the file structure\n",
    "print(npz_data.keys())"
   ]
  },
  {
   "cell_type": "markdown",
   "metadata": {},
   "source": [
    "- X: audio data\n",
    "- y: label\n",
    "- groups:"
   ]
  },
  {
   "cell_type": "markdown",
   "metadata": {},
   "source": [
    "labels:  \n",
    "- \"Disappointment\": 0\n",
    "- \"Boring\": 1\n",
    "- \"Chanting/Singing\": 2\n",
    "- \"Celebration\": 3\n",
    "- \"Excitement\": 4"
   ]
  },
  {
   "cell_type": "markdown",
   "metadata": {},
   "source": [
    "# Sample data"
   ]
  },
  {
   "cell_type": "code",
   "execution_count": null,
   "metadata": {},
   "outputs": [],
   "source": [
    "idx = 0\n",
    "print(npz_data[\"X\"][idx])\n",
    "print(npz_data[\"y\"][idx])\n",
    "print(npz_data[\"groups\"][idx])"
   ]
  },
  {
   "cell_type": "code",
   "execution_count": null,
   "metadata": {},
   "outputs": [],
   "source": [
    "id2label = {v:k for k,v in meta_data['labels'].items()}\n",
    "id2label"
   ]
  },
  {
   "cell_type": "code",
   "execution_count": 6,
   "metadata": {},
   "outputs": [],
   "source": [
    "# get one example of every label\n",
    "examples = {}\n",
    "\n",
    "for i, y in enumerate(npz_data[\"y\"]):\n",
    "    label = id2label[y]\n",
    "    if label not in examples:\n",
    "        examples[label] = {\"Index\": i, \"Signal\": npz_data[\"X\"][i], \"LabelID\": y, \"LabelName\": label}\n",
    "\n",
    "df_examples = pd.DataFrame.from_dict(examples).T"
   ]
  },
  {
   "cell_type": "markdown",
   "metadata": {},
   "source": [
    "# Plot audio waveform"
   ]
  },
  {
   "cell_type": "code",
   "execution_count": null,
   "metadata": {},
   "outputs": [],
   "source": [
    "idx = 0\n",
    "\n",
    "label_id = id2label[npz_data[\"y\"][idx]]\n",
    "\n",
    "plt.figure(figsize=(12, 4))\n",
    "\n",
    "time = np.arange(len(npz_data[\"X\"][idx])) / meta_data[\"sample_rate\"]\n",
    "\n",
    "plt.plot(time, npz_data[\"X\"][idx])\n",
    "plt.xlabel('Time (s)')\n",
    "plt.ylabel('Amplitude')\n",
    "plt.title(f'Audio Waveform (Index: {idx}, Label: {label_id})')  # Titel mit Index und Label\n",
    "plt.grid()\n",
    "plt.show()\n"
   ]
  },
  {
   "cell_type": "markdown",
   "metadata": {},
   "source": [
    "# Spectrogram"
   ]
  },
  {
   "cell_type": "code",
   "execution_count": null,
   "metadata": {},
   "outputs": [],
   "source": [
    "idx = 0\n",
    "\n",
    "frequencies, times, Sxx = spectrogram(npz_data[\"X\"][idx], meta_data[\"sample_rate\"])\n",
    "plt.figure(figsize=(12, 6))\n",
    "plt.pcolormesh(times, frequencies, 10 * np.log10(Sxx), shading='gouraud')\n",
    "plt.colorbar(label='Power (dB)')\n",
    "plt.ylabel(\"Frequency (Hz)\")\n",
    "plt.xlabel(\"Time (s)\")\n",
    "plt.title(\"Spectrogram\")\n",
    "plt.show()"
   ]
  },
  {
   "cell_type": "markdown",
   "metadata": {},
   "source": [
    "### Melspectrogram"
   ]
  },
  {
   "cell_type": "code",
   "execution_count": null,
   "metadata": {},
   "outputs": [],
   "source": [
    "idx = 50\n",
    "\n",
    "S = librosa.feature.melspectrogram(\n",
    "    y=npz_data['X'][idx],\n",
    "    sr=meta_data[\"sample_rate\"],\n",
    "    power=1\n",
    ")\n",
    "\n",
    "librosa.display.specshow(S, x_axis='time', y_axis='mel')"
   ]
  },
  {
   "cell_type": "code",
   "execution_count": null,
   "metadata": {},
   "outputs": [],
   "source": [
    "for _, row in df_examples.iterrows():\n",
    "    S = librosa.feature.melspectrogram(\n",
    "        y=row[\"Signal\"],\n",
    "        sr=meta_data[\"sample_rate\"],\n",
    "        power=1\n",
    "    )\n",
    "\n",
    "    plt.figure(figsize=(10, 4))\n",
    "    librosa.display.specshow(S, sr=meta_data[\"sample_rate\"], x_axis='time', y_axis='mel')\n",
    "    plt.title(f\"Mel-Spektrogramm - {row[\"LabelName\"]} (Index: {row[\"Index\"]})\")\n",
    "    plt.show()"
   ]
  },
  {
   "cell_type": "markdown",
   "metadata": {},
   "source": [
    "# Frequency spectrum"
   ]
  },
  {
   "cell_type": "code",
   "execution_count": null,
   "metadata": {},
   "outputs": [],
   "source": [
    "idx = 0\n",
    "\n",
    "min_amplitude = 1e-6\n",
    "\n",
    "N = len(npz_data[\"X\"][idx])  # Number of Samples\n",
    "T = 1.0 / meta_data[\"sample_rate\"]\n",
    "yf = fft(npz_data[\"X\"][idx]) \n",
    "xf = fftfreq(N, T)[:N // 2] / 1000  # Frequency in kHz\n",
    "max_frequency = meta_data[\"sample_rate\"] / 2 / 1000  # Nyquist-Frequency in kHz\n",
    "\n",
    "amplitudes = 2.0 / N * np.abs(yf[:N // 2])\n",
    "\n",
    "filtered_xf = xf[amplitudes > min_amplitude]\n",
    "filtered_amplitudes = amplitudes[amplitudes > min_amplitude]\n",
    "\n",
    "plt.figure(figsize=(12, 8))\n",
    "\n",
    "plt.subplot(2, 1, 1)\n",
    "plt.plot(xf, amplitudes)\n",
    "plt.grid()\n",
    "plt.xlabel(\"Frequency (kHz)\")\n",
    "plt.ylabel(\"Amplitude\")\n",
    "plt.title(\"Frequency Spectrum\")\n",
    "plt.xlim(0, max_frequency)\n",
    "\n",
    "plt.subplot(2, 1, 2)\n",
    "plt.plot(filtered_xf, filtered_amplitudes)\n",
    "plt.grid()\n",
    "plt.xlabel(\"Frequency (kHz)\")\n",
    "plt.ylabel(\"Amplitude\")\n",
    "plt.title(f\"Filtered Frequencies (Amplitude > {min_amplitude})\")\n",
    "plt.tight_layout()\n",
    "\n",
    "plt.show()\n"
   ]
  },
  {
   "cell_type": "code",
   "execution_count": null,
   "metadata": {},
   "outputs": [],
   "source": [
    "min_amplitude = 1e-6\n",
    "\n",
    "for _, row in df_examples.iterrows():\n",
    "    signal = row[\"Signal\"]\n",
    "    sample_rate = meta_data[\"sample_rate\"]\n",
    "    \n",
    "    N = len(signal)\n",
    "    T = 1.0 / sample_rate\n",
    "    yf = fft(signal)\n",
    "    xf = fftfreq(N, T)[:N // 2] / 1000\n",
    "    amplitudes = 2.0 / N * np.abs(yf[:N // 2])\n",
    "    \n",
    "    filtered_xf = xf[amplitudes > min_amplitude]\n",
    "    filtered_amplitudes = amplitudes[amplitudes > min_amplitude]\n",
    "    max_frequency = sample_rate / 2 / 1000\n",
    "    \n",
    "    plt.figure(figsize=(12, 8))\n",
    "    \n",
    "    plt.subplot(2, 1, 1)\n",
    "    plt.plot(xf, amplitudes)\n",
    "    plt.grid()\n",
    "    plt.xlabel(\"Frequency (kHz)\")\n",
    "    plt.ylabel(\"Amplitude\")\n",
    "    plt.title(f\"Frequency Spectrum - {row['LabelName']} (Index: {row['Index']})\")\n",
    "    plt.xlim(0, max_frequency)\n",
    "    \n",
    "    plt.subplot(2, 1, 2)\n",
    "    plt.plot(filtered_xf, filtered_amplitudes)\n",
    "    plt.grid()\n",
    "    plt.xlabel(\"Frequency (kHz)\")\n",
    "    plt.ylabel(\"Amplitude\")\n",
    "    plt.title(f\"Filtered Frequencies (Amplitude > {min_amplitude})\")\n",
    "    plt.tight_layout()\n",
    "    \n",
    "    plt.show()"
   ]
  },
  {
   "cell_type": "code",
   "execution_count": null,
   "metadata": {},
   "outputs": [],
   "source": []
  }
 ],
 "metadata": {
  "kernelspec": {
   "display_name": "venv",
   "language": "python",
   "name": "python3"
  },
  "language_info": {
   "codemirror_mode": {
    "name": "ipython",
    "version": 3
   },
   "file_extension": ".py",
   "mimetype": "text/x-python",
   "name": "python",
   "nbconvert_exporter": "python",
   "pygments_lexer": "ipython3",
   "version": "3.12.0"
  }
 },
 "nbformat": 4,
 "nbformat_minor": 2
}
