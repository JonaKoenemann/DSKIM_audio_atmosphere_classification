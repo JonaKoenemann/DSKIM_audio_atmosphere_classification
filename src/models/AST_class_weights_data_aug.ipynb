{
 "cells": [
  {
   "cell_type": "code",
   "execution_count": 1,
   "metadata": {
    "colab": {
     "base_uri": "https://localhost:8080/"
    },
    "id": "cFd8SlHVx7Fe",
    "outputId": "6bf3337a-16bb-4a04-b14e-01e90f829a26",
    "scrolled": true
   },
   "outputs": [
    {
     "name": "stdout",
     "output_type": "stream",
     "text": [
      "Requirement already satisfied: transformers in /opt/conda/lib/python3.11/site-packages (4.47.1)\n",
      "Requirement already satisfied: datasets in /opt/conda/lib/python3.11/site-packages (3.2.0)\n",
      "Requirement already satisfied: accelerate in /opt/conda/lib/python3.11/site-packages (1.2.1)\n",
      "Requirement already satisfied: filelock in /opt/conda/lib/python3.11/site-packages (from transformers) (3.13.1)\n",
      "Requirement already satisfied: huggingface-hub<1.0,>=0.24.0 in /opt/conda/lib/python3.11/site-packages (from transformers) (0.27.1)\n",
      "Requirement already satisfied: numpy>=1.17 in /opt/conda/lib/python3.11/site-packages (from transformers) (2.0.2)\n",
      "Requirement already satisfied: packaging>=20.0 in /opt/conda/lib/python3.11/site-packages (from transformers) (24.1)\n",
      "Requirement already satisfied: pyyaml>=5.1 in /opt/conda/lib/python3.11/site-packages (from transformers) (6.0.2)\n",
      "Requirement already satisfied: regex!=2019.12.17 in /opt/conda/lib/python3.11/site-packages (from transformers) (2024.11.6)\n",
      "Requirement already satisfied: requests in /opt/conda/lib/python3.11/site-packages (from transformers) (2.32.3)\n",
      "Requirement already satisfied: tokenizers<0.22,>=0.21 in /opt/conda/lib/python3.11/site-packages (from transformers) (0.21.0)\n",
      "Requirement already satisfied: safetensors>=0.4.1 in /opt/conda/lib/python3.11/site-packages (from transformers) (0.5.1)\n",
      "Requirement already satisfied: tqdm>=4.27 in /opt/conda/lib/python3.11/site-packages (from transformers) (4.66.5)\n",
      "Requirement already satisfied: pyarrow>=15.0.0 in /opt/conda/lib/python3.11/site-packages (from datasets) (17.0.0)\n",
      "Requirement already satisfied: dill<0.3.9,>=0.3.0 in /opt/conda/lib/python3.11/site-packages (from datasets) (0.3.8)\n",
      "Requirement already satisfied: pandas in /opt/conda/lib/python3.11/site-packages (from datasets) (2.2.3)\n",
      "Requirement already satisfied: xxhash in /opt/conda/lib/python3.11/site-packages (from datasets) (3.5.0)\n",
      "Requirement already satisfied: multiprocess<0.70.17 in /opt/conda/lib/python3.11/site-packages (from datasets) (0.70.16)\n",
      "Requirement already satisfied: fsspec<=2024.9.0,>=2023.1.0 in /opt/conda/lib/python3.11/site-packages (from fsspec[http]<=2024.9.0,>=2023.1.0->datasets) (2024.9.0)\n",
      "Requirement already satisfied: aiohttp in /opt/conda/lib/python3.11/site-packages (from datasets) (3.11.11)\n",
      "Requirement already satisfied: psutil in /opt/conda/lib/python3.11/site-packages (from accelerate) (6.0.0)\n",
      "Requirement already satisfied: torch>=1.10.0 in /opt/conda/lib/python3.11/site-packages (from accelerate) (2.5.0+cu118)\n",
      "Requirement already satisfied: aiohappyeyeballs>=2.3.0 in /opt/conda/lib/python3.11/site-packages (from aiohttp->datasets) (2.4.4)\n",
      "Requirement already satisfied: aiosignal>=1.1.2 in /opt/conda/lib/python3.11/site-packages (from aiohttp->datasets) (1.3.2)\n",
      "Requirement already satisfied: attrs>=17.3.0 in /opt/conda/lib/python3.11/site-packages (from aiohttp->datasets) (24.2.0)\n",
      "Requirement already satisfied: frozenlist>=1.1.1 in /opt/conda/lib/python3.11/site-packages (from aiohttp->datasets) (1.5.0)\n",
      "Requirement already satisfied: multidict<7.0,>=4.5 in /opt/conda/lib/python3.11/site-packages (from aiohttp->datasets) (6.1.0)\n",
      "Requirement already satisfied: propcache>=0.2.0 in /opt/conda/lib/python3.11/site-packages (from aiohttp->datasets) (0.2.1)\n",
      "Requirement already satisfied: yarl<2.0,>=1.17.0 in /opt/conda/lib/python3.11/site-packages (from aiohttp->datasets) (1.18.3)\n",
      "Requirement already satisfied: typing-extensions>=3.7.4.3 in /opt/conda/lib/python3.11/site-packages (from huggingface-hub<1.0,>=0.24.0->transformers) (4.12.2)\n",
      "Requirement already satisfied: charset-normalizer<4,>=2 in /opt/conda/lib/python3.11/site-packages (from requests->transformers) (3.4.0)\n",
      "Requirement already satisfied: idna<4,>=2.5 in /opt/conda/lib/python3.11/site-packages (from requests->transformers) (3.10)\n",
      "Requirement already satisfied: urllib3<3,>=1.21.1 in /opt/conda/lib/python3.11/site-packages (from requests->transformers) (2.2.3)\n",
      "Requirement already satisfied: certifi>=2017.4.17 in /opt/conda/lib/python3.11/site-packages (from requests->transformers) (2024.8.30)\n",
      "Requirement already satisfied: networkx in /opt/conda/lib/python3.11/site-packages (from torch>=1.10.0->accelerate) (3.4.2)\n",
      "Requirement already satisfied: jinja2 in /opt/conda/lib/python3.11/site-packages (from torch>=1.10.0->accelerate) (3.1.4)\n",
      "Requirement already satisfied: nvidia-cuda-nvrtc-cu11==11.8.89 in /opt/conda/lib/python3.11/site-packages (from torch>=1.10.0->accelerate) (11.8.89)\n",
      "Requirement already satisfied: nvidia-cuda-runtime-cu11==11.8.89 in /opt/conda/lib/python3.11/site-packages (from torch>=1.10.0->accelerate) (11.8.89)\n",
      "Requirement already satisfied: nvidia-cuda-cupti-cu11==11.8.87 in /opt/conda/lib/python3.11/site-packages (from torch>=1.10.0->accelerate) (11.8.87)\n",
      "Requirement already satisfied: nvidia-cudnn-cu11==9.1.0.70 in /opt/conda/lib/python3.11/site-packages (from torch>=1.10.0->accelerate) (9.1.0.70)\n",
      "Requirement already satisfied: nvidia-cublas-cu11==11.11.3.6 in /opt/conda/lib/python3.11/site-packages (from torch>=1.10.0->accelerate) (11.11.3.6)\n",
      "Requirement already satisfied: nvidia-cufft-cu11==10.9.0.58 in /opt/conda/lib/python3.11/site-packages (from torch>=1.10.0->accelerate) (10.9.0.58)\n",
      "Requirement already satisfied: nvidia-curand-cu11==10.3.0.86 in /opt/conda/lib/python3.11/site-packages (from torch>=1.10.0->accelerate) (10.3.0.86)\n",
      "Requirement already satisfied: nvidia-cusolver-cu11==11.4.1.48 in /opt/conda/lib/python3.11/site-packages (from torch>=1.10.0->accelerate) (11.4.1.48)\n",
      "Requirement already satisfied: nvidia-cusparse-cu11==11.7.5.86 in /opt/conda/lib/python3.11/site-packages (from torch>=1.10.0->accelerate) (11.7.5.86)\n",
      "Requirement already satisfied: nvidia-nccl-cu11==2.21.5 in /opt/conda/lib/python3.11/site-packages (from torch>=1.10.0->accelerate) (2.21.5)\n",
      "Requirement already satisfied: nvidia-nvtx-cu11==11.8.86 in /opt/conda/lib/python3.11/site-packages (from torch>=1.10.0->accelerate) (11.8.86)\n",
      "Requirement already satisfied: triton==3.1.0 in /opt/conda/lib/python3.11/site-packages (from torch>=1.10.0->accelerate) (3.1.0)\n",
      "Requirement already satisfied: sympy==1.13.1 in /opt/conda/lib/python3.11/site-packages (from torch>=1.10.0->accelerate) (1.13.1)\n",
      "Requirement already satisfied: mpmath<1.4,>=1.1.0 in /opt/conda/lib/python3.11/site-packages (from sympy==1.13.1->torch>=1.10.0->accelerate) (1.3.0)\n",
      "Requirement already satisfied: python-dateutil>=2.8.2 in /opt/conda/lib/python3.11/site-packages (from pandas->datasets) (2.9.0)\n",
      "Requirement already satisfied: pytz>=2020.1 in /opt/conda/lib/python3.11/site-packages (from pandas->datasets) (2024.1)\n",
      "Requirement already satisfied: tzdata>=2022.7 in /opt/conda/lib/python3.11/site-packages (from pandas->datasets) (2024.2)\n",
      "Requirement already satisfied: six>=1.5 in /opt/conda/lib/python3.11/site-packages (from python-dateutil>=2.8.2->pandas->datasets) (1.16.0)\n",
      "Requirement already satisfied: MarkupSafe>=2.0 in /opt/conda/lib/python3.11/site-packages (from jinja2->torch>=1.10.0->accelerate) (3.0.2)\n",
      "Requirement already satisfied: librosa in /opt/conda/lib/python3.11/site-packages (0.10.2.post1)\n",
      "Requirement already satisfied: audioread>=2.1.9 in /opt/conda/lib/python3.11/site-packages (from librosa) (3.0.1)\n",
      "Requirement already satisfied: numpy!=1.22.0,!=1.22.1,!=1.22.2,>=1.20.3 in /opt/conda/lib/python3.11/site-packages (from librosa) (2.0.2)\n",
      "Requirement already satisfied: scipy>=1.2.0 in /opt/conda/lib/python3.11/site-packages (from librosa) (1.14.1)\n",
      "Requirement already satisfied: scikit-learn>=0.20.0 in /opt/conda/lib/python3.11/site-packages (from librosa) (1.5.2)\n",
      "Requirement already satisfied: joblib>=0.14 in /opt/conda/lib/python3.11/site-packages (from librosa) (1.4.2)\n",
      "Requirement already satisfied: decorator>=4.3.0 in /opt/conda/lib/python3.11/site-packages (from librosa) (5.1.1)\n",
      "Requirement already satisfied: numba>=0.51.0 in /opt/conda/lib/python3.11/site-packages (from librosa) (0.60.0)\n",
      "Requirement already satisfied: soundfile>=0.12.1 in /opt/conda/lib/python3.11/site-packages (from librosa) (0.13.0)\n",
      "Requirement already satisfied: pooch>=1.1 in /opt/conda/lib/python3.11/site-packages (from librosa) (1.8.2)\n",
      "Requirement already satisfied: soxr>=0.3.2 in /opt/conda/lib/python3.11/site-packages (from librosa) (0.5.0.post1)\n",
      "Requirement already satisfied: typing-extensions>=4.1.1 in /opt/conda/lib/python3.11/site-packages (from librosa) (4.12.2)\n",
      "Requirement already satisfied: lazy-loader>=0.1 in /opt/conda/lib/python3.11/site-packages (from librosa) (0.4)\n",
      "Requirement already satisfied: msgpack>=1.0 in /opt/conda/lib/python3.11/site-packages (from librosa) (1.1.0)\n",
      "Requirement already satisfied: packaging in /opt/conda/lib/python3.11/site-packages (from lazy-loader>=0.1->librosa) (24.1)\n",
      "Requirement already satisfied: llvmlite<0.44,>=0.43.0dev0 in /opt/conda/lib/python3.11/site-packages (from numba>=0.51.0->librosa) (0.43.0)\n",
      "Requirement already satisfied: platformdirs>=2.5.0 in /opt/conda/lib/python3.11/site-packages (from pooch>=1.1->librosa) (4.3.6)\n",
      "Requirement already satisfied: requests>=2.19.0 in /opt/conda/lib/python3.11/site-packages (from pooch>=1.1->librosa) (2.32.3)\n",
      "Requirement already satisfied: threadpoolctl>=3.1.0 in /opt/conda/lib/python3.11/site-packages (from scikit-learn>=0.20.0->librosa) (3.5.0)\n",
      "Requirement already satisfied: cffi>=1.0 in /opt/conda/lib/python3.11/site-packages (from soundfile>=0.12.1->librosa) (1.17.1)\n",
      "Requirement already satisfied: pycparser in /opt/conda/lib/python3.11/site-packages (from cffi>=1.0->soundfile>=0.12.1->librosa) (2.22)\n",
      "Requirement already satisfied: charset-normalizer<4,>=2 in /opt/conda/lib/python3.11/site-packages (from requests>=2.19.0->pooch>=1.1->librosa) (3.4.0)\n",
      "Requirement already satisfied: idna<4,>=2.5 in /opt/conda/lib/python3.11/site-packages (from requests>=2.19.0->pooch>=1.1->librosa) (3.10)\n",
      "Requirement already satisfied: urllib3<3,>=1.21.1 in /opt/conda/lib/python3.11/site-packages (from requests>=2.19.0->pooch>=1.1->librosa) (2.2.3)\n",
      "Requirement already satisfied: certifi>=2017.4.17 in /opt/conda/lib/python3.11/site-packages (from requests>=2.19.0->pooch>=1.1->librosa) (2024.8.30)\n"
     ]
    }
   ],
   "source": [
    "!pip install transformers datasets accelerate\n",
    "!pip install librosa"
   ]
  },
  {
   "cell_type": "code",
   "execution_count": 2,
   "metadata": {
    "id": "xNABfsS01o_M"
   },
   "outputs": [],
   "source": [
    "from transformers import AutoFeatureExtractor, ASTForAudioClassification, AutoModelForAudioClassification\n",
    "from datasets import load_dataset, Dataset\n",
    "import torch\n",
    "import sklearn\n",
    "import json, os, time, glob\n",
    "\n",
    "import numpy as np\n",
    "import librosa\n",
    "from collections import defaultdict\n",
    "from pprint import pprint\n",
    "\n",
    "from transformers import Trainer\n",
    "\n",
    "import sklearn.metrics as skm\n",
    "from sklearn.model_selection import train_test_split\n",
    "from sklearn.utils.class_weight import compute_class_weight\n",
    "from sklearn.metrics import classification_report, confusion_matrix\n",
    "import torch.nn as nn\n",
    "import matplotlib.pyplot as plt\n",
    "import seaborn as sns\n",
    "\n",
    "import random"
   ]
  },
  {
   "cell_type": "code",
   "execution_count": 3,
   "metadata": {
    "colab": {
     "base_uri": "https://localhost:8080/"
    },
    "id": "XUy3UIkd0QIW",
    "outputId": "e9e80e90-fd20-4b7c-89e4-57a14c0de153"
   },
   "outputs": [
    {
     "data": {
      "text/plain": [
       "['../../../data/16k_data/training.npz', '../../../data/16k_data/meta.json']"
      ]
     },
     "execution_count": 3,
     "metadata": {},
     "output_type": "execute_result"
    }
   ],
   "source": [
    "data_path = \"../../../data/16k_data\"\n",
    "glob.glob(data_path + '/**')"
   ]
  },
  {
   "cell_type": "code",
   "execution_count": 4,
   "metadata": {
    "colab": {
     "base_uri": "https://localhost:8080/"
    },
    "id": "pwlCcdVzsLES",
    "outputId": "49582e1c-6499-4db3-f3a1-b808ae30f4a9"
   },
   "outputs": [
    {
     "name": "stdout",
     "output_type": "stream",
     "text": [
      "{'labelfile': 'project-6-at-2024-11-23-15-47-9e286610.json',\n",
      " 'labels': {'Boring': 4,\n",
      "            'Celebration': 3,\n",
      "            'Chanting/Singing': 0,\n",
      "            'Disappointment': 2,\n",
      "            'Excitement': 1},\n",
      " 'sample_rate': 16000,\n",
      " 'snippet_sec': 1,\n",
      " 'sources': ['HKvsBHUTAN001.wav',\n",
      "             'HKvsBHUTAN002.wav',\n",
      "             'HKvsBRUNEI.wav',\n",
      "             '2023716VS.wav',\n",
      "             '1ExcitementDisappointment.MP3.wav',\n",
      "             '2ExcitementCelebration.MP3.wav',\n",
      "             '3Boring.MP3.wav',\n",
      "             'Boring_001.wav',\n",
      "             'Celebration_001.MP3.wav',\n",
      "             'Celebration_002.MP3.wav',\n",
      "             'Combine.MP3.wav',\n",
      "             'Disappointment_001.wav',\n",
      "             'Disappointment_002.wav',\n",
      "             'Excitement_001.MP3.wav',\n",
      "             'HongKongvsSingaporeInternationalFriendlyMongkokStadium.wav',\n",
      "             'test.MP3.wav']}\n"
     ]
    }
   ],
   "source": [
    "arrays = np.load(f'{data_path}/training.npz')\n",
    "meta = json.load(open(f'{data_path}/meta.json', 'r'))\n",
    "\n",
    "pprint(meta)"
   ]
  },
  {
   "cell_type": "markdown",
   "metadata": {},
   "source": [
    "## Data augmentation"
   ]
  },
  {
   "cell_type": "code",
   "execution_count": 5,
   "metadata": {},
   "outputs": [],
   "source": [
    "# Beispiel für Data Augmentation auf einem Audiodatensatz\n",
    "def add_noise(audio, noise_factor=0.005):\n",
    "    noise = np.random.randn(len(audio)) * noise_factor\n",
    "    augmented_audio = audio + noise\n",
    "    return np.clip(augmented_audio, -1.0, 1.0)  # Clips the audio between -1 and 1\n",
    "\n",
    "def pitch_shift(audio, sr, shift=2):\n",
    "    return librosa.effects.pitch_shift(audio, sr=sr, n_steps=shift)\n",
    "\n",
    "def time_stretch(audio, rate=1.1):\n",
    "    return librosa.effects.time_stretch(audio, rate=rate)\n",
    "\n",
    "# Beispiel eines Augmentierungsprozesses\n",
    "def augment_audio(audio, sr):\n",
    "    augmentation_type = random.choice(['noise', 'pitch', 'stretch'])\n",
    "    \n",
    "    if augmentation_type == 'noise':\n",
    "        return add_noise(audio)\n",
    "    elif augmentation_type == 'pitch':\n",
    "        return pitch_shift(audio, sr)\n",
    "    elif augmentation_type == 'stretch':\n",
    "        return time_stretch(audio)\n",
    "    \n",
    "    return audio\n"
   ]
  },
  {
   "cell_type": "markdown",
   "metadata": {},
   "source": [
    "## Model"
   ]
  },
  {
   "cell_type": "code",
   "execution_count": 6,
   "metadata": {
    "colab": {
     "base_uri": "https://localhost:8080/"
    },
    "id": "Kxbe3ofQx-8W",
    "outputId": "36f2e173-9b2e-479f-ca30-8ff5d0637b7e"
   },
   "outputs": [
    {
     "name": "stderr",
     "output_type": "stream",
     "text": [
      "Some weights of ASTForAudioClassification were not initialized from the model checkpoint at MIT/ast-finetuned-audioset-10-10-0.4593 and are newly initialized because the shapes did not match:\n",
      "- classifier.dense.bias: found shape torch.Size([527]) in the checkpoint and torch.Size([5]) in the model instantiated\n",
      "- classifier.dense.weight: found shape torch.Size([527, 768]) in the checkpoint and torch.Size([5, 768]) in the model instantiated\n",
      "You should probably TRAIN this model on a down-stream task to be able to use it for predictions and inference.\n"
     ]
    }
   ],
   "source": [
    "model_name = \"MIT/ast-finetuned-audioset-10-10-0.4593\"\n",
    "device = 'cuda'\n",
    "\n",
    "feature_extractor = AutoFeatureExtractor.from_pretrained(model_name)\n",
    "model2train = AutoModelForAudioClassification.from_pretrained(\n",
    "    model_name,\n",
    "    num_labels = len(meta['labels']),\n",
    "    label2id = meta['labels'],\n",
    "    id2label = {v:k for k,v in meta['labels'].items()},\n",
    "    ignore_mismatched_sizes = True\n",
    ")"
   ]
  },
  {
   "cell_type": "code",
   "execution_count": 7,
   "metadata": {},
   "outputs": [],
   "source": [
    "preprocessed_audio = feature_extractor(\n",
    "    arrays['X'],\n",
    "    sampling_rate = meta['sample_rate'],\n",
    "    return_tensors = \"pt\"\n",
    ")"
   ]
  },
  {
   "cell_type": "code",
   "execution_count": 8,
   "metadata": {},
   "outputs": [],
   "source": [
    "import numpy as np\n",
    "import torch\n",
    "from datasets import Dataset\n",
    "\n",
    "def process_and_augment_dataset(arrays, meta, feature_extractor, n_augments=5):\n",
    "    augmented_audio_data = []\n",
    "    augmented_labels = []  # Leere Liste für augmentierte Labels\n",
    "    \n",
    "    sr = meta['sample_rate']\n",
    "    \n",
    "    for i, audio in enumerate(arrays['X']):\n",
    "        # Originale Daten hinzufügen\n",
    "        preprocessed_audio = feature_extractor(\n",
    "            audio,\n",
    "            sampling_rate=sr,\n",
    "            return_tensors=\"pt\"\n",
    "        )\n",
    "        augmented_audio_data.append(preprocessed_audio['input_values'])\n",
    "        augmented_labels.append(arrays['y'][i])  # Originales Label\n",
    "        \n",
    "        # N-fache Augmentierung durchführen\n",
    "        for _ in range(n_augments):\n",
    "            # Augmentierung auf rohen Audiodaten anwenden\n",
    "            augmented_audio = augment_audio(audio, sr)\n",
    "            \n",
    "            # Feature-Extraktion nach der Augmentierung\n",
    "            preprocessed_audio = feature_extractor(\n",
    "                augmented_audio,\n",
    "                sampling_rate=sr,\n",
    "                return_tensors=\"pt\"\n",
    "            )\n",
    "            \n",
    "            augmented_audio_data.append(preprocessed_audio['input_values'])\n",
    "            augmented_labels.append(arrays['y'][i])  # Augmentiertes Label\n",
    "    \n",
    "    # Alle augmentierten Eingabewerte kombinieren\n",
    "    input_values = torch.cat(augmented_audio_data, dim=0)\n",
    "    \n",
    "    # Dataset mit den augmentierten Eingabewerten und Labels erstellen\n",
    "    hf_dataset = Dataset.from_dict({\n",
    "        \"input_values\": input_values.numpy(),  # In NumPy-Array umwandeln\n",
    "        \"label\": np.array(augmented_labels)  # Labels als NumPy-Array\n",
    "    })\n",
    "\n",
    "    return hf_dataset"
   ]
  },
  {
   "cell_type": "code",
   "execution_count": 9,
   "metadata": {},
   "outputs": [],
   "source": [
    "hf_dataset = process_and_augment_dataset(arrays, meta, feature_extractor, 1) \n",
    "# bei <1 entstehen eventuell duplikate"
   ]
  },
  {
   "cell_type": "code",
   "execution_count": 10,
   "metadata": {},
   "outputs": [
    {
     "data": {
      "text/plain": [
       "Dataset({\n",
       "    features: ['input_values', 'label'],\n",
       "    num_rows: 1812\n",
       "})"
      ]
     },
     "execution_count": 10,
     "metadata": {},
     "output_type": "execute_result"
    }
   ],
   "source": [
    "hf_dataset"
   ]
  },
  {
   "cell_type": "code",
   "execution_count": 11,
   "metadata": {
    "id": "d_xRYUVBzF8o"
   },
   "outputs": [],
   "source": [
    "# preprocessed_audio = feature_extractor(\n",
    "#     arrays['X'],\n",
    "#     sampling_rate = meta['sample_rate'],\n",
    "#     return_tensors = \"pt\"\n",
    "# )\n",
    "\n",
    "# hf_dataset = Dataset.from_dict({\n",
    "#     \"input_values\": preprocessed_audio['input_values'],\n",
    "#     \"label\": arrays['y'],\n",
    "# })"
   ]
  },
  {
   "cell_type": "code",
   "execution_count": 12,
   "metadata": {
    "colab": {
     "base_uri": "https://localhost:8080/"
    },
    "id": "IX6Ft98h7nDj",
    "outputId": "cdd7d9c2-cb7c-4bc2-9651-0555e4904710"
   },
   "outputs": [
    {
     "name": "stdout",
     "output_type": "stream",
     "text": [
      "Fold 0:\n",
      "  Train: source={np.int64(2), np.int64(3), np.int64(4), np.int64(6), np.int64(7), np.int64(8), np.int64(9), np.int64(10), np.int64(11), np.int64(12), np.int64(13), np.int64(15)}\n",
      "  Test:  source={np.int64(0), np.int64(1), np.int64(5), np.int64(14)}\n",
      "Fold 1:\n",
      "  Train: source={np.int64(0), np.int64(1), np.int64(3), np.int64(4), np.int64(5), np.int64(7), np.int64(9), np.int64(10), np.int64(11), np.int64(12), np.int64(14), np.int64(15)}\n",
      "  Test:  source={np.int64(8), np.int64(2), np.int64(13), np.int64(6)}\n",
      "Fold 2:\n",
      "  Train: source={np.int64(0), np.int64(2), np.int64(3), np.int64(4), np.int64(6), np.int64(7), np.int64(9), np.int64(10), np.int64(11), np.int64(12), np.int64(14), np.int64(15)}\n",
      "  Test:  source={np.int64(8), np.int64(1), np.int64(13), np.int64(5)}\n",
      "Fold 3:\n",
      "  Train: source={np.int64(1), np.int64(3), np.int64(4), np.int64(6), np.int64(7), np.int64(8), np.int64(9), np.int64(10), np.int64(11), np.int64(12), np.int64(13), np.int64(15)}\n",
      "  Test:  source={np.int64(0), np.int64(2), np.int64(5), np.int64(14)}\n",
      "Fold 4:\n",
      "  Train: source={np.int64(0), np.int64(1), np.int64(2), np.int64(3), np.int64(5), np.int64(6), np.int64(7), np.int64(8), np.int64(9), np.int64(11), np.int64(12), np.int64(13)}\n",
      "  Test:  source={np.int64(10), np.int64(4), np.int64(14), np.int64(15)}\n",
      "Fold 5:\n",
      "  Train: source={np.int64(0), np.int64(1), np.int64(3), np.int64(5), np.int64(6), np.int64(7), np.int64(9), np.int64(10), np.int64(11), np.int64(13), np.int64(14), np.int64(15)}\n",
      "  Test:  source={np.int64(8), np.int64(2), np.int64(4), np.int64(12)}\n",
      "Fold 6:\n",
      "  Train: source={np.int64(0), np.int64(1), np.int64(4), np.int64(5), np.int64(6), np.int64(7), np.int64(8), np.int64(9), np.int64(10), np.int64(11), np.int64(12), np.int64(15)}\n",
      "  Test:  source={np.int64(2), np.int64(3), np.int64(13), np.int64(14)}\n",
      "Fold 7:\n",
      "  Train: source={np.int64(0), np.int64(1), np.int64(2), np.int64(3), np.int64(4), np.int64(6), np.int64(7), np.int64(8), np.int64(10), np.int64(12), np.int64(14), np.int64(15)}\n",
      "  Test:  source={np.int64(9), np.int64(13), np.int64(11), np.int64(5)}\n",
      "Fold 8:\n",
      "  Train: source={np.int64(0), np.int64(2), np.int64(4), np.int64(5), np.int64(6), np.int64(7), np.int64(9), np.int64(10), np.int64(12), np.int64(13), np.int64(14), np.int64(15)}\n",
      "  Test:  source={np.int64(8), np.int64(1), np.int64(3), np.int64(11)}\n",
      "Fold 9:\n",
      "  Train: source={np.int64(0), np.int64(2), np.int64(3), np.int64(4), np.int64(6), np.int64(7), np.int64(8), np.int64(9), np.int64(10), np.int64(11), np.int64(14), np.int64(15)}\n",
      "  Test:  source={np.int64(1), np.int64(13), np.int64(12), np.int64(5)}\n"
     ]
    }
   ],
   "source": [
    "from sklearn.model_selection import GroupShuffleSplit\n",
    "\n",
    "gss = GroupShuffleSplit(n_splits=10, train_size=.8, random_state=42)\n",
    "gss.get_n_splits()\n",
    "\n",
    "for i, (train_index, test_index) in enumerate(gss.split(**arrays)):\n",
    "    print(f\"Fold {i}:\")\n",
    "    print(f\"  Train: source={set(arrays['groups'][train_index])}\")\n",
    "    print(f\"  Test:  source={set(arrays['groups'][test_index])}\")"
   ]
  },
  {
   "cell_type": "code",
   "execution_count": 13,
   "metadata": {
    "id": "Rds1eVlmJ1JX"
   },
   "outputs": [],
   "source": [
    "import transformers\n",
    "\n",
    "batch_size = 8\n",
    "args = transformers.TrainingArguments(\n",
    "    f'{model_name.split(\"/\")[-1]}-ft_stadium',\n",
    "\n",
    "    learning_rate=1e-5,\n",
    "    warmup_ratio=0.1,\n",
    "\n",
    "\n",
    "    eval_strategy = \"steps\",\n",
    "    eval_steps = 10,\n",
    "    logging_steps=10,\n",
    "\n",
    "    save_strategy = \"epoch\",\n",
    "    per_device_train_batch_size=batch_size,\n",
    "    per_device_eval_batch_size=batch_size,\n",
    "\n",
    "    gradient_accumulation_steps=4,\n",
    "    num_train_epochs=5,\n",
    "    load_best_model_at_end=False,\n",
    "    push_to_hub=False,\n",
    ")"
   ]
  },
  {
   "cell_type": "code",
   "execution_count": 14,
   "metadata": {
    "id": "WAsBn_m2AhDd"
   },
   "outputs": [],
   "source": [
    "# select one train test split\n",
    "(train_index, test_index) = next(gss.split(**arrays))"
   ]
  },
  {
   "cell_type": "code",
   "execution_count": 15,
   "metadata": {
    "id": "ZFOICznaQDka"
   },
   "outputs": [],
   "source": [
    "train_ds = hf_dataset.select(train_index)"
   ]
  },
  {
   "cell_type": "code",
   "execution_count": 16,
   "metadata": {},
   "outputs": [],
   "source": [
    "class CustomTrainer(Trainer):\n",
    "    def __init__(self, *args, class_weights=None, **kwargs):\n",
    "        super().__init__(*args, **kwargs)\n",
    "        self.class_weights = class_weights\n",
    "\n",
    "    def compute_loss(self, model, inputs, return_outputs=False, **kwargs):\n",
    "        labels = inputs.pop(\"labels\").to(torch.long)  # Labels in int64 konvertieren\n",
    "        outputs = model(**inputs)\n",
    "        logits = outputs.logits.to(torch.float32)  # Logits in float32 konvertieren\n",
    "\n",
    "        # Loss-function with class weights\n",
    "        loss_fn = nn.CrossEntropyLoss(weight=self.class_weights)\n",
    "        loss = loss_fn(logits, labels)\n",
    "\n",
    "        return (loss, outputs) if return_outputs else loss\n",
    "\n",
    "    def compute_metrics(pred):\n",
    "        labels = pred.label_ids\n",
    "        preds = pred.predictions.argmax(-1)\n",
    "        \n",
    "        metrics = {\n",
    "            'accuracy': skm.accuracy_score(labels, preds),\n",
    "            'macro_f1': skm.f1_score(labels, preds, average='macro'),\n",
    "            'weighted_f1': skm.f1_score(labels, preds, average='weighted')\n",
    "        }\n",
    "        \n",
    "        return metrics"
   ]
  },
  {
   "cell_type": "code",
   "execution_count": 17,
   "metadata": {},
   "outputs": [
    {
     "name": "stdout",
     "output_type": "stream",
     "text": [
      "Class Weights: tensor([0.4897, 1.8875, 3.0200, 2.1318, 0.6142], device='cuda:0')\n"
     ]
    }
   ],
   "source": [
    "class_weights = compute_class_weight(\n",
    "    class_weight=\"balanced\",  \n",
    "    classes=np.unique( hf_dataset['label']),  \n",
    "    y= hf_dataset['label']\n",
    ")\n",
    "class_weights = torch.tensor(class_weights, dtype=torch.float32).to(device)\n",
    "print(\"Class Weights:\", class_weights)"
   ]
  },
  {
   "cell_type": "code",
   "execution_count": 18,
   "metadata": {},
   "outputs": [],
   "source": [
    "trainer = CustomTrainer(\n",
    "    model=model2train,\n",
    "    args=args,\n",
    "    train_dataset=hf_dataset.select(train_index),\n",
    "    eval_dataset=hf_dataset.select(test_index),\n",
    "    processing_class = feature_extractor, #tokenizer=feature_extractor,\n",
    "    class_weights=class_weights,\n",
    "    compute_metrics=CustomTrainer.compute_metrics\n",
    ")"
   ]
  },
  {
   "cell_type": "code",
   "execution_count": 19,
   "metadata": {
    "colab": {
     "base_uri": "https://localhost:8080/",
     "height": 273
    },
    "id": "yQOp_E0HSfGG",
    "outputId": "8463ff6e-c7c3-4e80-8bf9-4a3ca350b30c"
   },
   "outputs": [
    {
     "data": {
      "text/html": [
       "\n",
       "    <div>\n",
       "      \n",
       "      <progress value='105' max='105' style='width:300px; height:20px; vertical-align: middle;'></progress>\n",
       "      [105/105 07:15, Epoch 4/5]\n",
       "    </div>\n",
       "    <table border=\"1\" class=\"dataframe\">\n",
       "  <thead>\n",
       " <tr style=\"text-align: left;\">\n",
       "      <th>Step</th>\n",
       "      <th>Training Loss</th>\n",
       "      <th>Validation Loss</th>\n",
       "      <th>Accuracy</th>\n",
       "      <th>Macro F1</th>\n",
       "      <th>Weighted F1</th>\n",
       "    </tr>\n",
       "  </thead>\n",
       "  <tbody>\n",
       "    <tr>\n",
       "      <td>10</td>\n",
       "      <td>5.805800</td>\n",
       "      <td>1.168364</td>\n",
       "      <td>0.563319</td>\n",
       "      <td>0.154343</td>\n",
       "      <td>0.415050</td>\n",
       "    </tr>\n",
       "    <tr>\n",
       "      <td>20</td>\n",
       "      <td>4.189400</td>\n",
       "      <td>1.052081</td>\n",
       "      <td>0.585153</td>\n",
       "      <td>0.389215</td>\n",
       "      <td>0.639592</td>\n",
       "    </tr>\n",
       "    <tr>\n",
       "      <td>30</td>\n",
       "      <td>2.344500</td>\n",
       "      <td>0.786789</td>\n",
       "      <td>0.737991</td>\n",
       "      <td>0.487858</td>\n",
       "      <td>0.746237</td>\n",
       "    </tr>\n",
       "    <tr>\n",
       "      <td>40</td>\n",
       "      <td>1.823000</td>\n",
       "      <td>0.722734</td>\n",
       "      <td>0.746725</td>\n",
       "      <td>0.510113</td>\n",
       "      <td>0.759124</td>\n",
       "    </tr>\n",
       "    <tr>\n",
       "      <td>50</td>\n",
       "      <td>1.077500</td>\n",
       "      <td>0.733890</td>\n",
       "      <td>0.733624</td>\n",
       "      <td>0.503304</td>\n",
       "      <td>0.750394</td>\n",
       "    </tr>\n",
       "    <tr>\n",
       "      <td>60</td>\n",
       "      <td>0.737200</td>\n",
       "      <td>0.742730</td>\n",
       "      <td>0.737991</td>\n",
       "      <td>0.514355</td>\n",
       "      <td>0.750382</td>\n",
       "    </tr>\n",
       "    <tr>\n",
       "      <td>70</td>\n",
       "      <td>0.508000</td>\n",
       "      <td>0.691092</td>\n",
       "      <td>0.764192</td>\n",
       "      <td>0.542670</td>\n",
       "      <td>0.772018</td>\n",
       "    </tr>\n",
       "    <tr>\n",
       "      <td>80</td>\n",
       "      <td>0.449400</td>\n",
       "      <td>0.712200</td>\n",
       "      <td>0.746725</td>\n",
       "      <td>0.514487</td>\n",
       "      <td>0.761118</td>\n",
       "    </tr>\n",
       "    <tr>\n",
       "      <td>90</td>\n",
       "      <td>0.290200</td>\n",
       "      <td>0.679689</td>\n",
       "      <td>0.746725</td>\n",
       "      <td>0.534335</td>\n",
       "      <td>0.756231</td>\n",
       "    </tr>\n",
       "    <tr>\n",
       "      <td>100</td>\n",
       "      <td>0.250500</td>\n",
       "      <td>0.701021</td>\n",
       "      <td>0.751092</td>\n",
       "      <td>0.530744</td>\n",
       "      <td>0.762475</td>\n",
       "    </tr>\n",
       "  </tbody>\n",
       "</table><p>"
      ],
      "text/plain": [
       "<IPython.core.display.HTML object>"
      ]
     },
     "metadata": {},
     "output_type": "display_data"
    },
    {
     "data": {
      "text/plain": [
       "TrainOutput(global_step=105, training_loss=1.6723226677803766, metrics={'train_runtime': 438.7772, 'train_samples_per_second': 7.715, 'train_steps_per_second': 0.239, 'total_flos': 2.2043569543446528e+17, 'train_loss': 1.6723226677803766, 'epoch': 4.8})"
      ]
     },
     "execution_count": 19,
     "metadata": {},
     "output_type": "execute_result"
    }
   ],
   "source": [
    "trainer.train()"
   ]
  },
  {
   "cell_type": "code",
   "execution_count": 20,
   "metadata": {
    "colab": {
     "base_uri": "https://localhost:8080/",
     "height": 37
    },
    "id": "QhDpdSe7ooI5",
    "outputId": "fd633c38-d42f-46a5-8cd2-b02802976ed0"
   },
   "outputs": [
    {
     "data": {
      "text/html": [],
      "text/plain": [
       "<IPython.core.display.HTML object>"
      ]
     },
     "metadata": {},
     "output_type": "display_data"
    }
   ],
   "source": [
    "pred = trainer.predict(hf_dataset.select(test_index))"
   ]
  },
  {
   "cell_type": "code",
   "execution_count": 21,
   "metadata": {
    "colab": {
     "base_uri": "https://localhost:8080/",
     "height": 677
    },
    "id": "zXhFXxzrp91v",
    "outputId": "f81d6046-4244-49f2-e443-36498748bdc1"
   },
   "outputs": [
    {
     "name": "stdout",
     "output_type": "stream",
     "text": [
      "              precision    recall  f1-score   support\n",
      "\n",
      "           0       0.89      0.80      0.84       128\n",
      "           1       0.25      0.83      0.38         6\n",
      "           2       0.00      0.00      0.00         4\n",
      "           3       0.91      0.70      0.79        44\n",
      "           4       0.54      0.70      0.61        47\n",
      "\n",
      "    accuracy                           0.75       229\n",
      "   macro avg       0.52      0.61      0.53       229\n",
      "weighted avg       0.79      0.75      0.76       229\n",
      "\n"
     ]
    },
    {
     "name": "stderr",
     "output_type": "stream",
     "text": [
      "/opt/conda/lib/python3.11/site-packages/sklearn/metrics/_classification.py:1531: UndefinedMetricWarning: Precision is ill-defined and being set to 0.0 in labels with no predicted samples. Use `zero_division` parameter to control this behavior.\n",
      "  _warn_prf(average, modifier, f\"{metric.capitalize()} is\", len(result))\n",
      "/opt/conda/lib/python3.11/site-packages/sklearn/metrics/_classification.py:1531: UndefinedMetricWarning: Precision is ill-defined and being set to 0.0 in labels with no predicted samples. Use `zero_division` parameter to control this behavior.\n",
      "  _warn_prf(average, modifier, f\"{metric.capitalize()} is\", len(result))\n",
      "/opt/conda/lib/python3.11/site-packages/sklearn/metrics/_classification.py:1531: UndefinedMetricWarning: Precision is ill-defined and being set to 0.0 in labels with no predicted samples. Use `zero_division` parameter to control this behavior.\n",
      "  _warn_prf(average, modifier, f\"{metric.capitalize()} is\", len(result))\n"
     ]
    },
    {
     "data": {
      "image/png": "[encoded data removed]",
      "text/plain": [
       "<Figure size 640x480 with 2 Axes>"
      ]
     },
     "metadata": {},
     "output_type": "display_data"
    }
   ],
   "source": [
    "cmd = skm.ConfusionMatrixDisplay(\n",
    "    skm.confusion_matrix(pred.label_ids, pred.predictions.argmax(1)),\n",
    "    display_labels = meta.get('labels').keys()\n",
    ")\n",
    "cmd.plot()\n",
    "\n",
    "print(skm.classification_report(pred.label_ids, pred.predictions.argmax(1)))"
   ]
  },
  {
   "cell_type": "code",
   "execution_count": 22,
   "metadata": {},
   "outputs": [],
   "source": [
    "id2label = {v:k for k,v in meta['labels'].items()}"
   ]
  },
  {
   "cell_type": "code",
   "execution_count": 23,
   "metadata": {
    "id": "ArNQkLjeWrFO"
   },
   "outputs": [
    {
     "name": "stdout",
     "output_type": "stream",
     "text": [
      "              precision    recall  f1-score   support\n",
      "\n",
      "           0       0.89      0.80      0.84       128\n",
      "           1       0.25      0.83      0.38         6\n",
      "           2       0.00      0.00      0.00         4\n",
      "           3       0.91      0.70      0.79        44\n",
      "           4       0.54      0.70      0.61        47\n",
      "\n",
      "    accuracy                           0.75       229\n",
      "   macro avg       0.52      0.61      0.53       229\n",
      "weighted avg       0.79      0.75      0.76       229\n",
      "\n"
     ]
    },
    {
     "name": "stderr",
     "output_type": "stream",
     "text": [
      "/opt/conda/lib/python3.11/site-packages/sklearn/metrics/_classification.py:1531: UndefinedMetricWarning: Precision is ill-defined and being set to 0.0 in labels with no predicted samples. Use `zero_division` parameter to control this behavior.\n",
      "  _warn_prf(average, modifier, f\"{metric.capitalize()} is\", len(result))\n",
      "/opt/conda/lib/python3.11/site-packages/sklearn/metrics/_classification.py:1531: UndefinedMetricWarning: Precision is ill-defined and being set to 0.0 in labels with no predicted samples. Use `zero_division` parameter to control this behavior.\n",
      "  _warn_prf(average, modifier, f\"{metric.capitalize()} is\", len(result))\n",
      "/opt/conda/lib/python3.11/site-packages/sklearn/metrics/_classification.py:1531: UndefinedMetricWarning: Precision is ill-defined and being set to 0.0 in labels with no predicted samples. Use `zero_division` parameter to control this behavior.\n",
      "  _warn_prf(average, modifier, f\"{metric.capitalize()} is\", len(result))\n"
     ]
    }
   ],
   "source": [
    "print(classification_report(pred.label_ids, pred.predictions.argmax(1)))"
   ]
  },
  {
   "cell_type": "code",
   "execution_count": 24,
   "metadata": {},
   "outputs": [],
   "source": [
    "cm = confusion_matrix(pred.label_ids, pred.predictions.argmax(1), normalize='true')"
   ]
  },
  {
   "cell_type": "code",
   "execution_count": 25,
   "metadata": {},
   "outputs": [
    {
     "data": {
      "image/png": "[encoded data removed]",
      "text/plain": [
       "<Figure size 800x600 with 1 Axes>"
      ]
     },
     "metadata": {},
     "output_type": "display_data"
    }
   ],
   "source": [
    "plt.figure(figsize=(8, 6))\n",
    "sns.heatmap(cm, annot=True, cmap=\"Blues\", cbar=False, xticklabels=id2label.values(), yticklabels=id2label.values())\n",
    "plt.xlabel(\"Predicted Label\")\n",
    "plt.ylabel(\"True Label\")\n",
    "plt.title(\"Normalized Confusion Matrix\")\n",
    "plt.show()"
   ]
  },
  {
   "cell_type": "code",
   "execution_count": null,
   "metadata": {},
   "outputs": [],
   "source": []
  }
 ],
 "metadata": {
  "accelerator": "GPU",
  "colab": {
   "gpuType": "T4",
   "provenance": []
  },
  "kernelspec": {
   "display_name": "Python 3 (ipykernel)",
   "language": "python",
   "name": "python3"
  },
  "language_info": {
   "codemirror_mode": {
    "name": "ipython",
    "version": 3
   },
   "file_extension": ".py",
   "mimetype": "text/x-python",
   "name": "python",
   "nbconvert_exporter": "python",
   "pygments_lexer": "ipython3",
   "version": "3.11.10"
  }
 },
 "nbformat": 4,
 "nbformat_minor": 4
}
