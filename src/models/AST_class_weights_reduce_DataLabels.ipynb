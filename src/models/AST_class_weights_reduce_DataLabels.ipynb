{
 "cells": [
  {
   "cell_type": "markdown",
   "id": "87afa658526f49c0",
   "metadata": {},
   "source": [
    "# Merging Data\n",
    "This notebook explores, if the metrics increase, when the labels are reduced. Additionally all results of the others notebooks are integrated. Below is a outline for the content."
   ]
  },
  {
   "cell_type": "markdown",
   "id": "61d84a4d-9860-4bef-83db-4c373fc946b3",
   "metadata": {},
   "source": [
    "1. Installing missing Packages\n",
    "2. Import Packages\n",
    "3. Data\n",
    "   3.1 Import Data\n",
    "   3.2 Data Structure\n",
    "4. Model: Base-Line-Model\n",
    "   4.1 Data Processing\n",
    "   4.2 Model Parameters\n",
    "   4.3 Training\n",
    "   4.4 Testing\n",
    "5. Model: Merge \"Celebration\" & \"Excitement\"\n",
    "   5.1 Data Processing\n",
    "       5.1.1 Merging\n",
    "       5.1.2 Processing\n",
    "       5.1.3 Train- and Test-Split\n",
    "   5.2 Model Parameters\n",
    "   5.3 Training\n",
    "   5.4 Testing\n",
    "6. Model: Merge \"Celebration\" & \"Excitement\" and \"Disappointment\" & \"Boring\"\n",
    "   6.1 Data Processing\n",
    "       6.1.1 Merging\n",
    "       6.1.2 Processing\n",
    "       6.1.3 Train- and Test-Split\n",
    "   6.2 Model Parameters\n",
    "   6.3 Training\n",
    "   6.4 Testing\n",
    "7. Conclusion of Merging\n",
    "8. Model: Merge \"Celebration\" & \"Excitement\" with Data Augmentation\n",
    "   8.1 Data Augmentation: \"Disappointment\" with n_augments = 1\n",
    "       8.1.1 Data Processing\n",
    "       8.1.2 Model Parameters\n",
    "       8.1.3 Training\n",
    "       8.1.4 Testing\n",
    "   8.2 Data Augmentation: \"Disappointment\" with n_augments = 2\n",
    "       8.2.1 Data Processing\n",
    "       8.2.2 Model Parameters\n",
    "       8.2.3 Training\n",
    "       8.2.4 Testing\n",
    "9. Conclusion"
   ]
  },
  {
   "cell_type": "markdown",
   "id": "1bdf80efc73acada",
   "metadata": {
    "jp-MarkdownHeadingCollapsed": true
   },
   "source": "## 1. Installing missing Packages"
  },
  {
   "cell_type": "code",
   "id": "c4ce23a0-aed2-465b-bd03-91eae25a10e6",
   "metadata": {
    "scrolled": true,
    "jupyter": {
     "is_executing": true
    }
   },
   "source": [
    "%%capture\n",
    "!pip install transformers datasets accelerate\n",
    "!pip install librosa"
   ],
   "outputs": [],
   "execution_count": null
  },
  {
   "cell_type": "markdown",
   "id": "9e5e06b6242525e1",
   "metadata": {
    "jp-MarkdownHeadingCollapsed": true
   },
   "source": "## 2. Import Packages"
  },
  {
   "cell_type": "code",
   "execution_count": 2,
   "id": "6522bec3-1ec2-4644-8f9a-0fa32a3db9ef",
   "metadata": {},
   "outputs": [],
   "source": [
    "import transformers\n",
    "from transformers import AutoFeatureExtractor, ASTForAudioClassification, AutoModelForAudioClassification\n",
    "from transformers import Trainer\n",
    "\n",
    "from datasets import load_dataset, Dataset\n",
    "from collections import Counter\n",
    "\n",
    "import torch\n",
    "import torch.nn as nn\n",
    "\n",
    "import librosa\n",
    "\n",
    "import random\n",
    "import numpy as np\n",
    "import json\n",
    "\n",
    "from pprint import pprint\n",
    "\n",
    "import sklearn.metrics as skm\n",
    "from sklearn.model_selection import GroupShuffleSplit\n",
    "from sklearn.utils.class_weight import compute_class_weight\n",
    "from sklearn.metrics import classification_report, confusion_matrix\n",
    "\n",
    "import matplotlib.pyplot as plt\n",
    "import seaborn as sns"
   ]
  },
  {
   "cell_type": "markdown",
   "id": "56eea3dcf9a1cae6",
   "metadata": {
    "jp-MarkdownHeadingCollapsed": true
   },
   "source": "## 3. Data"
  },
  {
   "cell_type": "markdown",
   "id": "6457b4e0-eed3-471e-80e4-fd124e6813df",
   "metadata": {},
   "source": "We talked already about the Data in notebook \"XXX\". This chapter just prints the most important informations for the later usage."
  },
  {
   "cell_type": "markdown",
   "id": "d0667424cb7ee070",
   "metadata": {
    "jp-MarkdownHeadingCollapsed": true
   },
   "source": "### 3.1 Import Data"
  },
  {
   "cell_type": "code",
   "execution_count": 3,
   "id": "3d7ca621-e65f-409a-a727-0013a98e3579",
   "metadata": {},
   "outputs": [],
   "source": [
    "path = 'Neuronale Netze/EA - groß - Gruppenarbeit/16k_data/meta.json'\n",
    "arrays = np.load('/home/jovyan/workspace/Neuronale Netze/EA - groß - Gruppenarbeit/16k_data/training_25112024.npz')\n",
    "meta = json.load(open('/home/jovyan/workspace/Neuronale Netze/EA - groß - Gruppenarbeit/16k_data/meta.json', 'r'))"
   ]
  },
  {
   "cell_type": "markdown",
   "id": "93b02522b73af766",
   "metadata": {
    "jp-MarkdownHeadingCollapsed": true
   },
   "source": "### 3.2 Data Structure"
  },
  {
   "cell_type": "code",
   "execution_count": 4,
   "id": "cdcbd8fe-eb70-4279-8c4b-e250be68cbe2",
   "metadata": {},
   "outputs": [
    {
     "name": "stdout",
     "output_type": "stream",
     "text": [
      "NpzFile '/home/jovyan/workspace/Neuronale Netze/EA - groß - Gruppenarbeit/16k_data/training_25112024.npz' with keys: X, y, groups\n"
     ]
    }
   ],
   "source": [
    "print(arrays)"
   ]
  },
  {
   "cell_type": "code",
   "execution_count": 5,
   "id": "3d2a3c62d246074b",
   "metadata": {},
   "outputs": [
    {
     "name": "stdout",
     "output_type": "stream",
     "text": [
      "[[ 3.2830704e-04  9.9163875e-03  1.6845936e-02 ...  4.8440071e-03\n",
      "   6.7358743e-04 -3.9298702e-03]\n",
      " [-8.2107643e-03 -9.7427005e-03 -5.7625356e-03 ...  5.6111747e-03\n",
      "   7.0165722e-03  3.7530088e-03]\n",
      " [-6.0349256e-03 -1.7513758e-02 -2.4519343e-02 ...  2.4389978e-03\n",
      "   1.4424410e-02  2.3104530e-02]\n",
      " ...\n",
      " [ 3.4458810e-01  3.3406031e-01  2.9483637e-01 ... -7.2613396e-03\n",
      "   1.7828370e-02  5.2196458e-02]\n",
      " [ 9.2880733e-02  7.2587684e-02  9.3194686e-02 ...  9.9426378e-03\n",
      "   1.3490677e-01  1.3978356e-01]\n",
      " [ 2.5695339e-02 -6.2102992e-02 -2.7688213e-02 ...  9.9716447e-03\n",
      "  -9.2344247e-02 -1.7016892e-01]]\n"
     ]
    }
   ],
   "source": [
    "print(arrays['X'])"
   ]
  },
  {
   "cell_type": "code",
   "execution_count": 6,
   "id": "e28be58080f4f15f",
   "metadata": {
    "scrolled": true
   },
   "outputs": [
    {
     "name": "stdout",
     "output_type": "stream",
     "text": [
      "[4 4 4 4 4 4 4 4 4 0 0 0 3 3 3 3 3 3 3 3 0 0 0 0 2 2 0 4 4 4 4 0 0 0 0 0 0\n",
      " 0 0 0 2 1 1 1 1 3 3 3 3 2 2 4 4 4 4 4 4 4 0 0 0 0 0 1 1 1 2 1 1 1 1 1 1 3\n",
      " 3 3 3 3 3 3 3 3 3 3 1 1 1 4 4 4 4 4 4 4 2 4 4 4 4 4 1 1 1 1 4 4 4 4 4 4 4\n",
      " 4 4 4 4 4 4 4 4 4 4 4 2 0 0 0 0 0 0 0 4 4 4 4 4 4 4 4 4 4 4 4 4 1 1 1 1 3\n",
      " 3 3 1 3 3 3 2 2 0 0 0 0 0 0 0 0 0 0 0 0 0 0 0 0 0 0 0 0 0 0 0 0 0 0 0 0 0\n",
      " 0 0 0 0 0 0 0 0 0 0 0 0 0 0 0 0 0 0 0 0 0 0 0 0 0 0 0 0 0 0 0 0 0 0 0 0 0\n",
      " 0 0 0 0 0 0 0 0 0 0 0 0 0 0 0 0 0 0 0 0 0 0 0 0 0 0 0 0 0 0 0 0 0 0 0 0 0\n",
      " 0 0 0 0 0 0 0 0 0 0 0 0 0 0 0 0 0 0 0 0 0 1 1 0 0 0 0 0 0 0 0 0 0 0 0 0 0\n",
      " 0 0 0 0 0 0 0 0 0 0 0 0 0 0 0 0 0 0 0 0 0 0 0 0 0 0 0 0 0 0 0 3 3 3 3 3 3\n",
      " 3 3 3 3 3 0 0 0 0 0 0 0 0 0 0 0 0 0 0 0 0 1 4 4 4 4 4 4 4 4 0 0 0 0 0 0 0\n",
      " 0 0 0 1 1 3 3 3 4 4 4 4 4 4 0 0 0 0 0 0 0 0 0 0 0 0 0 0 0 0 0 0 0 0 0 0 0\n",
      " 0 0 0 0 0 0 0 0 0 0 0 0 0 0 0 0 0 0 0 0 0 0 0 0 3 3 3 3 1 1 1 4 4 4 4 4 4\n",
      " 4 4 4 4 4 4 4 4 4 4 4 4 4 4 4 4 0 0 0 0 0 0 0 0 1 1 1 1 1 1 0 0 0 0 0 0 0\n",
      " 0 1 1 1 1 1 1 1 1 1 1 1 1 1 1 1 1 3 3 3 3 3 3 3 3 3 3 3 3 3 4 4 4 4 4 4 4\n",
      " 4 4 4 4 4 4 4 4 4 4 4 4 4 4 4 4 4 4 4 4 4 4 4 4 3 3 3 3 3 3 3 3 3 3 3 3 3\n",
      " 3 3 3 3 3 3 3 3 2 2 2 2 2 2 2 2 2 2 2 2 2 2 1 1 1 1 1 1 1 3 3 3 3 2 2 2 2\n",
      " 2 2 2 2 2 2 2 2 2 2 2 2 2 2 2 2 2 1 1 0 0 0 0 0 0 0 0 0 0 0 0 0 0 0 0 0 0\n",
      " 0 0 0 0 0 0 0 0 0 0 0 0 0 0 0 0 0 4 4 4 4 4 4 4 4 4 4 4 4 4 4 4 4 4 4 4 4\n",
      " 4 4 4 4 4 4 4 4 4 4 4 4 4 4 4 4 4 4 4 4 4 4 4 4 4 4 4 4 4 0 0 0 0 0 0 0 0\n",
      " 0 0 0 0 0 0 0 0 0 0 0 0 0 0 0 0 0 0 0 0 0 0 0 0 0 0 0 0 0 0 0 0 0 0 0 0 0\n",
      " 0 0 0 2 2 2 2 2 2 2 2 2 2 2 2 2 2 2 1 1 1 1 1 1 1 4 4 4 4 4 4 4 4 4 1 1 1\n",
      " 1 1 1 4 4 4 1 1 1 4 4 4 4 4 1 4 4 4 4 4 4 4 4 4 4 4 4 1 1 1 4 4 4 4 4 4 4\n",
      " 4 4 4 4 4 4 4 4 4 4 4 4 4 4 4 4 4 4 1 1 1 4 4 4 4 4 4 4 4 4 4 4 4 4 4 4 4\n",
      " 4 4 4 4 4 4 4 4 4 4 4 4 4 4 4 4 1 1 4 4 4 4 4 4 4 4 4 4 4 4 4 4 4 4 4 4 4\n",
      " 4 4 4 4 4 4 4 4 4 4 4 1 1 1 1 1 1 1]\n"
     ]
    }
   ],
   "source": [
    "print(arrays['y'])"
   ]
  },
  {
   "cell_type": "code",
   "execution_count": 7,
   "id": "ca1d626d8def331f",
   "metadata": {
    "scrolled": true
   },
   "outputs": [
    {
     "name": "stdout",
     "output_type": "stream",
     "text": [
      "[ 0  0  0  0  0  0  0  0  0  0  0  0  0  0  0  0  0  0  0  0  0  0  0  0\n",
      "  0  0  0  1  1  1  1  1  1  1  1  1  1  1  1  1  1  1  1  1  1  1  1  1\n",
      "  1  1  1  1  1  1  1  1  1  1  2  2  2  2  2  2  2  2  2  2  2  2  2  2\n",
      "  2  2  2  2  2  2  2  2  2  2  2  2  2  2  2  2  2  2  2  2  2  2  2  2\n",
      "  2  2  2  2  2  2  2  2  2  2  2  2  2  2  2  2  2  2  2  2  2  2  2  2\n",
      "  2  2  2  2  2  2  2  2  2  2  2  2  2  2  2  2  2  2  2  2  2  2  2  2\n",
      "  2  2  2  2  2  2  2  2  2  2  2  2  3  3  3  3  3  3  3  3  3  3  3  3\n",
      "  3  3  3  3  3  3  3  3  3  3  3  3  3  3  3  3  3  3  3  3  3  3  3  3\n",
      "  3  3  3  3  3  3  3  3  3  3  3  3  3  3  3  3  3  3  3  3  3  3  3  3\n",
      "  3  3  3  3  3  3  3  3  3  3  3  3  3  3  3  3  3  3  3  3  3  3  3  3\n",
      "  3  3  3  3  3  3  3  3  3  3  3  3  3  3  3  3  3  3  3  3  3  3  3  3\n",
      "  3  3  3  3  3  3  3  3  3  3  3  3  3  3  3  3  3  3  3  3  3  3  3  3\n",
      "  3  3  3  3  3  3  3  3  3  3  3  3  3  3  3  3  3  3  3  3  3  3  3  3\n",
      "  3  3  3  3  3  3  3  3  3  3  3  3  3  3  3  3  3  3  3  3  3  3  3  3\n",
      "  3  3  3  3  3  3  3  3  3  3  3  3  3  3  3  3  3  3  3  3  3  3  3  3\n",
      "  3  3  3  3  3  3  3  3  3  3  3  3  3  3  3  3  3  3  3  3  3  3  3  3\n",
      "  3  3  3  3  3  3  3  3  3  3  3  3  3  3  3  3  3  3  3  3  3  3  3  3\n",
      "  3  3  3  3  3  3  3  3  3  3  3  3  3  3  3  3  3  3  3  3  3  3  3  3\n",
      "  3  3  3  3  3  3  3  3  3  3  3  3  3  3  3  3  3  3  3  3  3  3  3  3\n",
      "  3  3  3  3  3  3  3  3  3  3  3  3  3  3  3  3  3  3  3  3  3  3  3  3\n",
      "  3  3  3  3  3  3  3  3  3  4  4  4  4  4  5  5  5  5  5  5  5  5  5  5\n",
      "  5  5  5  5  5  5  5  6  6  6  6  6  6  6  6  6  6  6  6  6  6  6  6  6\n",
      "  6  6  6  6  6  6  6  6  6  6  7  7  7  7  8  8  8  8  8  8  8  8  8  8\n",
      "  8  9  9  9  9  9  9  9  9  9  9 10 10 10 10 10 10 10 10 10 10 10 10 10\n",
      " 10 10 10 10 10 10 10 10 10 10 10 10 11 11 11 11 11 11 11 11 11 11 11 11\n",
      " 11 11 11 11 12 12 12 12 12 13 13 14 14 14 14 14 14 14 14 14 14 14 14 14\n",
      " 14 14 14 14 14 14 14 14 14 14 14 14 14 14 14 14 14 14 14 14 14 14 14 14\n",
      " 14 14 14 14 14 14 14 14 14 14 14 14 14 14 14 14 14 14 14 14 14 14 14 14\n",
      " 14 14 14 14 14 14 14 14 14 14 14 14 14 14 14 14 14 14 14 14 14 14 14 14\n",
      " 14 14 14 14 14 14 14 14 14 14 14 14 14 14 14 14 14 14 14 14 14 14 14 14\n",
      " 14 14 14 14 14 14 14 14 14 14 14 14 14 14 14 14 14 14 14 14 14 14 14 14\n",
      " 14 14 14 14 14 14 14 14 14 14 14 14 14 14 14 14 14 14 14 14 14 15 15 15\n",
      " 15 15 15 15 15 15 15 15 15 15 15 15 15 15 15 15 15 15 15 15 15 15 15 15\n",
      " 15 15 15 15 15 15 15 15 15 15 15 15 15 15 15 15 15 15 15 15 15 15 15 15\n",
      " 15 15 15 15 15 15 15 15 15 15 15 15 15 15 15 15 15 15 15 15 15 15 15 15\n",
      " 15 15 15 15 15 15 15 15 15 15 15 15 15 15 15 15 15 15 15 15 15 15 15 15\n",
      " 15 15 15 15 15 15 15 15 15 15 15 15 15 15 15 15 15 15 15 15 15 15 15 15\n",
      " 15 15 15 15 15 15 15 15 15 15 15 15 15 15 15 15 15 15]\n"
     ]
    }
   ],
   "source": [
    "print(arrays['groups'])"
   ]
  },
  {
   "cell_type": "code",
   "execution_count": 8,
   "id": "c2e614e2-54aa-4f0f-8096-d17dea5418f2",
   "metadata": {},
   "outputs": [
    {
     "name": "stdout",
     "output_type": "stream",
     "text": [
      "{'labelfile': 'project-6-at-2024-11-23-15-47-9e286610.json',\n",
      " 'labels': {'Boring': 4,\n",
      "            'Celebration': 3,\n",
      "            'Chanting/Singing': 0,\n",
      "            'Disappointment': 2,\n",
      "            'Excitement': 1},\n",
      " 'sample_rate': 16000,\n",
      " 'snippet_sec': 1,\n",
      " 'sources': ['HKvsBHUTAN001.wav',\n",
      "             'HKvsBHUTAN002.wav',\n",
      "             'HKvsBRUNEI.wav',\n",
      "             '2023716VS.wav',\n",
      "             '1ExcitementDisappointment.MP3.wav',\n",
      "             '2ExcitementCelebration.MP3.wav',\n",
      "             '3Boring.MP3.wav',\n",
      "             'Boring_001.wav',\n",
      "             'Celebration_001.MP3.wav',\n",
      "             'Celebration_002.MP3.wav',\n",
      "             'Combine.MP3.wav',\n",
      "             'Disappointment_001.wav',\n",
      "             'Disappointment_002.wav',\n",
      "             'Excitement_001.MP3.wav',\n",
      "             'HongKongvsSingaporeInternationalFriendlyMongkokStadium.wav',\n",
      "             'test.MP3.wav']}\n"
     ]
    }
   ],
   "source": [
    "pprint(meta)"
   ]
  },
  {
   "cell_type": "markdown",
   "id": "d4786f1b-25e5-4190-9759-b618eac78f33",
   "metadata": {
    "jp-MarkdownHeadingCollapsed": true
   },
   "source": "## 4. Model: Base-Line-Model"
  },
  {
   "cell_type": "markdown",
   "id": "e5a6d891-f387-443f-b2c9-a9b4ea1c58ee",
   "metadata": {},
   "source": "This is the model from the notebook \"XXX\" which will be the base line model for the conclusion to answer the question, if merging data improces the metrics of the model."
  },
  {
   "metadata": {},
   "cell_type": "code",
   "outputs": [],
   "execution_count": null,
   "source": [
    "model_name = \"MIT/ast-finetuned-audioset-10-10-0.4593\"\n",
    "device = 'cuda'"
   ],
   "id": "4b84fc1523fa9bd1"
  },
  {
   "metadata": {
    "jp-MarkdownHeadingCollapsed": true
   },
   "cell_type": "markdown",
   "source": "### 4.1 Data Processing",
   "id": "68b21b0acb6601d1"
  },
  {
   "metadata": {},
   "cell_type": "code",
   "outputs": [
    {
     "data": {
      "text/plain": [
       "NpzFile '/home/jovyan/workspace/Neuronale Netze/EA - groß - Gruppenarbeit/16k_data/training_25112024.npz' with keys: X, y, groups"
      ]
     },
     "execution_count": 10,
     "metadata": {},
     "output_type": "execute_result"
    }
   ],
   "execution_count": 10,
   "source": "arrays",
   "id": "28afdb01-2bbf-4460-a5fe-d18fcdc7e266"
  },
  {
   "metadata": {},
   "cell_type": "code",
   "outputs": [
    {
     "data": {
      "text/plain": [
       "{'Chanting/Singing': 0,\n",
       " 'Excitement': 1,\n",
       " 'Disappointment': 2,\n",
       " 'Celebration': 3,\n",
       " 'Boring': 4}"
      ]
     },
     "execution_count": 11,
     "metadata": {},
     "output_type": "execute_result"
    }
   ],
   "execution_count": 11,
   "source": "meta['labels']",
   "id": "46fa4ecc-dc3b-4c51-b7d3-ce2c8b2a682f"
  },
  {
   "metadata": {},
   "cell_type": "markdown",
   "source": "#### 4.1.1 Processing",
   "id": "56f3a80e4dd3b131"
  },
  {
   "metadata": {
    "ExecuteTime": {
     "end_time": "2025-01-22T10:59:05.932181Z",
     "start_time": "2025-01-22T10:59:05.906226Z"
    }
   },
   "cell_type": "code",
   "outputs": [],
   "execution_count": 12,
   "source": [
    "feature_extractor = AutoFeatureExtractor.from_pretrained(model_name)\n",
    "\n",
    "preprocessed_audio = feature_extractor(\n",
    "    arrays['X'],\n",
    "    sampling_rate = meta['sample_rate'],\n",
    "    return_tensors = \"pt\"\n",
    ")\n",
    "\n",
    "hf_dataset = Dataset.from_dict({\n",
    "    \"input_values\": preprocessed_audio['input_values'],\n",
    "    \"label\": arrays['y'],\n",
    "})"
   ],
   "id": "064305cc-f4bf-4c33-a222-b441bf6bb7cc"
  },
  {
   "metadata": {},
   "cell_type": "code",
   "outputs": [
    {
     "data": {
      "text/plain": [
       "Dataset({\n",
       "    features: ['input_values', 'label'],\n",
       "    num_rows: 906\n",
       "})"
      ]
     },
     "execution_count": 13,
     "metadata": {},
     "output_type": "execute_result"
    }
   ],
   "execution_count": 13,
   "source": "hf_dataset",
   "id": "cff5d5f7-6ab2-4c69-ae9a-44747fca2645"
  },
  {
   "metadata": {},
   "cell_type": "markdown",
   "source": "#### 4.1.2 Train- und Test-Split",
   "id": "d38bc85c6d71811e"
  },
  {
   "metadata": {
    "scrolled": true
   },
   "cell_type": "code",
   "outputs": [
    {
     "name": "stdout",
     "output_type": "stream",
     "text": [
      "Fold 0:\n",
      "  Train: source={np.int64(2), np.int64(3), np.int64(4), np.int64(6), np.int64(7), np.int64(8), np.int64(9), np.int64(10), np.int64(11), np.int64(12), np.int64(13), np.int64(15)}\n",
      "  Test:  source={np.int64(0), np.int64(1), np.int64(5), np.int64(14)}\n",
      "Fold 1:\n",
      "  Train: source={np.int64(0), np.int64(1), np.int64(3), np.int64(4), np.int64(5), np.int64(7), np.int64(9), np.int64(10), np.int64(11), np.int64(12), np.int64(14), np.int64(15)}\n",
      "  Test:  source={np.int64(8), np.int64(2), np.int64(13), np.int64(6)}\n",
      "Fold 2:\n",
      "  Train: source={np.int64(0), np.int64(2), np.int64(3), np.int64(4), np.int64(6), np.int64(7), np.int64(9), np.int64(10), np.int64(11), np.int64(12), np.int64(14), np.int64(15)}\n",
      "  Test:  source={np.int64(8), np.int64(1), np.int64(13), np.int64(5)}\n",
      "Fold 3:\n",
      "  Train: source={np.int64(1), np.int64(3), np.int64(4), np.int64(6), np.int64(7), np.int64(8), np.int64(9), np.int64(10), np.int64(11), np.int64(12), np.int64(13), np.int64(15)}\n",
      "  Test:  source={np.int64(0), np.int64(2), np.int64(5), np.int64(14)}\n",
      "Fold 4:\n",
      "  Train: source={np.int64(0), np.int64(1), np.int64(2), np.int64(3), np.int64(5), np.int64(6), np.int64(7), np.int64(8), np.int64(9), np.int64(11), np.int64(12), np.int64(13)}\n",
      "  Test:  source={np.int64(10), np.int64(4), np.int64(14), np.int64(15)}\n",
      "Fold 5:\n",
      "  Train: source={np.int64(0), np.int64(1), np.int64(3), np.int64(5), np.int64(6), np.int64(7), np.int64(9), np.int64(10), np.int64(11), np.int64(13), np.int64(14), np.int64(15)}\n",
      "  Test:  source={np.int64(8), np.int64(2), np.int64(4), np.int64(12)}\n",
      "Fold 6:\n",
      "  Train: source={np.int64(0), np.int64(1), np.int64(4), np.int64(5), np.int64(6), np.int64(7), np.int64(8), np.int64(9), np.int64(10), np.int64(11), np.int64(12), np.int64(15)}\n",
      "  Test:  source={np.int64(2), np.int64(3), np.int64(13), np.int64(14)}\n",
      "Fold 7:\n",
      "  Train: source={np.int64(0), np.int64(1), np.int64(2), np.int64(3), np.int64(4), np.int64(6), np.int64(7), np.int64(8), np.int64(10), np.int64(12), np.int64(14), np.int64(15)}\n",
      "  Test:  source={np.int64(9), np.int64(13), np.int64(11), np.int64(5)}\n",
      "Fold 8:\n",
      "  Train: source={np.int64(0), np.int64(2), np.int64(4), np.int64(5), np.int64(6), np.int64(7), np.int64(9), np.int64(10), np.int64(12), np.int64(13), np.int64(14), np.int64(15)}\n",
      "  Test:  source={np.int64(8), np.int64(1), np.int64(3), np.int64(11)}\n",
      "Fold 9:\n",
      "  Train: source={np.int64(0), np.int64(2), np.int64(3), np.int64(4), np.int64(6), np.int64(7), np.int64(8), np.int64(9), np.int64(10), np.int64(11), np.int64(14), np.int64(15)}\n",
      "  Test:  source={np.int64(1), np.int64(13), np.int64(12), np.int64(5)}\n"
     ]
    }
   ],
   "execution_count": 14,
   "source": [
    "gss = GroupShuffleSplit(n_splits=10, train_size=.8, random_state=42)\n",
    "gss.get_n_splits()\n",
    "\n",
    "for i, (train_index, test_index) in enumerate(gss.split(**arrays)):\n",
    "    print(f\"Fold {i}:\")\n",
    "    print(f\"  Train: source={set(arrays['groups'][train_index])}\")\n",
    "    print(f\"  Test:  source={set(arrays['groups'][test_index])}\")"
   ],
   "id": "8aac1e7a-a088-4a6c-b544-3e9d7870e964"
  },
  {
   "metadata": {},
   "cell_type": "code",
   "outputs": [],
   "execution_count": 15,
   "source": "(train_index, test_index) = next(gss.split(**arrays))",
   "id": "225f7177-21f8-466a-b95d-b73f047c67da"
  },
  {
   "metadata": {},
   "cell_type": "code",
   "outputs": [
    {
     "data": {
      "text/plain": [
       "Dataset({\n",
       "    features: ['input_values', 'label'],\n",
       "    num_rows: 677\n",
       "})"
      ]
     },
     "execution_count": 16,
     "metadata": {},
     "output_type": "execute_result"
    }
   ],
   "execution_count": 16,
   "source": [
    "train_ds = hf_dataset.select(train_index)\n",
    "train_ds"
   ],
   "id": "8b33f681-33fc-450d-b4b9-c26e3d08e6c7"
  },
  {
   "metadata": {},
   "cell_type": "code",
   "outputs": [
    {
     "data": {
      "text/plain": [
       "Dataset({\n",
       "    features: ['input_values', 'label'],\n",
       "    num_rows: 229\n",
       "})"
      ]
     },
     "execution_count": 17,
     "metadata": {},
     "output_type": "execute_result"
    }
   ],
   "execution_count": 17,
   "source": [
    "test_ds = hf_dataset.select(test_index)\n",
    "test_ds"
   ],
   "id": "195af77a84345df0"
  },
  {
   "metadata": {
    "jp-MarkdownHeadingCollapsed": true
   },
   "cell_type": "markdown",
   "source": "### 4.2 Model Parameters",
   "id": "207e9789a5fb4b97"
  },
  {
   "metadata": {},
   "cell_type": "code",
   "outputs": [
    {
     "name": "stderr",
     "output_type": "stream",
     "text": [
      "Some weights of ASTForAudioClassification were not initialized from the model checkpoint at MIT/ast-finetuned-audioset-10-10-0.4593 and are newly initialized because the shapes did not match:\n",
      "- classifier.dense.bias: found shape torch.Size([527]) in the checkpoint and torch.Size([5]) in the model instantiated\n",
      "- classifier.dense.weight: found shape torch.Size([527, 768]) in the checkpoint and torch.Size([5, 768]) in the model instantiated\n",
      "You should probably TRAIN this model on a down-stream task to be able to use it for predictions and inference.\n"
     ]
    }
   ],
   "execution_count": 18,
   "source": [
    "model2train = AutoModelForAudioClassification.from_pretrained(\n",
    "    model_name,\n",
    "    num_labels = len(meta['labels']),\n",
    "    label2id = meta['labels'],\n",
    "    id2label = {v:k for k,v in meta['labels'].items()},\n",
    "    ignore_mismatched_sizes = True\n",
    ")"
   ],
   "id": "dc4bc10f-f539-452b-925c-8af699296c71"
  },
  {
   "metadata": {},
   "cell_type": "code",
   "outputs": [],
   "execution_count": 19,
   "source": [
    "batch_size = 8\n",
    "args = transformers.TrainingArguments(\n",
    "    f'{model_name.split(\"/\")[-1]}-ft_stadium',\n",
    "\n",
    "    learning_rate=1e-5,\n",
    "    warmup_ratio=0.1,\n",
    "\n",
    "    eval_strategy = \"steps\",\n",
    "    eval_steps = 10,\n",
    "    logging_steps=10,\n",
    "\n",
    "    save_strategy = \"epoch\",\n",
    "    per_device_train_batch_size=batch_size,\n",
    "    per_device_eval_batch_size=batch_size,\n",
    "\n",
    "    gradient_accumulation_steps=4,\n",
    "    num_train_epochs=5,\n",
    "    load_best_model_at_end=False,\n",
    "    push_to_hub=False,\n",
    ")"
   ],
   "id": "1060b3fc-928e-4b7f-9683-05d234e2eaae"
  },
  {
   "metadata": {},
   "cell_type": "code",
   "outputs": [],
   "execution_count": 20,
   "source": [
    "class CustomTrainer(Trainer):\n",
    "    def __init__(self, *args, class_weights=None, **kwargs):\n",
    "        super().__init__(*args, **kwargs)\n",
    "        self.class_weights = class_weights\n",
    "\n",
    "    def compute_loss(self, model, inputs, return_outputs=False, **kwargs):\n",
    "        labels = inputs.pop(\"labels\").to(torch.long)  # Labels in int64 konvertieren\n",
    "        outputs = model(**inputs)\n",
    "        logits = outputs.logits.to(torch.float32)  # Logits in float32 konvertieren\n",
    "\n",
    "        # Loss-function with class weights\n",
    "        loss_fn = nn.CrossEntropyLoss(weight=self.class_weights)\n",
    "        loss = loss_fn(logits, labels)\n",
    "\n",
    "        return (loss, outputs) if return_outputs else loss\n",
    "\n",
    "    def compute_metrics(pred):\n",
    "        labels = pred.label_ids\n",
    "        preds = pred.predictions.argmax(-1)\n",
    "\n",
    "        metrics = {\n",
    "            'accuracy': skm.accuracy_score(labels, preds),\n",
    "            'macro_f1': skm.f1_score(labels, preds, average='macro'),\n",
    "            'weighted_f1': skm.f1_score(labels, preds, average='weighted')\n",
    "        }\n",
    "\n",
    "        return metrics"
   ],
   "id": "df18991a-56e8-4cb8-9362-05c26d48cdbd"
  },
  {
   "metadata": {},
   "cell_type": "code",
   "outputs": [
    {
     "name": "stdout",
     "output_type": "stream",
     "text": [
      "Class Weights: tensor([0.4897, 1.8875, 3.0200, 2.1318, 0.6142], device='cuda:0')\n"
     ]
    }
   ],
   "execution_count": 21,
   "source": [
    "class_weights = compute_class_weight(\n",
    "    class_weight=\"balanced\",\n",
    "    classes=np.unique(hf_dataset['label']),\n",
    "    y = hf_dataset['label']\n",
    ")\n",
    "class_weights = torch.tensor(class_weights, dtype=torch.float32).to(device)\n",
    "print(\"Class Weights:\", class_weights)"
   ],
   "id": "c5960b19-5dc9-46d2-ba4e-a2e731625bf8"
  },
  {
   "metadata": {},
   "cell_type": "code",
   "outputs": [],
   "execution_count": 22,
   "source": [
    "trainer = CustomTrainer(\n",
    "    model=model2train,\n",
    "    args=args,\n",
    "    train_dataset=train_ds,\n",
    "    eval_dataset=test_ds,\n",
    "    processing_class = feature_extractor, #tokenizer=feature_extractor,\n",
    "    class_weights=class_weights,\n",
    "    compute_metrics=CustomTrainer.compute_metrics\n",
    ")"
   ],
   "id": "0595fd3c-832d-45ba-83da-d64aa87c34a0"
  },
  {
   "cell_type": "markdown",
   "id": "b528219df323db64",
   "metadata": {
    "jp-MarkdownHeadingCollapsed": true
   },
   "source": [
    "### 4.3 Training"
   ]
  },
  {
   "cell_type": "code",
   "execution_count": 23,
   "id": "d165ce06-4c10-4a4d-ab34-15eb4674a547",
   "metadata": {},
   "outputs": [
    {
     "data": {
      "text/html": [
       "\n",
       "    <div>\n",
       "      \n",
       "      <progress value='105' max='105' style='width:300px; height:20px; vertical-align: middle;'></progress>\n",
       "      [105/105 07:20, Epoch 4/5]\n",
       "    </div>\n",
       "    <table border=\"1\" class=\"dataframe\">\n",
       "  <thead>\n",
       " <tr style=\"text-align: left;\">\n",
       "      <th>Step</th>\n",
       "      <th>Training Loss</th>\n",
       "      <th>Validation Loss</th>\n",
       "      <th>Accuracy</th>\n",
       "      <th>Macro F1</th>\n",
       "      <th>Weighted F1</th>\n",
       "    </tr>\n",
       "  </thead>\n",
       "  <tbody>\n",
       "    <tr>\n",
       "      <td>10</td>\n",
       "      <td>1.684600</td>\n",
       "      <td>1.477028</td>\n",
       "      <td>0.441048</td>\n",
       "      <td>0.312360</td>\n",
       "      <td>0.457456</td>\n",
       "    </tr>\n",
       "    <tr>\n",
       "      <td>20</td>\n",
       "      <td>1.241400</td>\n",
       "      <td>1.050055</td>\n",
       "      <td>0.733624</td>\n",
       "      <td>0.657671</td>\n",
       "      <td>0.748780</td>\n",
       "    </tr>\n",
       "    <tr>\n",
       "      <td>30</td>\n",
       "      <td>0.690300</td>\n",
       "      <td>0.787301</td>\n",
       "      <td>0.790393</td>\n",
       "      <td>0.670128</td>\n",
       "      <td>0.794165</td>\n",
       "    </tr>\n",
       "    <tr>\n",
       "      <td>40</td>\n",
       "      <td>0.515900</td>\n",
       "      <td>0.717811</td>\n",
       "      <td>0.772926</td>\n",
       "      <td>0.662416</td>\n",
       "      <td>0.790746</td>\n",
       "    </tr>\n",
       "    <tr>\n",
       "      <td>50</td>\n",
       "      <td>0.362300</td>\n",
       "      <td>0.636677</td>\n",
       "      <td>0.807860</td>\n",
       "      <td>0.659130</td>\n",
       "      <td>0.802443</td>\n",
       "    </tr>\n",
       "    <tr>\n",
       "      <td>60</td>\n",
       "      <td>0.333200</td>\n",
       "      <td>0.619444</td>\n",
       "      <td>0.816594</td>\n",
       "      <td>0.692930</td>\n",
       "      <td>0.819413</td>\n",
       "    </tr>\n",
       "    <tr>\n",
       "      <td>70</td>\n",
       "      <td>0.281500</td>\n",
       "      <td>0.610140</td>\n",
       "      <td>0.812227</td>\n",
       "      <td>0.704595</td>\n",
       "      <td>0.821796</td>\n",
       "    </tr>\n",
       "    <tr>\n",
       "      <td>80</td>\n",
       "      <td>0.206800</td>\n",
       "      <td>0.590386</td>\n",
       "      <td>0.816594</td>\n",
       "      <td>0.663572</td>\n",
       "      <td>0.803889</td>\n",
       "    </tr>\n",
       "    <tr>\n",
       "      <td>90</td>\n",
       "      <td>0.178200</td>\n",
       "      <td>0.603741</td>\n",
       "      <td>0.803493</td>\n",
       "      <td>0.660093</td>\n",
       "      <td>0.801881</td>\n",
       "    </tr>\n",
       "    <tr>\n",
       "      <td>100</td>\n",
       "      <td>0.160200</td>\n",
       "      <td>0.588373</td>\n",
       "      <td>0.807860</td>\n",
       "      <td>0.670452</td>\n",
       "      <td>0.805710</td>\n",
       "    </tr>\n",
       "  </tbody>\n",
       "</table><p>"
      ],
      "text/plain": [
       "<IPython.core.display.HTML object>"
      ]
     },
     "metadata": {},
     "output_type": "display_data"
    },
    {
     "data": {
      "text/plain": [
       "TrainOutput(global_step=105, training_loss=0.5461433677446275, metrics={'train_runtime': 444.4349, 'train_samples_per_second': 7.616, 'train_steps_per_second': 0.236, 'total_flos': 2.2043569543446528e+17, 'train_loss': 0.5461433677446275, 'epoch': 4.8})"
      ]
     },
     "execution_count": 23,
     "metadata": {},
     "output_type": "execute_result"
    }
   ],
   "source": [
    "trainer.train()"
   ]
  },
  {
   "cell_type": "code",
   "execution_count": 24,
   "id": "0dab530a-a19e-41f6-b9ef-6ff0d56201ff",
   "metadata": {},
   "outputs": [
    {
     "data": {
      "text/plain": [
       "21"
      ]
     },
     "execution_count": 24,
     "metadata": {},
     "output_type": "execute_result"
    }
   ],
   "source": [
    "training_logs  = trainer.state.log_history\n",
    "len(training_logs)"
   ]
  },
  {
   "cell_type": "code",
   "execution_count": 26,
   "id": "7ad42547-8763-44ce-938d-0a40c75eef89",
   "metadata": {},
   "outputs": [],
   "source": [
    "loss_values = [log[\"loss\"] for log in training_logs if \"loss\" in log]\n",
    "eval_loss = [log[\"eval_loss\"] for log in training_logs if \"eval_loss\" in log]\n",
    "steps = [log[\"step\"] for log in training_logs if \"loss\" in log]"
   ]
  },
  {
   "cell_type": "code",
   "execution_count": 27,
   "id": "927574b8-b4c5-44cc-aae3-66a09592412f",
   "metadata": {},
   "outputs": [
    {
     "data": {
      "image/png": "[encoded data removed]",
      "text/plain": [
       "<Figure size 1000x600 with 1 Axes>"
      ]
     },
     "metadata": {},
     "output_type": "display_data"
    }
   ],
   "source": [
    "plt.figure(figsize=(10, 6))\n",
    "plt.plot(steps, loss_values, label=\"train_Loss\")\n",
    "plt.plot(steps, eval_loss, label=\"eval_Loss\")\n",
    "plt.xlabel(\"Steps\")\n",
    "plt.ylabel(\"Loss\")\n",
    "plt.title(\"Training Loss over Steps\")\n",
    "plt.legend()\n",
    "plt.grid()\n",
    "plt.show()"
   ]
  },
  {
   "cell_type": "markdown",
   "id": "c1f5a091-e2e2-4cf7-9641-5cd3df5ff2cd",
   "metadata": {},
   "source": "Based on the graph and the output of the trainer, the training process is completely exhausted after from 70 steps onwards. Afterward overfitting seems to take place, in wich the of the training data continues to decrease, but the loss of the evaluation data remains the same."
  },
  {
   "cell_type": "markdown",
   "id": "8a28c3a7bf4c46e9",
   "metadata": {
    "jp-MarkdownHeadingCollapsed": true
   },
   "source": "### 4.4 Testing"
  },
  {
   "cell_type": "code",
   "execution_count": 28,
   "id": "f991fdd7-5a36-4933-8e77-70b36ded79e1",
   "metadata": {},
   "outputs": [
    {
     "data": {
      "text/html": [],
      "text/plain": [
       "<IPython.core.display.HTML object>"
      ]
     },
     "metadata": {},
     "output_type": "display_data"
    }
   ],
   "source": [
    "pred = trainer.predict(test_ds)"
   ]
  },
  {
   "cell_type": "code",
   "execution_count": 30,
   "id": "dee567f1f26555f1",
   "metadata": {},
   "outputs": [
    {
     "name": "stdout",
     "output_type": "stream",
     "text": [
      "              precision    recall  f1-score   support\n",
      "\n",
      "           0       0.98      0.88      0.93       100\n",
      "           1       0.29      0.27      0.28        15\n",
      "           2       0.53      0.50      0.51        20\n",
      "           3       0.73      0.88      0.80        25\n",
      "           4       0.80      0.88      0.84        69\n",
      "\n",
      "    accuracy                           0.81       229\n",
      "   macro avg       0.67      0.68      0.67       229\n",
      "weighted avg       0.81      0.81      0.81       229\n",
      "\n"
     ]
    }
   ],
   "source": [
    "print(classification_report(pred.label_ids, pred.predictions.argmax(1)))"
   ]
  },
  {
   "metadata": {},
   "cell_type": "code",
   "outputs": [
    {
     "data": {
      "text/plain": [
       "<sklearn.metrics._plot.confusion_matrix.ConfusionMatrixDisplay at 0x7f4d247d5ad0>"
      ]
     },
     "execution_count": 29,
     "metadata": {},
     "output_type": "execute_result"
    },
    {
     "data": {
      "image/png": "[encoded data removed]",
      "text/plain": [
       "<Figure size 640x480 with 2 Axes>"
      ]
     },
     "metadata": {},
     "output_type": "display_data"
    }
   ],
   "execution_count": 29,
   "source": [
    "cmd = skm.ConfusionMatrixDisplay(\n",
    "    skm.confusion_matrix(pred.label_ids, pred.predictions.argmax(1)),\n",
    "    display_labels = meta.get('labels').keys()\n",
    ")\n",
    "cmd.plot(xticks_rotation=\"vertical\")"
   ],
   "id": "c1d2c092-91aa-4577-923f-c98df6c2c7e2"
  },
  {
   "cell_type": "code",
   "execution_count": 34,
   "id": "8367cf77-1581-45f8-bc04-4b4e64ffc0b8",
   "metadata": {},
   "outputs": [
    {
     "data": {
      "image/png": "[encoded data removed]",
      "text/plain": [
       "<Figure size 800x600 with 1 Axes>"
      ]
     },
     "metadata": {},
     "output_type": "display_data"
    }
   ],
   "source": [
    "id2label = {v:k for k,v in meta['labels'].items()}\n",
    "cm = confusion_matrix(pred.label_ids, pred.predictions.argmax(1), normalize='true')\n",
    "\n",
    "\n",
    "plt.figure(figsize=(8, 6))\n",
    "sns.heatmap(cm, annot=True, cmap=\"Blues\", cbar=False, xticklabels=id2label.values(), yticklabels=id2label.values())\n",
    "plt.xlabel(\"Predicted Label\")\n",
    "plt.ylabel(\"True Label\")\n",
    "plt.title(\"Normalized Confusion Matrix\")\n",
    "plt.show()"
   ]
  },
  {
   "cell_type": "markdown",
   "id": "52cc4149-e9cf-4c47-8a7f-82699d965bd5",
   "metadata": {},
   "source": [
    "The classification report shows, that the base line has an accuracy of about 81 %. Additionally, we can look at the independent labels in the two confusion matrix. They show, that Chanting/Singing, Celebration and the label Boring have good results on the true positives. All three above 80 %. Disappointment has a true positiv-rate about 50 % and Excitement is low at about 1/4. Both labels show, that a lot of them are categorized in mostly one other label. For Excitement, it is Celebration, which makes sense, because their very similiar expressions of joy and distinguish in  details and gesture. For Disappointment, it is mostly (falsely) recognized as Boring, because both of them are rather calm reactions.\\\n",
    "\n",
    "Based on this, the following models aim to decrease the number of labels with merging them together. With the merging, the data can still be used, but the model complexity decreases, the big question is \"Is this still in alignment with the contract?\" and has to be discussed with the contractor.\n"
   ]
  },
  {
   "cell_type": "markdown",
   "id": "9aea6a1fcb59d448",
   "metadata": {
    "jp-MarkdownHeadingCollapsed": true
   },
   "source": "## 5. Model: Merge \"Celebration\" & \"Excitement\""
  },
  {
   "metadata": {},
   "cell_type": "markdown",
   "source": "This is chapter trys to enhance the base line model with merging the labels \"Celebration\" and \"Excitement\" into one label.",
   "id": "647b472b40ecc984"
  },
  {
   "metadata": {},
   "cell_type": "code",
   "outputs": [],
   "execution_count": null,
   "source": [
    "model_name = \"MIT/ast-finetuned-audioset-10-10-0.4593\"\n",
    "device = 'cuda'"
   ],
   "id": "c18473e4e040d5b9"
  },
  {
   "metadata": {
    "jp-MarkdownHeadingCollapsed": true
   },
   "cell_type": "markdown",
   "source": "### 5.1 Data Processing",
   "id": "1a91fb1d-bc16-46f4-b8f1-b272a872ee2c"
  },
  {
   "metadata": {
    "scrolled": true
   },
   "cell_type": "code",
   "outputs": [
    {
     "data": {
      "text/plain": [
       "array([4, 4, 4, 4, 4, 4, 4, 4, 4, 0, 0, 0, 3, 3, 3, 3, 3, 3, 3, 3, 0, 0,\n",
       "       0, 0, 2, 2, 0, 4, 4, 4, 4, 0, 0, 0, 0, 0, 0, 0, 0, 0, 2, 1, 1, 1,\n",
       "       1, 3, 3, 3, 3, 2, 2, 4, 4, 4, 4, 4, 4, 4, 0, 0, 0, 0, 0, 1, 1, 1,\n",
       "       2, 1, 1, 1, 1, 1, 1, 3, 3, 3, 3, 3, 3, 3, 3, 3, 3, 3, 1, 1, 1, 4,\n",
       "       4, 4, 4, 4, 4, 4, 2, 4, 4, 4, 4, 4, 1, 1, 1, 1, 4, 4, 4, 4, 4, 4,\n",
       "       4, 4, 4, 4, 4, 4, 4, 4, 4, 4, 4, 4, 2, 0, 0, 0, 0, 0, 0, 0, 4, 4,\n",
       "       4, 4, 4, 4, 4, 4, 4, 4, 4, 4, 4, 1, 1, 1, 1, 3, 3, 3, 1, 3, 3, 3,\n",
       "       2, 2, 0, 0, 0, 0, 0, 0, 0, 0, 0, 0, 0, 0, 0, 0, 0, 0, 0, 0, 0, 0,\n",
       "       0, 0, 0, 0, 0, 0, 0, 0, 0, 0, 0, 0, 0, 0, 0, 0, 0, 0, 0, 0, 0, 0,\n",
       "       0, 0, 0, 0, 0, 0, 0, 0, 0, 0, 0, 0, 0, 0, 0, 0, 0, 0, 0, 0, 0, 0,\n",
       "       0, 0, 0, 0, 0, 0, 0, 0, 0, 0, 0, 0, 0, 0, 0, 0, 0, 0, 0, 0, 0, 0,\n",
       "       0, 0, 0, 0, 0, 0, 0, 0, 0, 0, 0, 0, 0, 0, 0, 0, 0, 0, 0, 0, 0, 0,\n",
       "       0, 0, 0, 0, 0, 0, 0, 0, 0, 0, 0, 0, 0, 0, 0, 0, 1, 1, 0, 0, 0, 0,\n",
       "       0, 0, 0, 0, 0, 0, 0, 0, 0, 0, 0, 0, 0, 0, 0, 0, 0, 0, 0, 0, 0, 0,\n",
       "       0, 0, 0, 0, 0, 0, 0, 0, 0, 0, 0, 0, 0, 0, 0, 0, 0, 0, 0, 3, 3, 3,\n",
       "       3, 3, 3, 3, 3, 3, 3, 3, 0, 0, 0, 0, 0, 0, 0, 0, 0, 0, 0, 0, 0, 0,\n",
       "       0, 0, 1, 4, 4, 4, 4, 4, 4, 4, 4, 0, 0, 0, 0, 0, 0, 0, 0, 0, 0, 1,\n",
       "       1, 3, 3, 3, 4, 4, 4, 4, 4, 4, 0, 0, 0, 0, 0, 0, 0, 0, 0, 0, 0, 0,\n",
       "       0, 0, 0, 0, 0, 0, 0, 0, 0, 0, 0, 0, 0, 0, 0, 0, 0, 0, 0, 0, 0, 0,\n",
       "       0, 0, 0, 0, 0, 0, 0, 0, 0, 0, 0, 0, 0, 3, 3, 3, 3, 1, 1, 1, 4, 4,\n",
       "       4, 4, 4, 4, 4, 4, 4, 4, 4, 4, 4, 4, 4, 4, 4, 4, 4, 4, 4, 4, 0, 0,\n",
       "       0, 0, 0, 0, 0, 0, 1, 1, 1, 1, 1, 1, 0, 0, 0, 0, 0, 0, 0, 0, 1, 1,\n",
       "       1, 1, 1, 1, 1, 1, 1, 1, 1, 1, 1, 1, 1, 1, 3, 3, 3, 3, 3, 3, 3, 3,\n",
       "       3, 3, 3, 3, 3, 4, 4, 4, 4, 4, 4, 4, 4, 4, 4, 4, 4, 4, 4, 4, 4, 4,\n",
       "       4, 4, 4, 4, 4, 4, 4, 4, 4, 4, 4, 4, 4, 4, 3, 3, 3, 3, 3, 3, 3, 3,\n",
       "       3, 3, 3, 3, 3, 3, 3, 3, 3, 3, 3, 3, 3, 2, 2, 2, 2, 2, 2, 2, 2, 2,\n",
       "       2, 2, 2, 2, 2, 1, 1, 1, 1, 1, 1, 1, 3, 3, 3, 3, 2, 2, 2, 2, 2, 2,\n",
       "       2, 2, 2, 2, 2, 2, 2, 2, 2, 2, 2, 2, 2, 2, 2, 1, 1, 0, 0, 0, 0, 0,\n",
       "       0, 0, 0, 0, 0, 0, 0, 0, 0, 0, 0, 0, 0, 0, 0, 0, 0, 0, 0, 0, 0, 0,\n",
       "       0, 0, 0, 0, 0, 0, 0, 0, 4, 4, 4, 4, 4, 4, 4, 4, 4, 4, 4, 4, 4, 4,\n",
       "       4, 4, 4, 4, 4, 4, 4, 4, 4, 4, 4, 4, 4, 4, 4, 4, 4, 4, 4, 4, 4, 4,\n",
       "       4, 4, 4, 4, 4, 4, 4, 4, 4, 4, 4, 4, 4, 0, 0, 0, 0, 0, 0, 0, 0, 0,\n",
       "       0, 0, 0, 0, 0, 0, 0, 0, 0, 0, 0, 0, 0, 0, 0, 0, 0, 0, 0, 0, 0, 0,\n",
       "       0, 0, 0, 0, 0, 0, 0, 0, 0, 0, 0, 0, 0, 0, 0, 0, 0, 2, 2, 2, 2, 2,\n",
       "       2, 2, 2, 2, 2, 2, 2, 2, 2, 2, 1, 1, 1, 1, 1, 1, 1, 4, 4, 4, 4, 4,\n",
       "       4, 4, 4, 4, 1, 1, 1, 1, 1, 1, 4, 4, 4, 1, 1, 1, 4, 4, 4, 4, 4, 1,\n",
       "       4, 4, 4, 4, 4, 4, 4, 4, 4, 4, 4, 4, 1, 1, 1, 4, 4, 4, 4, 4, 4, 4,\n",
       "       4, 4, 4, 4, 4, 4, 4, 4, 4, 4, 4, 4, 4, 4, 4, 4, 4, 4, 1, 1, 1, 4,\n",
       "       4, 4, 4, 4, 4, 4, 4, 4, 4, 4, 4, 4, 4, 4, 4, 4, 4, 4, 4, 4, 4, 4,\n",
       "       4, 4, 4, 4, 4, 4, 4, 4, 4, 1, 1, 4, 4, 4, 4, 4, 4, 4, 4, 4, 4, 4,\n",
       "       4, 4, 4, 4, 4, 4, 4, 4, 4, 4, 4, 4, 4, 4, 4, 4, 4, 4, 4, 1, 1, 1,\n",
       "       1, 1, 1, 1])"
      ]
     },
     "execution_count": 64,
     "metadata": {},
     "output_type": "execute_result"
    }
   ],
   "execution_count": 64,
   "source": "arrays['y']",
   "id": "8a1c3f27-21b2-46e2-a793-ffc585deace1"
  },
  {
   "metadata": {
    "jp-MarkdownHeadingCollapsed": true
   },
   "cell_type": "markdown",
   "source": "#### 5.1.1 Merging",
   "id": "f8925718-eb3b-4b77-a325-9f11d1f9f415"
  },
  {
   "metadata": {},
   "cell_type": "code",
   "outputs": [
    {
     "data": {
      "text/plain": [
       "{'Chanting/Singing': 0,\n",
       " 'Excitement/Celebration': 1,\n",
       " 'Disappointment': 2,\n",
       " 'Boring': 3}"
      ]
     },
     "execution_count": 79,
     "metadata": {},
     "output_type": "execute_result"
    }
   ],
   "execution_count": 79,
   "source": [
    "meta_labels = {\n",
    "     'Chanting/Singing': 0,\n",
    "     'Excitement/Celebration': 1,\n",
    "     'Disappointment': 2,\n",
    "     'Boring': 3\n",
    "}"
   ],
   "id": "65e615f5-8a44-4265-86dc-b0d56386a354"
  },
  {
   "metadata": {
    "scrolled": true
   },
   "cell_type": "code",
   "outputs": [
    {
     "data": {
      "text/plain": [
       "array([3, 3, 3, 3, 3, 3, 3, 3, 3, 0, 0, 0, 1, 1, 1, 1, 1, 1, 1, 1, 0, 0,\n",
       "       0, 0, 2, 2, 0, 3, 3, 3, 3, 0, 0, 0, 0, 0, 0, 0, 0, 0, 2, 1, 1, 1,\n",
       "       1, 1, 1, 1, 1, 2, 2, 3, 3, 3, 3, 3, 3, 3, 0, 0, 0, 0, 0, 1, 1, 1,\n",
       "       2, 1, 1, 1, 1, 1, 1, 1, 1, 1, 1, 1, 1, 1, 1, 1, 1, 1, 1, 1, 1, 3,\n",
       "       3, 3, 3, 3, 3, 3, 2, 3, 3, 3, 3, 3, 1, 1, 1, 1, 3, 3, 3, 3, 3, 3,\n",
       "       3, 3, 3, 3, 3, 3, 3, 3, 3, 3, 3, 3, 2, 0, 0, 0, 0, 0, 0, 0, 3, 3,\n",
       "       3, 3, 3, 3, 3, 3, 3, 3, 3, 3, 3, 1, 1, 1, 1, 1, 1, 1, 1, 1, 1, 1,\n",
       "       2, 2, 0, 0, 0, 0, 0, 0, 0, 0, 0, 0, 0, 0, 0, 0, 0, 0, 0, 0, 0, 0,\n",
       "       0, 0, 0, 0, 0, 0, 0, 0, 0, 0, 0, 0, 0, 0, 0, 0, 0, 0, 0, 0, 0, 0,\n",
       "       0, 0, 0, 0, 0, 0, 0, 0, 0, 0, 0, 0, 0, 0, 0, 0, 0, 0, 0, 0, 0, 0,\n",
       "       0, 0, 0, 0, 0, 0, 0, 0, 0, 0, 0, 0, 0, 0, 0, 0, 0, 0, 0, 0, 0, 0,\n",
       "       0, 0, 0, 0, 0, 0, 0, 0, 0, 0, 0, 0, 0, 0, 0, 0, 0, 0, 0, 0, 0, 0,\n",
       "       0, 0, 0, 0, 0, 0, 0, 0, 0, 0, 0, 0, 0, 0, 0, 0, 1, 1, 0, 0, 0, 0,\n",
       "       0, 0, 0, 0, 0, 0, 0, 0, 0, 0, 0, 0, 0, 0, 0, 0, 0, 0, 0, 0, 0, 0,\n",
       "       0, 0, 0, 0, 0, 0, 0, 0, 0, 0, 0, 0, 0, 0, 0, 0, 0, 0, 0, 1, 1, 1,\n",
       "       1, 1, 1, 1, 1, 1, 1, 1, 0, 0, 0, 0, 0, 0, 0, 0, 0, 0, 0, 0, 0, 0,\n",
       "       0, 0, 1, 3, 3, 3, 3, 3, 3, 3, 3, 0, 0, 0, 0, 0, 0, 0, 0, 0, 0, 1,\n",
       "       1, 1, 1, 1, 3, 3, 3, 3, 3, 3, 0, 0, 0, 0, 0, 0, 0, 0, 0, 0, 0, 0,\n",
       "       0, 0, 0, 0, 0, 0, 0, 0, 0, 0, 0, 0, 0, 0, 0, 0, 0, 0, 0, 0, 0, 0,\n",
       "       0, 0, 0, 0, 0, 0, 0, 0, 0, 0, 0, 0, 0, 1, 1, 1, 1, 1, 1, 1, 3, 3,\n",
       "       3, 3, 3, 3, 3, 3, 3, 3, 3, 3, 3, 3, 3, 3, 3, 3, 3, 3, 3, 3, 0, 0,\n",
       "       0, 0, 0, 0, 0, 0, 1, 1, 1, 1, 1, 1, 0, 0, 0, 0, 0, 0, 0, 0, 1, 1,\n",
       "       1, 1, 1, 1, 1, 1, 1, 1, 1, 1, 1, 1, 1, 1, 1, 1, 1, 1, 1, 1, 1, 1,\n",
       "       1, 1, 1, 1, 1, 3, 3, 3, 3, 3, 3, 3, 3, 3, 3, 3, 3, 3, 3, 3, 3, 3,\n",
       "       3, 3, 3, 3, 3, 3, 3, 3, 3, 3, 3, 3, 3, 3, 1, 1, 1, 1, 1, 1, 1, 1,\n",
       "       1, 1, 1, 1, 1, 1, 1, 1, 1, 1, 1, 1, 1, 2, 2, 2, 2, 2, 2, 2, 2, 2,\n",
       "       2, 2, 2, 2, 2, 1, 1, 1, 1, 1, 1, 1, 1, 1, 1, 1, 2, 2, 2, 2, 2, 2,\n",
       "       2, 2, 2, 2, 2, 2, 2, 2, 2, 2, 2, 2, 2, 2, 2, 1, 1, 0, 0, 0, 0, 0,\n",
       "       0, 0, 0, 0, 0, 0, 0, 0, 0, 0, 0, 0, 0, 0, 0, 0, 0, 0, 0, 0, 0, 0,\n",
       "       0, 0, 0, 0, 0, 0, 0, 0, 3, 3, 3, 3, 3, 3, 3, 3, 3, 3, 3, 3, 3, 3,\n",
       "       3, 3, 3, 3, 3, 3, 3, 3, 3, 3, 3, 3, 3, 3, 3, 3, 3, 3, 3, 3, 3, 3,\n",
       "       3, 3, 3, 3, 3, 3, 3, 3, 3, 3, 3, 3, 3, 0, 0, 0, 0, 0, 0, 0, 0, 0,\n",
       "       0, 0, 0, 0, 0, 0, 0, 0, 0, 0, 0, 0, 0, 0, 0, 0, 0, 0, 0, 0, 0, 0,\n",
       "       0, 0, 0, 0, 0, 0, 0, 0, 0, 0, 0, 0, 0, 0, 0, 0, 0, 2, 2, 2, 2, 2,\n",
       "       2, 2, 2, 2, 2, 2, 2, 2, 2, 2, 1, 1, 1, 1, 1, 1, 1, 3, 3, 3, 3, 3,\n",
       "       3, 3, 3, 3, 1, 1, 1, 1, 1, 1, 3, 3, 3, 1, 1, 1, 3, 3, 3, 3, 3, 1,\n",
       "       3, 3, 3, 3, 3, 3, 3, 3, 3, 3, 3, 3, 1, 1, 1, 3, 3, 3, 3, 3, 3, 3,\n",
       "       3, 3, 3, 3, 3, 3, 3, 3, 3, 3, 3, 3, 3, 3, 3, 3, 3, 3, 1, 1, 1, 3,\n",
       "       3, 3, 3, 3, 3, 3, 3, 3, 3, 3, 3, 3, 3, 3, 3, 3, 3, 3, 3, 3, 3, 3,\n",
       "       3, 3, 3, 3, 3, 3, 3, 3, 3, 1, 1, 3, 3, 3, 3, 3, 3, 3, 3, 3, 3, 3,\n",
       "       3, 3, 3, 3, 3, 3, 3, 3, 3, 3, 3, 3, 3, 3, 3, 3, 3, 3, 3, 1, 1, 1,\n",
       "       1, 1, 1, 1])"
      ]
     },
     "execution_count": 78,
     "metadata": {},
     "output_type": "execute_result"
    }
   ],
   "execution_count": 78,
   "source": [
    "nparray2 = np.where(arrays['y']==3, 1, arrays['y'])\n",
    "nparray2 = np.where(nparray2==4, 3, nparray2)\n",
    "nparray2"
   ],
   "id": "e3c82266-e1b1-4469-9309-04b9aab8ef4f"
  },
  {
   "metadata": {
    "jp-MarkdownHeadingCollapsed": true
   },
   "cell_type": "markdown",
   "source": "#### 5.1.2 Processing",
   "id": "d695610b-5965-456a-9f36-792741b1b0c7"
  },
  {
   "metadata": {},
   "cell_type": "code",
   "outputs": [],
   "execution_count": 80,
   "source": [
    "feature_extractor = AutoFeatureExtractor.from_pretrained(model_name)\n",
    "\n",
    "preprocessed_audio = feature_extractor(\n",
    "    arrays['X'],\n",
    "    sampling_rate = meta['sample_rate'],\n",
    "    return_tensors = \"pt\"\n",
    ")\n",
    "\n",
    "hf_dataset = Dataset.from_dict({\n",
    "    \"input_values\": preprocessed_audio['input_values'],\n",
    "    \"label\": nparray2,\n",
    "})"
   ],
   "id": "c4ac3821-4583-4212-8092-5cb3aa8919a4"
  },
  {
   "metadata": {},
   "cell_type": "code",
   "outputs": [
    {
     "data": {
      "text/plain": [
       "Dataset({\n",
       "    features: ['input_values', 'label'],\n",
       "    num_rows: 906\n",
       "})"
      ]
     },
     "execution_count": 81,
     "metadata": {},
     "output_type": "execute_result"
    }
   ],
   "execution_count": 81,
   "source": "hf_dataset",
   "id": "eba3712b-b001-4b06-8c62-f31f8a704a48"
  },
  {
   "metadata": {
    "jp-MarkdownHeadingCollapsed": true
   },
   "cell_type": "markdown",
   "source": "#### 5.1.3 Train- and Test-Split",
   "id": "ac808a3e-6e11-4fd3-9537-8301851a5f0a"
  },
  {
   "metadata": {
    "scrolled": true
   },
   "cell_type": "code",
   "outputs": [
    {
     "name": "stdout",
     "output_type": "stream",
     "text": [
      "Fold 0:\n",
      "  Train: source={np.int64(2), np.int64(3), np.int64(4), np.int64(6), np.int64(7), np.int64(8), np.int64(9), np.int64(10), np.int64(11), np.int64(12), np.int64(13), np.int64(15)}\n",
      "  Test:  source={np.int64(0), np.int64(1), np.int64(5), np.int64(14)}\n",
      "Fold 1:\n",
      "  Train: source={np.int64(0), np.int64(1), np.int64(3), np.int64(4), np.int64(5), np.int64(7), np.int64(9), np.int64(10), np.int64(11), np.int64(12), np.int64(14), np.int64(15)}\n",
      "  Test:  source={np.int64(8), np.int64(2), np.int64(13), np.int64(6)}\n",
      "Fold 2:\n",
      "  Train: source={np.int64(0), np.int64(2), np.int64(3), np.int64(4), np.int64(6), np.int64(7), np.int64(9), np.int64(10), np.int64(11), np.int64(12), np.int64(14), np.int64(15)}\n",
      "  Test:  source={np.int64(8), np.int64(1), np.int64(13), np.int64(5)}\n",
      "Fold 3:\n",
      "  Train: source={np.int64(1), np.int64(3), np.int64(4), np.int64(6), np.int64(7), np.int64(8), np.int64(9), np.int64(10), np.int64(11), np.int64(12), np.int64(13), np.int64(15)}\n",
      "  Test:  source={np.int64(0), np.int64(2), np.int64(5), np.int64(14)}\n",
      "Fold 4:\n",
      "  Train: source={np.int64(0), np.int64(1), np.int64(2), np.int64(3), np.int64(5), np.int64(6), np.int64(7), np.int64(8), np.int64(9), np.int64(11), np.int64(12), np.int64(13)}\n",
      "  Test:  source={np.int64(10), np.int64(4), np.int64(14), np.int64(15)}\n",
      "Fold 5:\n",
      "  Train: source={np.int64(0), np.int64(1), np.int64(3), np.int64(5), np.int64(6), np.int64(7), np.int64(9), np.int64(10), np.int64(11), np.int64(13), np.int64(14), np.int64(15)}\n",
      "  Test:  source={np.int64(8), np.int64(2), np.int64(4), np.int64(12)}\n",
      "Fold 6:\n",
      "  Train: source={np.int64(0), np.int64(1), np.int64(4), np.int64(5), np.int64(6), np.int64(7), np.int64(8), np.int64(9), np.int64(10), np.int64(11), np.int64(12), np.int64(15)}\n",
      "  Test:  source={np.int64(2), np.int64(3), np.int64(13), np.int64(14)}\n",
      "Fold 7:\n",
      "  Train: source={np.int64(0), np.int64(1), np.int64(2), np.int64(3), np.int64(4), np.int64(6), np.int64(7), np.int64(8), np.int64(10), np.int64(12), np.int64(14), np.int64(15)}\n",
      "  Test:  source={np.int64(9), np.int64(13), np.int64(11), np.int64(5)}\n",
      "Fold 8:\n",
      "  Train: source={np.int64(0), np.int64(2), np.int64(4), np.int64(5), np.int64(6), np.int64(7), np.int64(9), np.int64(10), np.int64(12), np.int64(13), np.int64(14), np.int64(15)}\n",
      "  Test:  source={np.int64(8), np.int64(1), np.int64(3), np.int64(11)}\n",
      "Fold 9:\n",
      "  Train: source={np.int64(0), np.int64(2), np.int64(3), np.int64(4), np.int64(6), np.int64(7), np.int64(8), np.int64(9), np.int64(10), np.int64(11), np.int64(14), np.int64(15)}\n",
      "  Test:  source={np.int64(1), np.int64(13), np.int64(12), np.int64(5)}\n"
     ]
    }
   ],
   "execution_count": 82,
   "source": [
    "gss = GroupShuffleSplit(n_splits=10, train_size=.8, random_state=42)\n",
    "gss.get_n_splits()\n",
    "\n",
    "for i, (train_index, test_index) in enumerate(gss.split(**arrays)):\n",
    "    print(f\"Fold {i}:\")\n",
    "    print(f\"  Train: source={set(arrays['groups'][train_index])}\")\n",
    "    print(f\"  Test:  source={set(arrays['groups'][test_index])}\")"
   ],
   "id": "7634ea08-c75d-44c3-a57a-ce64353b8bb8"
  },
  {
   "metadata": {},
   "cell_type": "code",
   "outputs": [],
   "execution_count": 83,
   "source": "(train_index, test_index) = next(gss.split(**arrays))",
   "id": "8c80a751-7863-433a-b324-a724cb3b6adf"
  },
  {
   "metadata": {},
   "cell_type": "code",
   "outputs": [
    {
     "data": {
      "text/plain": [
       "Dataset({\n",
       "    features: ['input_values', 'label'],\n",
       "    num_rows: 677\n",
       "})"
      ]
     },
     "execution_count": 92,
     "metadata": {},
     "output_type": "execute_result"
    }
   ],
   "execution_count": 92,
   "source": [
    "train_ds = hf_dataset.select(train_index)\n",
    "train_ds"
   ],
   "id": "a87c4a7e-90b6-426f-b844-d3c2d8f5472d"
  },
  {
   "metadata": {},
   "cell_type": "code",
   "outputs": [
    {
     "data": {
      "text/plain": [
       "Dataset({\n",
       "    features: ['input_values', 'label'],\n",
       "    num_rows: 229\n",
       "})"
      ]
     },
     "execution_count": 93,
     "metadata": {},
     "output_type": "execute_result"
    }
   ],
   "execution_count": 93,
   "source": [
    "test_ds = hf_dataset.select(test_index)\n",
    "test_ds"
   ],
   "id": "da4c9f0e-2b9b-4a87-a343-82e5c7e18c9b"
  },
  {
   "metadata": {
    "jp-MarkdownHeadingCollapsed": true
   },
   "cell_type": "markdown",
   "source": "### 5.2 Model Parameters",
   "id": "5b02e0753048ebf1"
  },
  {
   "metadata": {},
   "cell_type": "code",
   "outputs": [
    {
     "name": "stderr",
     "output_type": "stream",
     "text": [
      "Some weights of ASTForAudioClassification were not initialized from the model checkpoint at MIT/ast-finetuned-audioset-10-10-0.4593 and are newly initialized because the shapes did not match:\n",
      "- classifier.dense.bias: found shape torch.Size([527]) in the checkpoint and torch.Size([4]) in the model instantiated\n",
      "- classifier.dense.weight: found shape torch.Size([527, 768]) in the checkpoint and torch.Size([4, 768]) in the model instantiated\n",
      "You should probably TRAIN this model on a down-stream task to be able to use it for predictions and inference.\n"
     ]
    }
   ],
   "execution_count": 94,
   "source": [
    "model2train = AutoModelForAudioClassification.from_pretrained(\n",
    "    model_name,\n",
    "    num_labels = len(meta_labels),\n",
    "    label2id = meta_labels,\n",
    "    id2label = {v:k for k,v in meta_labels.items()},\n",
    "    ignore_mismatched_sizes = True\n",
    ")"
   ],
   "id": "2b57abf5-c822-4aa9-b382-19b02877d365"
  },
  {
   "metadata": {},
   "cell_type": "code",
   "outputs": [],
   "execution_count": 95,
   "source": [
    "batch_size = 8\n",
    "args = transformers.TrainingArguments(\n",
    "    f'{model_name.split(\"/\")[-1]}-ft_stadium',\n",
    "\n",
    "    learning_rate=1e-5,\n",
    "    warmup_ratio=0.1,\n",
    "\n",
    "    eval_strategy = \"steps\",\n",
    "    eval_steps = 10,\n",
    "    logging_steps=10,\n",
    "\n",
    "    save_strategy = \"epoch\",\n",
    "    per_device_train_batch_size=batch_size,\n",
    "    per_device_eval_batch_size=batch_size,\n",
    "\n",
    "    gradient_accumulation_steps=4,\n",
    "    num_train_epochs=5,\n",
    "    load_best_model_at_end=False,\n",
    "    push_to_hub=False,\n",
    ")"
   ],
   "id": "ceffc1bc-512c-44a3-9c64-c8d9ea761eb1"
  },
  {
   "metadata": {},
   "cell_type": "code",
   "outputs": [],
   "execution_count": 96,
   "source": [
    "class CustomTrainer(Trainer):\n",
    "    def __init__(self, *args, class_weights=None, **kwargs):\n",
    "        super().__init__(*args, **kwargs)\n",
    "        self.class_weights = class_weights\n",
    "\n",
    "    def compute_loss(self, model, inputs, return_outputs=False, **kwargs):\n",
    "        labels = inputs.pop(\"labels\").to(torch.long)  # Labels in int64 konvertieren\n",
    "        outputs = model(**inputs)\n",
    "        logits = outputs.logits.to(torch.float32)  # Logits in float32 konvertieren\n",
    "\n",
    "        # Loss-function with class weights\n",
    "        loss_fn = nn.CrossEntropyLoss(weight=self.class_weights)\n",
    "        loss = loss_fn(logits, labels)\n",
    "\n",
    "        return (loss, outputs) if return_outputs else loss\n",
    "\n",
    "    def compute_metrics(pred):\n",
    "        labels = pred.label_ids\n",
    "        preds = pred.predictions.argmax(-1)\n",
    "\n",
    "        metrics = {\n",
    "            'accuracy': skm.accuracy_score(labels, preds),\n",
    "            'macro_f1': skm.f1_score(labels, preds, average='macro'),\n",
    "            'weighted_f1': skm.f1_score(labels, preds, average='weighted')\n",
    "        }\n",
    "\n",
    "        return metrics"
   ],
   "id": "39469ea8-ae73-4726-8db9-b003e73bc2b1"
  },
  {
   "metadata": {},
   "cell_type": "code",
   "outputs": [
    {
     "name": "stdout",
     "output_type": "stream",
     "text": [
      "Class Weights: tensor([0.6122, 1.2514, 3.7750, 0.7678], device='cuda:0')\n"
     ]
    }
   ],
   "execution_count": 97,
   "source": [
    "class_weights = compute_class_weight(\n",
    "    class_weight=\"balanced\",\n",
    "    classes=np.unique( hf_dataset['label']),\n",
    "    y = hf_dataset['label']\n",
    ")\n",
    "class_weights = torch.tensor(class_weights, dtype=torch.float32).to(device)\n",
    "print(\"Class Weights:\", class_weights)"
   ],
   "id": "f1f3985e-84f1-461d-86f1-05e715f4edad"
  },
  {
   "metadata": {},
   "cell_type": "code",
   "outputs": [],
   "execution_count": 98,
   "source": [
    "trainer = CustomTrainer(\n",
    "    model=model2train,\n",
    "    args=args,\n",
    "    train_dataset=train_ds,\n",
    "    eval_dataset=test_ds,\n",
    "    processing_class = feature_extractor, #tokenizer=feature_extractor,\n",
    "    class_weights=class_weights,\n",
    "    compute_metrics=CustomTrainer.compute_metrics\n",
    ")"
   ],
   "id": "2ca38dba-910f-49a0-8f58-5884b593389c"
  },
  {
   "metadata": {
    "jp-MarkdownHeadingCollapsed": true
   },
   "cell_type": "markdown",
   "source": "### 5.3 Training",
   "id": "ff3e2f3bac101fe"
  },
  {
   "metadata": {},
   "cell_type": "code",
   "outputs": [
    {
     "data": {
      "text/html": [
       "\n",
       "    <div>\n",
       "      \n",
       "      <progress value='105' max='105' style='width:300px; height:20px; vertical-align: middle;'></progress>\n",
       "      [105/105 07:28, Epoch 4/5]\n",
       "    </div>\n",
       "    <table border=\"1\" class=\"dataframe\">\n",
       "  <thead>\n",
       " <tr style=\"text-align: left;\">\n",
       "      <th>Step</th>\n",
       "      <th>Training Loss</th>\n",
       "      <th>Validation Loss</th>\n",
       "      <th>Accuracy</th>\n",
       "      <th>Macro F1</th>\n",
       "      <th>Weighted F1</th>\n",
       "    </tr>\n",
       "  </thead>\n",
       "  <tbody>\n",
       "    <tr>\n",
       "      <td>10</td>\n",
       "      <td>1.466100</td>\n",
       "      <td>1.300210</td>\n",
       "      <td>0.427948</td>\n",
       "      <td>0.288414</td>\n",
       "      <td>0.396168</td>\n",
       "    </tr>\n",
       "    <tr>\n",
       "      <td>20</td>\n",
       "      <td>1.050200</td>\n",
       "      <td>0.932918</td>\n",
       "      <td>0.655022</td>\n",
       "      <td>0.610460</td>\n",
       "      <td>0.655565</td>\n",
       "    </tr>\n",
       "    <tr>\n",
       "      <td>30</td>\n",
       "      <td>0.497700</td>\n",
       "      <td>0.701421</td>\n",
       "      <td>0.799127</td>\n",
       "      <td>0.694899</td>\n",
       "      <td>0.783973</td>\n",
       "    </tr>\n",
       "    <tr>\n",
       "      <td>40</td>\n",
       "      <td>0.374700</td>\n",
       "      <td>0.613318</td>\n",
       "      <td>0.807860</td>\n",
       "      <td>0.761411</td>\n",
       "      <td>0.814469</td>\n",
       "    </tr>\n",
       "    <tr>\n",
       "      <td>50</td>\n",
       "      <td>0.204400</td>\n",
       "      <td>0.561840</td>\n",
       "      <td>0.842795</td>\n",
       "      <td>0.788974</td>\n",
       "      <td>0.838458</td>\n",
       "    </tr>\n",
       "    <tr>\n",
       "      <td>60</td>\n",
       "      <td>0.219500</td>\n",
       "      <td>0.504076</td>\n",
       "      <td>0.825328</td>\n",
       "      <td>0.769686</td>\n",
       "      <td>0.827099</td>\n",
       "    </tr>\n",
       "    <tr>\n",
       "      <td>70</td>\n",
       "      <td>0.235200</td>\n",
       "      <td>0.488751</td>\n",
       "      <td>0.829694</td>\n",
       "      <td>0.777492</td>\n",
       "      <td>0.830247</td>\n",
       "    </tr>\n",
       "    <tr>\n",
       "      <td>80</td>\n",
       "      <td>0.125700</td>\n",
       "      <td>0.496404</td>\n",
       "      <td>0.860262</td>\n",
       "      <td>0.797146</td>\n",
       "      <td>0.854705</td>\n",
       "    </tr>\n",
       "    <tr>\n",
       "      <td>90</td>\n",
       "      <td>0.109200</td>\n",
       "      <td>0.504642</td>\n",
       "      <td>0.842795</td>\n",
       "      <td>0.801542</td>\n",
       "      <td>0.840407</td>\n",
       "    </tr>\n",
       "    <tr>\n",
       "      <td>100</td>\n",
       "      <td>0.114300</td>\n",
       "      <td>0.472276</td>\n",
       "      <td>0.855895</td>\n",
       "      <td>0.812778</td>\n",
       "      <td>0.853359</td>\n",
       "    </tr>\n",
       "  </tbody>\n",
       "</table><p>"
      ],
      "text/plain": [
       "<IPython.core.display.HTML object>"
      ]
     },
     "metadata": {},
     "output_type": "display_data"
    },
    {
     "data": {
      "text/plain": [
       "TrainOutput(global_step=105, training_loss=0.4223666517507462, metrics={'train_runtime': 451.3047, 'train_samples_per_second': 7.5, 'train_steps_per_second': 0.233, 'total_flos': 2.2043372873475686e+17, 'train_loss': 0.4223666517507462, 'epoch': 4.8})"
      ]
     },
     "execution_count": 99,
     "metadata": {},
     "output_type": "execute_result"
    }
   ],
   "execution_count": 99,
   "source": "trainer.train()",
   "id": "2e9cb696-6e42-4641-9da8-f2f387e4a263"
  },
  {
   "metadata": {
    "scrolled": true
   },
   "cell_type": "code",
   "outputs": [
    {
     "data": {
      "text/plain": [
       "[{'loss': 1.4661,\n",
       "  'grad_norm': 10.76355266571045,\n",
       "  'learning_rate': 9.090909090909091e-06,\n",
       "  'epoch': 0.47058823529411764,\n",
       "  'step': 10},\n",
       " {'eval_loss': 1.3002099990844727,\n",
       "  'eval_accuracy': 0.4279475982532751,\n",
       "  'eval_macro_f1': 0.28841422804561456,\n",
       "  'eval_weighted_f1': 0.39616833045300875,\n",
       "  'eval_runtime': 14.3638,\n",
       "  'eval_samples_per_second': 15.943,\n",
       "  'eval_steps_per_second': 2.019,\n",
       "  'epoch': 0.47058823529411764,\n",
       "  'step': 10},\n",
       " {'loss': 1.0502,\n",
       "  'grad_norm': 9.615665435791016,\n",
       "  'learning_rate': 9.042553191489362e-06,\n",
       "  'epoch': 0.9411764705882353,\n",
       "  'step': 20},\n",
       " {'eval_loss': 0.9329177141189575,\n",
       "  'eval_accuracy': 0.6550218340611353,\n",
       "  'eval_macro_f1': 0.6104604900130062,\n",
       "  'eval_weighted_f1': 0.6555646868502293,\n",
       "  'eval_runtime': 14.6616,\n",
       "  'eval_samples_per_second': 15.619,\n",
       "  'eval_steps_per_second': 1.978,\n",
       "  'epoch': 0.9411764705882353,\n",
       "  'step': 20},\n",
       " {'loss': 0.4977,\n",
       "  'grad_norm': 14.356802940368652,\n",
       "  'learning_rate': 7.97872340425532e-06,\n",
       "  'epoch': 1.3764705882352941,\n",
       "  'step': 30},\n",
       " {'eval_loss': 0.7014210820198059,\n",
       "  'eval_accuracy': 0.7991266375545851,\n",
       "  'eval_macro_f1': 0.6948992272972268,\n",
       "  'eval_weighted_f1': 0.7839725403395916,\n",
       "  'eval_runtime': 14.5706,\n",
       "  'eval_samples_per_second': 15.717,\n",
       "  'eval_steps_per_second': 1.99,\n",
       "  'epoch': 1.3764705882352941,\n",
       "  'step': 30},\n",
       " {'loss': 0.3747,\n",
       "  'grad_norm': 7.592645168304443,\n",
       "  'learning_rate': 6.914893617021278e-06,\n",
       "  'epoch': 1.8470588235294119,\n",
       "  'step': 40},\n",
       " {'eval_loss': 0.6133179664611816,\n",
       "  'eval_accuracy': 0.8078602620087336,\n",
       "  'eval_macro_f1': 0.7614108683033991,\n",
       "  'eval_weighted_f1': 0.8144690294081539,\n",
       "  'eval_runtime': 14.6358,\n",
       "  'eval_samples_per_second': 15.647,\n",
       "  'eval_steps_per_second': 1.981,\n",
       "  'epoch': 1.8470588235294119,\n",
       "  'step': 40},\n",
       " {'loss': 0.2044,\n",
       "  'grad_norm': 8.058453559875488,\n",
       "  'learning_rate': 5.851063829787235e-06,\n",
       "  'epoch': 2.2823529411764705,\n",
       "  'step': 50},\n",
       " {'eval_loss': 0.5618401169776917,\n",
       "  'eval_accuracy': 0.8427947598253275,\n",
       "  'eval_macro_f1': 0.7889736845555811,\n",
       "  'eval_weighted_f1': 0.838457858296738,\n",
       "  'eval_runtime': 14.6314,\n",
       "  'eval_samples_per_second': 15.651,\n",
       "  'eval_steps_per_second': 1.982,\n",
       "  'epoch': 2.2823529411764705,\n",
       "  'step': 50},\n",
       " {'loss': 0.2195,\n",
       "  'grad_norm': 17.85824203491211,\n",
       "  'learning_rate': 4.787234042553192e-06,\n",
       "  'epoch': 2.7529411764705882,\n",
       "  'step': 60},\n",
       " {'eval_loss': 0.5040757656097412,\n",
       "  'eval_accuracy': 0.8253275109170306,\n",
       "  'eval_macro_f1': 0.7696856659404874,\n",
       "  'eval_weighted_f1': 0.8270987333978448,\n",
       "  'eval_runtime': 14.3052,\n",
       "  'eval_samples_per_second': 16.008,\n",
       "  'eval_steps_per_second': 2.027,\n",
       "  'epoch': 2.7529411764705882,\n",
       "  'step': 60},\n",
       " {'loss': 0.2352,\n",
       "  'grad_norm': 5.032354831695557,\n",
       "  'learning_rate': 3.723404255319149e-06,\n",
       "  'epoch': 3.1882352941176473,\n",
       "  'step': 70},\n",
       " {'eval_loss': 0.4887514114379883,\n",
       "  'eval_accuracy': 0.8296943231441049,\n",
       "  'eval_macro_f1': 0.7774916639507459,\n",
       "  'eval_weighted_f1': 0.8302472988814475,\n",
       "  'eval_runtime': 14.572,\n",
       "  'eval_samples_per_second': 15.715,\n",
       "  'eval_steps_per_second': 1.99,\n",
       "  'epoch': 3.1882352941176473,\n",
       "  'step': 70},\n",
       " {'loss': 0.1257,\n",
       "  'grad_norm': 15.27629566192627,\n",
       "  'learning_rate': 2.6595744680851065e-06,\n",
       "  'epoch': 3.6588235294117646,\n",
       "  'step': 80},\n",
       " {'eval_loss': 0.49640366435050964,\n",
       "  'eval_accuracy': 0.8602620087336245,\n",
       "  'eval_macro_f1': 0.7971457615438733,\n",
       "  'eval_weighted_f1': 0.8547050511291437,\n",
       "  'eval_runtime': 14.8588,\n",
       "  'eval_samples_per_second': 15.412,\n",
       "  'eval_steps_per_second': 1.952,\n",
       "  'epoch': 3.6588235294117646,\n",
       "  'step': 80},\n",
       " {'loss': 0.1092,\n",
       "  'grad_norm': 3.7102298736572266,\n",
       "  'learning_rate': 1.595744680851064e-06,\n",
       "  'epoch': 4.094117647058823,\n",
       "  'step': 90},\n",
       " {'eval_loss': 0.5046418309211731,\n",
       "  'eval_accuracy': 0.8427947598253275,\n",
       "  'eval_macro_f1': 0.8015423560728638,\n",
       "  'eval_weighted_f1': 0.8404072470074037,\n",
       "  'eval_runtime': 15.0972,\n",
       "  'eval_samples_per_second': 15.168,\n",
       "  'eval_steps_per_second': 1.921,\n",
       "  'epoch': 4.094117647058823,\n",
       "  'step': 90},\n",
       " {'loss': 0.1143,\n",
       "  'grad_norm': 4.406670093536377,\n",
       "  'learning_rate': 5.319148936170213e-07,\n",
       "  'epoch': 4.564705882352941,\n",
       "  'step': 100},\n",
       " {'eval_loss': 0.4722760319709778,\n",
       "  'eval_accuracy': 0.8558951965065502,\n",
       "  'eval_macro_f1': 0.8127778226580092,\n",
       "  'eval_weighted_f1': 0.853358865677431,\n",
       "  'eval_runtime': 14.775,\n",
       "  'eval_samples_per_second': 15.499,\n",
       "  'eval_steps_per_second': 1.963,\n",
       "  'epoch': 4.564705882352941,\n",
       "  'step': 100},\n",
       " {'train_runtime': 451.3047,\n",
       "  'train_samples_per_second': 7.5,\n",
       "  'train_steps_per_second': 0.233,\n",
       "  'total_flos': 2.2043372873475686e+17,\n",
       "  'train_loss': 0.4223666517507462,\n",
       "  'epoch': 4.8,\n",
       "  'step': 105}]"
      ]
     },
     "execution_count": 100,
     "metadata": {},
     "output_type": "execute_result"
    }
   ],
   "execution_count": 100,
   "source": [
    "training_logs  = trainer.state.log_history\n",
    "training_logs"
   ],
   "id": "dc21d757-b5c7-46c0-ae90-0dd7bc107e29"
  },
  {
   "metadata": {},
   "cell_type": "code",
   "outputs": [],
   "execution_count": 101,
   "source": [
    "loss_values = [log[\"loss\"] for log in training_logs if \"loss\" in log]\n",
    "eval_loss = [log[\"eval_loss\"] for log in training_logs if \"eval_loss\" in log]\n",
    "steps = [log[\"step\"] for log in training_logs if \"loss\" in log]"
   ],
   "id": "e9766723-3966-4694-9c05-5129816bf133"
  },
  {
   "metadata": {},
   "cell_type": "code",
   "outputs": [
    {
     "data": {
      "image/png": "[encoded data removed]",
      "text/plain": [
       "<Figure size 1000x600 with 1 Axes>"
      ]
     },
     "metadata": {},
     "output_type": "display_data"
    }
   ],
   "execution_count": 103,
   "source": [
    "plt.figure(figsize=(10, 6))\n",
    "plt.plot(steps, loss_values, label=\"Train-Loss\")\n",
    "plt.plot(steps, eval_loss, label=\"Vali-Loss\")\n",
    "plt.xlabel(\"Steps\")\n",
    "plt.ylabel(\"Loss\")\n",
    "plt.title(\"Training Loss over Steps\")\n",
    "plt.legend()\n",
    "plt.grid()\n",
    "plt.show()"
   ],
   "id": "31ab7f79-5d8e-421d-8fba-2538a709b62b"
  },
  {
   "metadata": {},
   "cell_type": "markdown",
   "source": "Based on the graph and the output of the trainer, the training process is completely exhausted after from 70 steps onwards. Afterward overfitting seems to take place, in wich the of the training data continues to decrease, but the loss of the evaluation data remains the same.",
   "id": "10a5620d-c026-4dd4-8d39-b9f55157562e"
  },
  {
   "metadata": {
    "jp-MarkdownHeadingCollapsed": true
   },
   "cell_type": "markdown",
   "source": "### 5.4 Testing",
   "id": "4109fc6e387e644f"
  },
  {
   "metadata": {},
   "cell_type": "code",
   "outputs": [
    {
     "data": {
      "text/html": [],
      "text/plain": [
       "<IPython.core.display.HTML object>"
      ]
     },
     "metadata": {},
     "output_type": "display_data"
    }
   ],
   "execution_count": 104,
   "source": "pred = trainer.predict(test_ds)",
   "id": "e7d897c9-4e56-4a04-9ff8-b016f84130c6"
  },
  {
   "metadata": {},
   "cell_type": "code",
   "outputs": [
    {
     "name": "stdout",
     "output_type": "stream",
     "text": [
      "              precision    recall  f1-score   support\n",
      "\n",
      "           0       0.92      0.87      0.89       100\n",
      "           1       0.84      0.95      0.89        40\n",
      "           2       0.73      0.55      0.63        20\n",
      "           3       0.81      0.87      0.84        69\n",
      "\n",
      "    accuracy                           0.86       229\n",
      "   macro avg       0.83      0.81      0.81       229\n",
      "weighted avg       0.86      0.86      0.85       229\n",
      "\n"
     ]
    }
   ],
   "execution_count": 106,
   "source": "print(classification_report(pred.label_ids, pred.predictions.argmax(1)))",
   "id": "23afb3f09cb9ceea"
  },
  {
   "metadata": {},
   "cell_type": "code",
   "outputs": [
    {
     "data": {
      "text/plain": [
       "<sklearn.metrics._plot.confusion_matrix.ConfusionMatrixDisplay at 0x7f4da6979990>"
      ]
     },
     "execution_count": 105,
     "metadata": {},
     "output_type": "execute_result"
    },
    {
     "data": {
      "image/png": "[encoded data removed]",
      "text/plain": [
       "<Figure size 640x480 with 2 Axes>"
      ]
     },
     "metadata": {},
     "output_type": "display_data"
    }
   ],
   "execution_count": 105,
   "source": [
    "cmd = skm.ConfusionMatrixDisplay(\n",
    "    skm.confusion_matrix(pred.label_ids, pred.predictions.argmax(1)),\n",
    "    display_labels = meta_labels.keys()\n",
    ")\n",
    "cmd.plot(xticks_rotation=\"vertical\")"
   ],
   "id": "7291f165-a684-47fd-8afd-295a9d52886e"
  },
  {
   "metadata": {},
   "cell_type": "code",
   "outputs": [
    {
     "data": {
      "image/png": "[encoded data removed]",
      "text/plain": [
       "<Figure size 800x600 with 1 Axes>"
      ]
     },
     "metadata": {},
     "output_type": "display_data"
    }
   ],
   "execution_count": 110,
   "source": [
    "id2label = {v:k for k,v in meta_labels.items()}\n",
    "cm = confusion_matrix(pred.label_ids, pred.predictions.argmax(1), normalize='true')\n",
    "\n",
    "plt.figure(figsize=(8, 6))\n",
    "sns.heatmap(cm, annot=True, cmap=\"Blues\", cbar=False, xticklabels=id2label.values(), yticklabels=id2label.values())\n",
    "plt.xlabel(\"Predicted Label\")\n",
    "plt.ylabel(\"True Label\")\n",
    "plt.title(\"Normalized Confusion Matrix\")\n",
    "plt.show()"
   ],
   "id": "a2326d30-2539-4724-8c6f-311e85082a9a"
  },
  {
   "metadata": {},
   "cell_type": "markdown",
   "source": "In comparison with the base line model, the accuracy increased from 81 % to 86 %. \"Chanting/Singing\" and \"Boring\" decreased a little bit, but boring could increase by a little and the merged labels \"Celebration/Excitement\" increased greatly (if one can say increasing).Thus the merging was successfully, if as said before, one accept the loosing complexity. If we look more how the incorrectly assigned datapoints are distributed, a lot of \"Disappointment\" are assigned to \"Boring\" like in the base line model. The next model investigate if the additional merging of these two labels also increase the accuracy.",
   "id": "fd514d30-5cfc-483a-830e-31f68e565247"
  },
  {
   "metadata": {
    "jp-MarkdownHeadingCollapsed": true
   },
   "cell_type": "markdown",
   "source": "## 6. Model: Merge \"Celebration\" & \"Excitement\" and \"Disappointment\" & \"Boring\"",
   "id": "81bcf33a-69f6-4ffe-b1c1-19c5642a7a12"
  },
  {
   "metadata": {},
   "cell_type": "code",
   "outputs": [],
   "execution_count": null,
   "source": [
    "model_name = \"MIT/ast-finetuned-audioset-10-10-0.4593\"\n",
    "device = 'cuda'"
   ],
   "id": "ff365fccc0863c91"
  },
  {
   "metadata": {
    "jp-MarkdownHeadingCollapsed": true
   },
   "cell_type": "markdown",
   "source": "### 6.1 Data Processing",
   "id": "7c87924e-851d-4fce-9436-6ec49aa272b9"
  },
  {
   "metadata": {
    "jp-MarkdownHeadingCollapsed": true
   },
   "cell_type": "markdown",
   "source": "#### 6.1.1 Merging",
   "id": "10dc47c3-93a3-4e14-9a06-0e84a7e501c3"
  },
  {
   "metadata": {},
   "cell_type": "code",
   "outputs": [
    {
     "data": {
      "text/plain": [
       "{'Chanting/Singing': 0, 'Excitement': 1, 'Disappointment/Boring': 2}"
      ]
     },
     "execution_count": 60,
     "metadata": {},
     "output_type": "execute_result"
    }
   ],
   "execution_count": 60,
   "source": [
    "meta_labels = {\n",
    "     'Chanting/Singing': 0,\n",
    "     'Excitement/Celebration': 1,\n",
    "     'Disappointment/Boring': 2,\n",
    "}"
   ],
   "id": "13063156-6363-4d2c-9c6d-f9456a77b403"
  },
  {
   "metadata": {
    "scrolled": true
   },
   "cell_type": "code",
   "outputs": [
    {
     "data": {
      "text/plain": [
       "array([2, 2, 2, 2, 2, 2, 2, 2, 2, 0, 0, 0, 1, 1, 1, 1, 1, 1, 1, 1, 0, 0,\n",
       "       0, 0, 2, 2, 0, 2, 2, 2, 2, 0, 0, 0, 0, 0, 0, 0, 0, 0, 2, 1, 1, 1,\n",
       "       1, 1, 1, 1, 1, 2, 2, 2, 2, 2, 2, 2, 2, 2, 0, 0, 0, 0, 0, 1, 1, 1,\n",
       "       2, 1, 1, 1, 1, 1, 1, 1, 1, 1, 1, 1, 1, 1, 1, 1, 1, 1, 1, 1, 1, 2,\n",
       "       2, 2, 2, 2, 2, 2, 2, 2, 2, 2, 2, 2, 1, 1, 1, 1, 2, 2, 2, 2, 2, 2,\n",
       "       2, 2, 2, 2, 2, 2, 2, 2, 2, 2, 2, 2, 2, 0, 0, 0, 0, 0, 0, 0, 2, 2,\n",
       "       2, 2, 2, 2, 2, 2, 2, 2, 2, 2, 2, 1, 1, 1, 1, 1, 1, 1, 1, 1, 1, 1,\n",
       "       2, 2, 0, 0, 0, 0, 0, 0, 0, 0, 0, 0, 0, 0, 0, 0, 0, 0, 0, 0, 0, 0,\n",
       "       0, 0, 0, 0, 0, 0, 0, 0, 0, 0, 0, 0, 0, 0, 0, 0, 0, 0, 0, 0, 0, 0,\n",
       "       0, 0, 0, 0, 0, 0, 0, 0, 0, 0, 0, 0, 0, 0, 0, 0, 0, 0, 0, 0, 0, 0,\n",
       "       0, 0, 0, 0, 0, 0, 0, 0, 0, 0, 0, 0, 0, 0, 0, 0, 0, 0, 0, 0, 0, 0,\n",
       "       0, 0, 0, 0, 0, 0, 0, 0, 0, 0, 0, 0, 0, 0, 0, 0, 0, 0, 0, 0, 0, 0,\n",
       "       0, 0, 0, 0, 0, 0, 0, 0, 0, 0, 0, 0, 0, 0, 0, 0, 1, 1, 0, 0, 0, 0,\n",
       "       0, 0, 0, 0, 0, 0, 0, 0, 0, 0, 0, 0, 0, 0, 0, 0, 0, 0, 0, 0, 0, 0,\n",
       "       0, 0, 0, 0, 0, 0, 0, 0, 0, 0, 0, 0, 0, 0, 0, 0, 0, 0, 0, 1, 1, 1,\n",
       "       1, 1, 1, 1, 1, 1, 1, 1, 0, 0, 0, 0, 0, 0, 0, 0, 0, 0, 0, 0, 0, 0,\n",
       "       0, 0, 1, 2, 2, 2, 2, 2, 2, 2, 2, 0, 0, 0, 0, 0, 0, 0, 0, 0, 0, 1,\n",
       "       1, 1, 1, 1, 2, 2, 2, 2, 2, 2, 0, 0, 0, 0, 0, 0, 0, 0, 0, 0, 0, 0,\n",
       "       0, 0, 0, 0, 0, 0, 0, 0, 0, 0, 0, 0, 0, 0, 0, 0, 0, 0, 0, 0, 0, 0,\n",
       "       0, 0, 0, 0, 0, 0, 0, 0, 0, 0, 0, 0, 0, 1, 1, 1, 1, 1, 1, 1, 2, 2,\n",
       "       2, 2, 2, 2, 2, 2, 2, 2, 2, 2, 2, 2, 2, 2, 2, 2, 2, 2, 2, 2, 0, 0,\n",
       "       0, 0, 0, 0, 0, 0, 1, 1, 1, 1, 1, 1, 0, 0, 0, 0, 0, 0, 0, 0, 1, 1,\n",
       "       1, 1, 1, 1, 1, 1, 1, 1, 1, 1, 1, 1, 1, 1, 1, 1, 1, 1, 1, 1, 1, 1,\n",
       "       1, 1, 1, 1, 1, 2, 2, 2, 2, 2, 2, 2, 2, 2, 2, 2, 2, 2, 2, 2, 2, 2,\n",
       "       2, 2, 2, 2, 2, 2, 2, 2, 2, 2, 2, 2, 2, 2, 1, 1, 1, 1, 1, 1, 1, 1,\n",
       "       1, 1, 1, 1, 1, 1, 1, 1, 1, 1, 1, 1, 1, 2, 2, 2, 2, 2, 2, 2, 2, 2,\n",
       "       2, 2, 2, 2, 2, 1, 1, 1, 1, 1, 1, 1, 1, 1, 1, 1, 2, 2, 2, 2, 2, 2,\n",
       "       2, 2, 2, 2, 2, 2, 2, 2, 2, 2, 2, 2, 2, 2, 2, 1, 1, 0, 0, 0, 0, 0,\n",
       "       0, 0, 0, 0, 0, 0, 0, 0, 0, 0, 0, 0, 0, 0, 0, 0, 0, 0, 0, 0, 0, 0,\n",
       "       0, 0, 0, 0, 0, 0, 0, 0, 2, 2, 2, 2, 2, 2, 2, 2, 2, 2, 2, 2, 2, 2,\n",
       "       2, 2, 2, 2, 2, 2, 2, 2, 2, 2, 2, 2, 2, 2, 2, 2, 2, 2, 2, 2, 2, 2,\n",
       "       2, 2, 2, 2, 2, 2, 2, 2, 2, 2, 2, 2, 2, 0, 0, 0, 0, 0, 0, 0, 0, 0,\n",
       "       0, 0, 0, 0, 0, 0, 0, 0, 0, 0, 0, 0, 0, 0, 0, 0, 0, 0, 0, 0, 0, 0,\n",
       "       0, 0, 0, 0, 0, 0, 0, 0, 0, 0, 0, 0, 0, 0, 0, 0, 0, 2, 2, 2, 2, 2,\n",
       "       2, 2, 2, 2, 2, 2, 2, 2, 2, 2, 1, 1, 1, 1, 1, 1, 1, 2, 2, 2, 2, 2,\n",
       "       2, 2, 2, 2, 1, 1, 1, 1, 1, 1, 2, 2, 2, 1, 1, 1, 2, 2, 2, 2, 2, 1,\n",
       "       2, 2, 2, 2, 2, 2, 2, 2, 2, 2, 2, 2, 1, 1, 1, 2, 2, 2, 2, 2, 2, 2,\n",
       "       2, 2, 2, 2, 2, 2, 2, 2, 2, 2, 2, 2, 2, 2, 2, 2, 2, 2, 1, 1, 1, 2,\n",
       "       2, 2, 2, 2, 2, 2, 2, 2, 2, 2, 2, 2, 2, 2, 2, 2, 2, 2, 2, 2, 2, 2,\n",
       "       2, 2, 2, 2, 2, 2, 2, 2, 2, 1, 1, 2, 2, 2, 2, 2, 2, 2, 2, 2, 2, 2,\n",
       "       2, 2, 2, 2, 2, 2, 2, 2, 2, 2, 2, 2, 2, 2, 2, 2, 2, 2, 2, 1, 1, 1,\n",
       "       1, 1, 1, 1])"
      ]
     },
     "execution_count": 59,
     "metadata": {},
     "output_type": "execute_result"
    }
   ],
   "execution_count": 59,
   "source": [
    "nparray2 = np.where(arrays['y']==3, 1, arrays['y'])\n",
    "nparray2 = np.where(nparray2==4, 2, nparray2)\n",
    "nparray2"
   ],
   "id": "6fdc81d8-2ad3-4cf9-be0e-f64a5f1950dd"
  },
  {
   "metadata": {
    "jp-MarkdownHeadingCollapsed": true
   },
   "cell_type": "markdown",
   "source": "#### 6.1.2 Processing",
   "id": "ca1617b9-c681-49d5-bcac-477981ae44d5"
  },
  {
   "metadata": {},
   "cell_type": "code",
   "outputs": [],
   "execution_count": 61,
   "source": [
    "feature_extractor = AutoFeatureExtractor.from_pretrained(model_name)\n",
    "\n",
    "preprocessed_audio = feature_extractor(\n",
    "    arrays['X'],\n",
    "    sampling_rate = meta['sample_rate'],\n",
    "    return_tensors = \"pt\"\n",
    ")\n",
    "\n",
    "hf_dataset = Dataset.from_dict({\n",
    "    \"input_values\": preprocessed_audio['input_values'],\n",
    "    \"label\": nparray2,\n",
    "})"
   ],
   "id": "4df53673-0721-4740-b09e-a091a4b2b90a"
  },
  {
   "metadata": {},
   "cell_type": "code",
   "outputs": [
    {
     "data": {
      "text/plain": [
       "Dataset({\n",
       "    features: ['input_values', 'label'],\n",
       "    num_rows: 906\n",
       "})"
      ]
     },
     "execution_count": 62,
     "metadata": {},
     "output_type": "execute_result"
    }
   ],
   "execution_count": 62,
   "source": "hf_dataset",
   "id": "2e3ad89e-6d87-47e0-95a7-c732564dcf77"
  },
  {
   "metadata": {
    "scrolled": true
   },
   "cell_type": "code",
   "outputs": [
    {
     "name": "stdout",
     "output_type": "stream",
     "text": [
      "[2, 2, 2, 2, 2, 2, 2, 2, 2, 0, 0, 0, 1, 1, 1, 1, 1, 1, 1, 1, 0, 0, 0, 0, 2, 2, 0, 2, 2, 2, 2, 0, 0, 0, 0, 0, 0, 0, 0, 0, 2, 1, 1, 1, 1, 1, 1, 1, 1, 2, 2, 2, 2, 2, 2, 2, 2, 2, 0, 0, 0, 0, 0, 1, 1, 1, 2, 1, 1, 1, 1, 1, 1, 1, 1, 1, 1, 1, 1, 1, 1, 1, 1, 1, 1, 1, 1, 2, 2, 2, 2, 2, 2, 2, 2, 2, 2, 2, 2, 2, 1, 1, 1, 1, 2, 2, 2, 2, 2, 2, 2, 2, 2, 2, 2, 2, 2, 2, 2, 2, 2, 2, 2, 0, 0, 0, 0, 0, 0, 0, 2, 2, 2, 2, 2, 2, 2, 2, 2, 2, 2, 2, 2, 1, 1, 1, 1, 1, 1, 1, 1, 1, 1, 1, 2, 2, 0, 0, 0, 0, 0, 0, 0, 0, 0, 0, 0, 0, 0, 0, 0, 0, 0, 0, 0, 0, 0, 0, 0, 0, 0, 0, 0, 0, 0, 0, 0, 0, 0, 0, 0, 0, 0, 0, 0, 0, 0, 0, 0, 0, 0, 0, 0, 0, 0, 0, 0, 0, 0, 0, 0, 0, 0, 0, 0, 0, 0, 0, 0, 0, 0, 0, 0, 0, 0, 0, 0, 0, 0, 0, 0, 0, 0, 0, 0, 0, 0, 0, 0, 0, 0, 0, 0, 0, 0, 0, 0, 0, 0, 0, 0, 0, 0, 0, 0, 0, 0, 0, 0, 0, 0, 0, 0, 0, 0, 0, 0, 0, 0, 0, 0, 0, 0, 0, 0, 0, 0, 0, 0, 0, 1, 1, 0, 0, 0, 0, 0, 0, 0, 0, 0, 0, 0, 0, 0, 0, 0, 0, 0, 0, 0, 0, 0, 0, 0, 0, 0, 0, 0, 0, 0, 0, 0, 0, 0, 0, 0, 0, 0, 0, 0, 0, 0, 0, 0, 0, 0, 1, 1, 1, 1, 1, 1, 1, 1, 1, 1, 1, 0, 0, 0, 0, 0, 0, 0, 0, 0, 0, 0, 0, 0, 0, 0, 0, 1, 2, 2, 2, 2, 2, 2, 2, 2, 0, 0, 0, 0, 0, 0, 0, 0, 0, 0, 1, 1, 1, 1, 1, 2, 2, 2, 2, 2, 2, 0, 0, 0, 0, 0, 0, 0, 0, 0, 0, 0, 0, 0, 0, 0, 0, 0, 0, 0, 0, 0, 0, 0, 0, 0, 0, 0, 0, 0, 0, 0, 0, 0, 0, 0, 0, 0, 0, 0, 0, 0, 0, 0, 0, 0, 0, 0, 1, 1, 1, 1, 1, 1, 1, 2, 2, 2, 2, 2, 2, 2, 2, 2, 2, 2, 2, 2, 2, 2, 2, 2, 2, 2, 2, 2, 2, 0, 0, 0, 0, 0, 0, 0, 0, 1, 1, 1, 1, 1, 1, 0, 0, 0, 0, 0, 0, 0, 0, 1, 1, 1, 1, 1, 1, 1, 1, 1, 1, 1, 1, 1, 1, 1, 1, 1, 1, 1, 1, 1, 1, 1, 1, 1, 1, 1, 1, 1, 2, 2, 2, 2, 2, 2, 2, 2, 2, 2, 2, 2, 2, 2, 2, 2, 2, 2, 2, 2, 2, 2, 2, 2, 2, 2, 2, 2, 2, 2, 2, 1, 1, 1, 1, 1, 1, 1, 1, 1, 1, 1, 1, 1, 1, 1, 1, 1, 1, 1, 1, 1, 2, 2, 2, 2, 2, 2, 2, 2, 2, 2, 2, 2, 2, 2, 1, 1, 1, 1, 1, 1, 1, 1, 1, 1, 1, 2, 2, 2, 2, 2, 2, 2, 2, 2, 2, 2, 2, 2, 2, 2, 2, 2, 2, 2, 2, 2, 1, 1, 0, 0, 0, 0, 0, 0, 0, 0, 0, 0, 0, 0, 0, 0, 0, 0, 0, 0, 0, 0, 0, 0, 0, 0, 0, 0, 0, 0, 0, 0, 0, 0, 0, 0, 0, 2, 2, 2, 2, 2, 2, 2, 2, 2, 2, 2, 2, 2, 2, 2, 2, 2, 2, 2, 2, 2, 2, 2, 2, 2, 2, 2, 2, 2, 2, 2, 2, 2, 2, 2, 2, 2, 2, 2, 2, 2, 2, 2, 2, 2, 2, 2, 2, 2, 0, 0, 0, 0, 0, 0, 0, 0, 0, 0, 0, 0, 0, 0, 0, 0, 0, 0, 0, 0, 0, 0, 0, 0, 0, 0, 0, 0, 0, 0, 0, 0, 0, 0, 0, 0, 0, 0, 0, 0, 0, 0, 0, 0, 0, 0, 0, 0, 2, 2, 2, 2, 2, 2, 2, 2, 2, 2, 2, 2, 2, 2, 2, 1, 1, 1, 1, 1, 1, 1, 2, 2, 2, 2, 2, 2, 2, 2, 2, 1, 1, 1, 1, 1, 1, 2, 2, 2, 1, 1, 1, 2, 2, 2, 2, 2, 1, 2, 2, 2, 2, 2, 2, 2, 2, 2, 2, 2, 2, 1, 1, 1, 2, 2, 2, 2, 2, 2, 2, 2, 2, 2, 2, 2, 2, 2, 2, 2, 2, 2, 2, 2, 2, 2, 2, 2, 2, 1, 1, 1, 2, 2, 2, 2, 2, 2, 2, 2, 2, 2, 2, 2, 2, 2, 2, 2, 2, 2, 2, 2, 2, 2, 2, 2, 2, 2, 2, 2, 2, 2, 2, 2, 1, 1, 2, 2, 2, 2, 2, 2, 2, 2, 2, 2, 2, 2, 2, 2, 2, 2, 2, 2, 2, 2, 2, 2, 2, 2, 2, 2, 2, 2, 2, 2, 1, 1, 1, 1, 1, 1, 1]\n"
     ]
    }
   ],
   "execution_count": 63,
   "source": "print(hf_dataset['label'])",
   "id": "cacf0a49-8e84-44f3-b0c9-041e2e2b4941"
  },
  {
   "metadata": {
    "jp-MarkdownHeadingCollapsed": true
   },
   "cell_type": "markdown",
   "source": "#### 6.1.3 Train- and Test-Split",
   "id": "8056f2a8-05db-48fd-86ab-fade27982c06"
  },
  {
   "metadata": {
    "scrolled": true
   },
   "cell_type": "code",
   "outputs": [
    {
     "name": "stdout",
     "output_type": "stream",
     "text": [
      "Fold 0:\n",
      "  Train: source={np.int64(2), np.int64(3), np.int64(4), np.int64(6), np.int64(7), np.int64(8), np.int64(9), np.int64(10), np.int64(11), np.int64(12), np.int64(13), np.int64(15)}\n",
      "  Test:  source={np.int64(0), np.int64(1), np.int64(5), np.int64(14)}\n",
      "Fold 1:\n",
      "  Train: source={np.int64(0), np.int64(1), np.int64(3), np.int64(4), np.int64(5), np.int64(7), np.int64(9), np.int64(10), np.int64(11), np.int64(12), np.int64(14), np.int64(15)}\n",
      "  Test:  source={np.int64(8), np.int64(2), np.int64(13), np.int64(6)}\n",
      "Fold 2:\n",
      "  Train: source={np.int64(0), np.int64(2), np.int64(3), np.int64(4), np.int64(6), np.int64(7), np.int64(9), np.int64(10), np.int64(11), np.int64(12), np.int64(14), np.int64(15)}\n",
      "  Test:  source={np.int64(8), np.int64(1), np.int64(13), np.int64(5)}\n",
      "Fold 3:\n",
      "  Train: source={np.int64(1), np.int64(3), np.int64(4), np.int64(6), np.int64(7), np.int64(8), np.int64(9), np.int64(10), np.int64(11), np.int64(12), np.int64(13), np.int64(15)}\n",
      "  Test:  source={np.int64(0), np.int64(2), np.int64(5), np.int64(14)}\n",
      "Fold 4:\n",
      "  Train: source={np.int64(0), np.int64(1), np.int64(2), np.int64(3), np.int64(5), np.int64(6), np.int64(7), np.int64(8), np.int64(9), np.int64(11), np.int64(12), np.int64(13)}\n",
      "  Test:  source={np.int64(10), np.int64(4), np.int64(14), np.int64(15)}\n",
      "Fold 5:\n",
      "  Train: source={np.int64(0), np.int64(1), np.int64(3), np.int64(5), np.int64(6), np.int64(7), np.int64(9), np.int64(10), np.int64(11), np.int64(13), np.int64(14), np.int64(15)}\n",
      "  Test:  source={np.int64(8), np.int64(2), np.int64(4), np.int64(12)}\n",
      "Fold 6:\n",
      "  Train: source={np.int64(0), np.int64(1), np.int64(4), np.int64(5), np.int64(6), np.int64(7), np.int64(8), np.int64(9), np.int64(10), np.int64(11), np.int64(12), np.int64(15)}\n",
      "  Test:  source={np.int64(2), np.int64(3), np.int64(13), np.int64(14)}\n",
      "Fold 7:\n",
      "  Train: source={np.int64(0), np.int64(1), np.int64(2), np.int64(3), np.int64(4), np.int64(6), np.int64(7), np.int64(8), np.int64(10), np.int64(12), np.int64(14), np.int64(15)}\n",
      "  Test:  source={np.int64(9), np.int64(13), np.int64(11), np.int64(5)}\n",
      "Fold 8:\n",
      "  Train: source={np.int64(0), np.int64(2), np.int64(4), np.int64(5), np.int64(6), np.int64(7), np.int64(9), np.int64(10), np.int64(12), np.int64(13), np.int64(14), np.int64(15)}\n",
      "  Test:  source={np.int64(8), np.int64(1), np.int64(3), np.int64(11)}\n",
      "Fold 9:\n",
      "  Train: source={np.int64(0), np.int64(2), np.int64(3), np.int64(4), np.int64(6), np.int64(7), np.int64(8), np.int64(9), np.int64(10), np.int64(11), np.int64(14), np.int64(15)}\n",
      "  Test:  source={np.int64(1), np.int64(13), np.int64(12), np.int64(5)}\n"
     ]
    }
   ],
   "execution_count": 133,
   "source": [
    "gss = GroupShuffleSplit(n_splits=10, train_size=.8, random_state=42)\n",
    "gss.get_n_splits()\n",
    "\n",
    "for i, (train_index, test_index) in enumerate(gss.split(**arrays)):\n",
    "    print(f\"Fold {i}:\")\n",
    "    print(f\"  Train: source={set(arrays['groups'][train_index])}\")\n",
    "    print(f\"  Test:  source={set(arrays['groups'][test_index])}\")"
   ],
   "id": "21210298-67c2-428e-b1d2-b2d4aebac43f"
  },
  {
   "metadata": {},
   "cell_type": "code",
   "outputs": [],
   "execution_count": 134,
   "source": "(train_index, test_index) = next(gss.split(**arrays))",
   "id": "7238fd67-d08c-4c5c-b92e-89cb843e02f5"
  },
  {
   "metadata": {},
   "cell_type": "code",
   "outputs": [
    {
     "data": {
      "text/plain": [
       "Dataset({\n",
       "    features: ['input_values', 'label'],\n",
       "    num_rows: 677\n",
       "})"
      ]
     },
     "execution_count": 135,
     "metadata": {},
     "output_type": "execute_result"
    }
   ],
   "execution_count": 135,
   "source": [
    "train_ds = hf_dataset.select(train_index)\n",
    "train_ds"
   ],
   "id": "313e370b-9261-473a-8ce3-9622f88143f2"
  },
  {
   "metadata": {},
   "cell_type": "code",
   "outputs": [
    {
     "data": {
      "text/plain": [
       "Dataset({\n",
       "    features: ['input_values', 'label'],\n",
       "    num_rows: 229\n",
       "})"
      ]
     },
     "execution_count": 136,
     "metadata": {},
     "output_type": "execute_result"
    }
   ],
   "execution_count": 136,
   "source": [
    "test_ds = hf_dataset.select(test_index)\n",
    "test_ds"
   ],
   "id": "24fcefb6-b8e8-413f-a461-09cbf5fcabdf"
  },
  {
   "metadata": {
    "jp-MarkdownHeadingCollapsed": true
   },
   "cell_type": "markdown",
   "source": "### 6.2 Model Parameters",
   "id": "ec99f78c-7ac3-49d6-9164-254c3d81aff6"
  },
  {
   "metadata": {},
   "cell_type": "code",
   "outputs": [
    {
     "name": "stderr",
     "output_type": "stream",
     "text": [
      "Some weights of ASTForAudioClassification were not initialized from the model checkpoint at MIT/ast-finetuned-audioset-10-10-0.4593 and are newly initialized because the shapes did not match:\n",
      "- classifier.dense.bias: found shape torch.Size([527]) in the checkpoint and torch.Size([3]) in the model instantiated\n",
      "- classifier.dense.weight: found shape torch.Size([527, 768]) in the checkpoint and torch.Size([3, 768]) in the model instantiated\n",
      "You should probably TRAIN this model on a down-stream task to be able to use it for predictions and inference.\n"
     ]
    }
   ],
   "execution_count": 137,
   "source": [
    "model2train = AutoModelForAudioClassification.from_pretrained(\n",
    "    model_name,\n",
    "    num_labels = len(meta_labels),\n",
    "    label2id = meta_labels,\n",
    "    id2label = {v:k for k,v in meta_labels.items()},\n",
    "    ignore_mismatched_sizes = True\n",
    ")"
   ],
   "id": "35359fc9-84c7-43a0-9508-a89f56f7eac2"
  },
  {
   "metadata": {},
   "cell_type": "code",
   "outputs": [],
   "execution_count": 138,
   "source": [
    "batch_size = 8\n",
    "args = transformers.TrainingArguments(\n",
    "    f'{model_name.split(\"/\")[-1]}-ft_stadium',\n",
    "\n",
    "    learning_rate=1e-5,\n",
    "    warmup_ratio=0.1,\n",
    "\n",
    "\n",
    "    eval_strategy = \"steps\",\n",
    "    eval_steps = 10,\n",
    "    logging_steps=10,\n",
    "\n",
    "    save_strategy = \"epoch\",\n",
    "    per_device_train_batch_size=batch_size,\n",
    "    per_device_eval_batch_size=batch_size,\n",
    "\n",
    "    gradient_accumulation_steps=4,\n",
    "    num_train_epochs=5,\n",
    "    load_best_model_at_end=False,\n",
    "    push_to_hub=False,\n",
    ")"
   ],
   "id": "62e67d3d-cc8d-4860-8e4e-f84467539159"
  },
  {
   "metadata": {},
   "cell_type": "code",
   "outputs": [],
   "execution_count": 139,
   "source": [
    "class CustomTrainer(Trainer):\n",
    "    def __init__(self, *args, class_weights=None, **kwargs):\n",
    "        super().__init__(*args, **kwargs)\n",
    "        self.class_weights = class_weights\n",
    "\n",
    "    def compute_loss(self, model, inputs, return_outputs=False, **kwargs):\n",
    "        labels = inputs.pop(\"labels\").to(torch.long)  # Labels in int64 konvertieren\n",
    "        outputs = model(**inputs)\n",
    "        logits = outputs.logits.to(torch.float32)  # Logits in float32 konvertieren\n",
    "\n",
    "        # Loss-function with class weights\n",
    "        loss_fn = nn.CrossEntropyLoss(weight=self.class_weights)\n",
    "        loss = loss_fn(logits, labels)\n",
    "\n",
    "        return (loss, outputs) if return_outputs else loss\n",
    "\n",
    "    def compute_metrics(pred):\n",
    "        labels = pred.label_ids\n",
    "        preds = pred.predictions.argmax(-1)\n",
    "\n",
    "        metrics = {\n",
    "            'accuracy': skm.accuracy_score(labels, preds),\n",
    "            'macro_f1': skm.f1_score(labels, preds, average='macro'),\n",
    "            'weighted_f1': skm.f1_score(labels, preds, average='weighted')\n",
    "        }\n",
    "\n",
    "        return metrics"
   ],
   "id": "632dcd52-dd8a-476f-8e51-864a5ab83ec2"
  },
  {
   "metadata": {},
   "cell_type": "code",
   "outputs": [
    {
     "name": "stdout",
     "output_type": "stream",
     "text": [
      "Class Weights: tensor([0.8162, 1.6685, 0.8507], device='cuda:0')\n"
     ]
    }
   ],
   "execution_count": 140,
   "source": [
    "class_weights = compute_class_weight(\n",
    "    class_weight=\"balanced\",\n",
    "    classes=np.unique( hf_dataset['label']),\n",
    "    y = hf_dataset['label']\n",
    ")\n",
    "class_weights = torch.tensor(class_weights, dtype=torch.float32).to(device)\n",
    "print(\"Class Weights:\", class_weights)"
   ],
   "id": "31ca9757-69e4-46ff-b2d1-7d812d076385"
  },
  {
   "metadata": {},
   "cell_type": "code",
   "outputs": [],
   "execution_count": 141,
   "source": [
    "trainer = CustomTrainer(\n",
    "    model=model2train,\n",
    "    args=args,\n",
    "    train_dataset=train_ds,\n",
    "    eval_dataset=test_ds,\n",
    "    processing_class = feature_extractor, #tokenizer=feature_extractor,\n",
    "    class_weights=class_weights,\n",
    "    compute_metrics=CustomTrainer.compute_metrics\n",
    ")"
   ],
   "id": "f99d3203-6fe9-418b-b7a7-82bad53aa8b8"
  },
  {
   "cell_type": "markdown",
   "id": "6393535e1ca7aab0",
   "metadata": {
    "jp-MarkdownHeadingCollapsed": true
   },
   "source": [
    "### 6.3 Training"
   ]
  },
  {
   "cell_type": "code",
   "execution_count": 142,
   "id": "28b47e6b-764c-41d0-909a-4461d5fb38f2",
   "metadata": {},
   "outputs": [
    {
     "data": {
      "text/html": [
       "\n",
       "    <div>\n",
       "      \n",
       "      <progress value='105' max='105' style='width:300px; height:20px; vertical-align: middle;'></progress>\n",
       "      [105/105 07:28, Epoch 4/5]\n",
       "    </div>\n",
       "    <table border=\"1\" class=\"dataframe\">\n",
       "  <thead>\n",
       " <tr style=\"text-align: left;\">\n",
       "      <th>Step</th>\n",
       "      <th>Training Loss</th>\n",
       "      <th>Validation Loss</th>\n",
       "      <th>Accuracy</th>\n",
       "      <th>Macro F1</th>\n",
       "      <th>Weighted F1</th>\n",
       "    </tr>\n",
       "  </thead>\n",
       "  <tbody>\n",
       "    <tr>\n",
       "      <td>10</td>\n",
       "      <td>1.169800</td>\n",
       "      <td>0.796186</td>\n",
       "      <td>0.703057</td>\n",
       "      <td>0.551250</td>\n",
       "      <td>0.650358</td>\n",
       "    </tr>\n",
       "    <tr>\n",
       "      <td>20</td>\n",
       "      <td>0.654700</td>\n",
       "      <td>0.561745</td>\n",
       "      <td>0.755459</td>\n",
       "      <td>0.735612</td>\n",
       "      <td>0.773601</td>\n",
       "    </tr>\n",
       "    <tr>\n",
       "      <td>30</td>\n",
       "      <td>0.314400</td>\n",
       "      <td>0.326809</td>\n",
       "      <td>0.895197</td>\n",
       "      <td>0.879857</td>\n",
       "      <td>0.899377</td>\n",
       "    </tr>\n",
       "    <tr>\n",
       "      <td>40</td>\n",
       "      <td>0.267300</td>\n",
       "      <td>0.294830</td>\n",
       "      <td>0.917031</td>\n",
       "      <td>0.909319</td>\n",
       "      <td>0.917987</td>\n",
       "    </tr>\n",
       "    <tr>\n",
       "      <td>50</td>\n",
       "      <td>0.190900</td>\n",
       "      <td>0.247135</td>\n",
       "      <td>0.921397</td>\n",
       "      <td>0.919729</td>\n",
       "      <td>0.921899</td>\n",
       "    </tr>\n",
       "    <tr>\n",
       "      <td>60</td>\n",
       "      <td>0.155100</td>\n",
       "      <td>0.264643</td>\n",
       "      <td>0.903930</td>\n",
       "      <td>0.892299</td>\n",
       "      <td>0.906121</td>\n",
       "    </tr>\n",
       "    <tr>\n",
       "      <td>70</td>\n",
       "      <td>0.131300</td>\n",
       "      <td>0.264777</td>\n",
       "      <td>0.899563</td>\n",
       "      <td>0.885608</td>\n",
       "      <td>0.902504</td>\n",
       "    </tr>\n",
       "    <tr>\n",
       "      <td>80</td>\n",
       "      <td>0.102300</td>\n",
       "      <td>0.231381</td>\n",
       "      <td>0.921397</td>\n",
       "      <td>0.921727</td>\n",
       "      <td>0.922165</td>\n",
       "    </tr>\n",
       "    <tr>\n",
       "      <td>90</td>\n",
       "      <td>0.069100</td>\n",
       "      <td>0.232567</td>\n",
       "      <td>0.925764</td>\n",
       "      <td>0.918033</td>\n",
       "      <td>0.926575</td>\n",
       "    </tr>\n",
       "    <tr>\n",
       "      <td>100</td>\n",
       "      <td>0.075400</td>\n",
       "      <td>0.246378</td>\n",
       "      <td>0.917031</td>\n",
       "      <td>0.909241</td>\n",
       "      <td>0.917965</td>\n",
       "    </tr>\n",
       "  </tbody>\n",
       "</table><p>"
      ],
      "text/plain": [
       "<IPython.core.display.HTML object>"
      ]
     },
     "metadata": {},
     "output_type": "display_data"
    },
    {
     "data": {
      "text/plain": [
       "TrainOutput(global_step=105, training_loss=0.3001908317917869, metrics={'train_runtime': 452.0136, 'train_samples_per_second': 7.489, 'train_steps_per_second': 0.232, 'total_flos': 2.2043176203504845e+17, 'train_loss': 0.3001908317917869, 'epoch': 4.8})"
      ]
     },
     "execution_count": 142,
     "metadata": {},
     "output_type": "execute_result"
    }
   ],
   "source": [
    "trainer.train()"
   ]
  },
  {
   "cell_type": "code",
   "execution_count": 143,
   "id": "15e4c2cf-3511-4a15-b9c7-84432c8d82c1",
   "metadata": {
    "scrolled": true
   },
   "outputs": [
    {
     "data": {
      "text/plain": [
       "[{'loss': 1.1698,\n",
       "  'grad_norm': 11.293336868286133,\n",
       "  'learning_rate': 9.090909090909091e-06,\n",
       "  'epoch': 0.47058823529411764,\n",
       "  'step': 10},\n",
       " {'eval_loss': 0.7961860299110413,\n",
       "  'eval_accuracy': 0.7030567685589519,\n",
       "  'eval_macro_f1': 0.5512501664166222,\n",
       "  'eval_weighted_f1': 0.6503578645614457,\n",
       "  'eval_runtime': 14.949,\n",
       "  'eval_samples_per_second': 15.319,\n",
       "  'eval_steps_per_second': 1.94,\n",
       "  'epoch': 0.47058823529411764,\n",
       "  'step': 10},\n",
       " {'loss': 0.6547,\n",
       "  'grad_norm': 8.857486724853516,\n",
       "  'learning_rate': 9.042553191489362e-06,\n",
       "  'epoch': 0.9411764705882353,\n",
       "  'step': 20},\n",
       " {'eval_loss': 0.5617448687553406,\n",
       "  'eval_accuracy': 0.7554585152838428,\n",
       "  'eval_macro_f1': 0.7356119204904475,\n",
       "  'eval_weighted_f1': 0.7736010979374058,\n",
       "  'eval_runtime': 14.5669,\n",
       "  'eval_samples_per_second': 15.721,\n",
       "  'eval_steps_per_second': 1.991,\n",
       "  'epoch': 0.9411764705882353,\n",
       "  'step': 20},\n",
       " {'loss': 0.3144,\n",
       "  'grad_norm': 4.308926105499268,\n",
       "  'learning_rate': 7.97872340425532e-06,\n",
       "  'epoch': 1.3764705882352941,\n",
       "  'step': 30},\n",
       " {'eval_loss': 0.32680946588516235,\n",
       "  'eval_accuracy': 0.8951965065502183,\n",
       "  'eval_macro_f1': 0.8798573975044564,\n",
       "  'eval_weighted_f1': 0.8993765032809471,\n",
       "  'eval_runtime': 14.5489,\n",
       "  'eval_samples_per_second': 15.74,\n",
       "  'eval_steps_per_second': 1.993,\n",
       "  'epoch': 1.3764705882352941,\n",
       "  'step': 30},\n",
       " {'loss': 0.2673,\n",
       "  'grad_norm': 6.948151588439941,\n",
       "  'learning_rate': 6.914893617021278e-06,\n",
       "  'epoch': 1.8470588235294119,\n",
       "  'step': 40},\n",
       " {'eval_loss': 0.29482951760292053,\n",
       "  'eval_accuracy': 0.9170305676855895,\n",
       "  'eval_macro_f1': 0.9093191817638417,\n",
       "  'eval_weighted_f1': 0.9179865412552114,\n",
       "  'eval_runtime': 14.8928,\n",
       "  'eval_samples_per_second': 15.377,\n",
       "  'eval_steps_per_second': 1.947,\n",
       "  'epoch': 1.8470588235294119,\n",
       "  'step': 40},\n",
       " {'loss': 0.1909,\n",
       "  'grad_norm': 8.313514709472656,\n",
       "  'learning_rate': 5.851063829787235e-06,\n",
       "  'epoch': 2.2823529411764705,\n",
       "  'step': 50},\n",
       " {'eval_loss': 0.2471347451210022,\n",
       "  'eval_accuracy': 0.9213973799126638,\n",
       "  'eval_macro_f1': 0.9197294516738962,\n",
       "  'eval_weighted_f1': 0.9218988275029033,\n",
       "  'eval_runtime': 14.3792,\n",
       "  'eval_samples_per_second': 15.926,\n",
       "  'eval_steps_per_second': 2.017,\n",
       "  'epoch': 2.2823529411764705,\n",
       "  'step': 50},\n",
       " {'loss': 0.1551,\n",
       "  'grad_norm': 7.0049262046813965,\n",
       "  'learning_rate': 4.787234042553192e-06,\n",
       "  'epoch': 2.7529411764705882,\n",
       "  'step': 60},\n",
       " {'eval_loss': 0.2646433413028717,\n",
       "  'eval_accuracy': 0.9039301310043668,\n",
       "  'eval_macro_f1': 0.8922992891256293,\n",
       "  'eval_weighted_f1': 0.9061208923026022,\n",
       "  'eval_runtime': 14.6764,\n",
       "  'eval_samples_per_second': 15.603,\n",
       "  'eval_steps_per_second': 1.976,\n",
       "  'epoch': 2.7529411764705882,\n",
       "  'step': 60},\n",
       " {'loss': 0.1313,\n",
       "  'grad_norm': 2.4363510608673096,\n",
       "  'learning_rate': 3.723404255319149e-06,\n",
       "  'epoch': 3.1882352941176473,\n",
       "  'step': 70},\n",
       " {'eval_loss': 0.2647770345211029,\n",
       "  'eval_accuracy': 0.8995633187772926,\n",
       "  'eval_macro_f1': 0.885607844102649,\n",
       "  'eval_weighted_f1': 0.9025037160708825,\n",
       "  'eval_runtime': 14.7685,\n",
       "  'eval_samples_per_second': 15.506,\n",
       "  'eval_steps_per_second': 1.964,\n",
       "  'epoch': 3.1882352941176473,\n",
       "  'step': 70},\n",
       " {'loss': 0.1023,\n",
       "  'grad_norm': 14.163208961486816,\n",
       "  'learning_rate': 2.6595744680851065e-06,\n",
       "  'epoch': 3.6588235294117646,\n",
       "  'step': 80},\n",
       " {'eval_loss': 0.23138074576854706,\n",
       "  'eval_accuracy': 0.9213973799126638,\n",
       "  'eval_macro_f1': 0.921727395411606,\n",
       "  'eval_weighted_f1': 0.9221646659477043,\n",
       "  'eval_runtime': 14.6417,\n",
       "  'eval_samples_per_second': 15.64,\n",
       "  'eval_steps_per_second': 1.981,\n",
       "  'epoch': 3.6588235294117646,\n",
       "  'step': 80},\n",
       " {'loss': 0.0691,\n",
       "  'grad_norm': 2.4902167320251465,\n",
       "  'learning_rate': 1.595744680851064e-06,\n",
       "  'epoch': 4.094117647058823,\n",
       "  'step': 90},\n",
       " {'eval_loss': 0.23256663978099823,\n",
       "  'eval_accuracy': 0.925764192139738,\n",
       "  'eval_macro_f1': 0.9180334710852286,\n",
       "  'eval_weighted_f1': 0.9265749702758924,\n",
       "  'eval_runtime': 14.6889,\n",
       "  'eval_samples_per_second': 15.59,\n",
       "  'eval_steps_per_second': 1.974,\n",
       "  'epoch': 4.094117647058823,\n",
       "  'step': 90},\n",
       " {'loss': 0.0754,\n",
       "  'grad_norm': 3.4759669303894043,\n",
       "  'learning_rate': 5.319148936170213e-07,\n",
       "  'epoch': 4.564705882352941,\n",
       "  'step': 100},\n",
       " {'eval_loss': 0.24637769162654877,\n",
       "  'eval_accuracy': 0.9170305676855895,\n",
       "  'eval_macro_f1': 0.9092408711292986,\n",
       "  'eval_weighted_f1': 0.9179651693925628,\n",
       "  'eval_runtime': 14.538,\n",
       "  'eval_samples_per_second': 15.752,\n",
       "  'eval_steps_per_second': 1.995,\n",
       "  'epoch': 4.564705882352941,\n",
       "  'step': 100},\n",
       " {'train_runtime': 452.0136,\n",
       "  'train_samples_per_second': 7.489,\n",
       "  'train_steps_per_second': 0.232,\n",
       "  'total_flos': 2.2043176203504845e+17,\n",
       "  'train_loss': 0.3001908317917869,\n",
       "  'epoch': 4.8,\n",
       "  'step': 105}]"
      ]
     },
     "execution_count": 143,
     "metadata": {},
     "output_type": "execute_result"
    }
   ],
   "source": [
    "training_logs  = trainer.state.log_history\n",
    "training_logs"
   ]
  },
  {
   "cell_type": "code",
   "execution_count": 144,
   "id": "5a6795da-4054-4940-af5a-2605454ea932",
   "metadata": {},
   "outputs": [],
   "source": [
    "loss_values = [log[\"loss\"] for log in training_logs if \"loss\" in log]\n",
    "eval_loss = [log[\"eval_loss\"] for log in training_logs if \"eval_loss\" in log]\n",
    "steps = [log[\"step\"] for log in training_logs if \"loss\" in log]"
   ]
  },
  {
   "cell_type": "code",
   "execution_count": 145,
   "id": "46685a3a-1376-4daf-86c4-1ed59bda93e0",
   "metadata": {},
   "outputs": [
    {
     "data": {
      "image/png": "[encoded data removed]",
      "text/plain": [
       "<Figure size 1000x600 with 1 Axes>"
      ]
     },
     "metadata": {},
     "output_type": "display_data"
    }
   ],
   "source": [
    "plt.figure(figsize=(10, 6))\n",
    "plt.plot(steps, loss_values, label=\"Train-Loss\")\n",
    "plt.plot(steps, eval_loss, label=\"Vali-Loss\")\n",
    "plt.xlabel(\"Steps\")\n",
    "plt.ylabel(\"Loss\")\n",
    "plt.title(\"Training Loss over Steps\")\n",
    "plt.legend()\n",
    "plt.grid()\n",
    "plt.show()"
   ]
  },
  {
   "cell_type": "markdown",
   "id": "676c64e0-a797-4649-9f80-f4151d065e4a",
   "metadata": {},
   "source": [
    "\n",
    "Based on the graph and the output of the trainer, the training process is completely exhausted after from 50 steps onwards. Afterward overfitting seems to take place, in wich the of the training data continues to decrease slightly, but the loss of the evaluation data remains the same."
   ]
  },
  {
   "cell_type": "markdown",
   "id": "48859b034dc33d25",
   "metadata": {
    "jp-MarkdownHeadingCollapsed": true
   },
   "source": "### 6.4 Testing"
  },
  {
   "cell_type": "code",
   "execution_count": 146,
   "id": "7f032064-8161-4ce5-a0df-96b9e90a51f5",
   "metadata": {},
   "outputs": [
    {
     "data": {
      "text/html": [],
      "text/plain": [
       "<IPython.core.display.HTML object>"
      ]
     },
     "metadata": {},
     "output_type": "display_data"
    }
   ],
   "source": [
    "pred = trainer.predict(test_ds)"
   ]
  },
  {
   "cell_type": "code",
   "execution_count": 148,
   "id": "642f77cf341da47f",
   "metadata": {},
   "outputs": [
    {
     "name": "stdout",
     "output_type": "stream",
     "text": [
      "              precision    recall  f1-score   support\n",
      "\n",
      "           0       0.98      0.89      0.93       100\n",
      "           1       0.81      0.95      0.87        40\n",
      "           2       0.91      0.93      0.92        89\n",
      "\n",
      "    accuracy                           0.92       229\n",
      "   macro avg       0.90      0.92      0.91       229\n",
      "weighted avg       0.92      0.92      0.92       229\n",
      "\n"
     ]
    }
   ],
   "source": [
    "print(skm.classification_report(pred.label_ids, pred.predictions.argmax(1)))"
   ]
  },
  {
   "metadata": {},
   "cell_type": "code",
   "outputs": [
    {
     "data": {
      "text/plain": [
       "<sklearn.metrics._plot.confusion_matrix.ConfusionMatrixDisplay at 0x7f4d143c9110>"
      ]
     },
     "execution_count": 147,
     "metadata": {},
     "output_type": "execute_result"
    },
    {
     "data": {
      "image/png": "[encoded data removed]",
      "text/plain": [
       "<Figure size 640x480 with 2 Axes>"
      ]
     },
     "metadata": {},
     "output_type": "display_data"
    }
   ],
   "execution_count": 147,
   "source": [
    "cmd = skm.ConfusionMatrixDisplay(\n",
    "    skm.confusion_matrix(pred.label_ids, pred.predictions.argmax(1)),\n",
    "    display_labels = meta_labels.keys()\n",
    ")\n",
    "cmd.plot(xticks_rotation=\"vertical\")"
   ],
   "id": "a2f5f92d-c1dd-4b95-9720-eb96b6f00adc"
  },
  {
   "cell_type": "code",
   "execution_count": 152,
   "id": "b9b5c6cb-c85d-4fc9-b6c4-c11b8612f2a5",
   "metadata": {},
   "outputs": [
    {
     "data": {
      "image/png": "[encoded data removed]",
      "text/plain": [
       "<Figure size 800x600 with 1 Axes>"
      ]
     },
     "metadata": {},
     "output_type": "display_data"
    }
   ],
   "source": [
    "id2label = {v:k for k,v in meta_labels.items()}\n",
    "cm = confusion_matrix(pred.label_ids, pred.predictions.argmax(1), normalize='true')\n",
    "\n",
    "plt.figure(figsize=(8, 6))\n",
    "sns.heatmap(cm, annot=True, cmap=\"Blues\", cbar=False, xticklabels=id2label.values(), yticklabels=id2label.values())\n",
    "plt.xlabel(\"Predicted Label\")\n",
    "plt.ylabel(\"True Label\")\n",
    "plt.title(\"Normalized Confusion Matrix\")\n",
    "plt.show()"
   ]
  },
  {
   "cell_type": "markdown",
   "id": "04bcbfdc-49b1-4d2a-a168-3d1d6dfaf547",
   "metadata": {},
   "source": [
    "As before, the accuracy increases again by removing additional complexity. The accuracy increases from 86 % to 92 %. \"Chanting/Singing\" increased and \"Excitement/Celebration\" is about the same as in the model before. The new merged label has an accuracy of 93 %.\\\n",
    "All together the model has a relatively high accrucy compared to before, on the other hand it also forfeits a lot of complexity in the output. It is discussible, if both merging are meaningful, and it depends the most on the use case of this model. The compromise is, to just merge \"Excitement\" and \"Celebration\" to increase the accuracy and look for other possibilities. One is, as in notebook XX described, the augmentation of the labels with fewer data points. This will be explored in the following models."
   ]
  },
  {
   "cell_type": "markdown",
   "id": "70a0f469fc5a82eb",
   "metadata": {
    "jp-MarkdownHeadingCollapsed": true
   },
   "source": "## 7. Conclusion of Merging"
  },
  {
   "cell_type": "markdown",
   "id": "24cf373a-c4c2-4bfa-8493-7f9b34eb22b0",
   "metadata": {},
   "source": [
    "- unbalanced data\n",
    "\n",
    "**Base-Line-Model**\n",
    "- Accuracy 82 %\n",
    "- \"Excitement\" and \"Disappointment\" bad predicted\n",
    "- \"Chanting/Singing\", \"Celebration\", \"Boring\" good predicted\n",
    "- most of \"Excitements\" as \"Celebration\" (40 %)\n",
    "- most of \"Disappointment\" as Boring (40 %)\n",
    "\n",
    "**Model: Merge \"Celebration\" & \"Excitement\"**\n",
    "- Accuracy 86 %\n",
    "- \"Excitement/Celebration\" very good\n",
    "- \"Chanting/Singing\" and \"Boring\" good\n",
    "- \"Disappointment\" medium\n",
    "- quarter of \"Disappointment\" as \"Boring\"\n",
    "- loss of one label-complexity\n",
    "\n",
    "**Model: Merge \"Celebration\" & \"Excitement\" and \"Disappointment\" & \"Boring\"**\n",
    "- Accuracy 92 %\n",
    "- \"Excitement/Celebration\", \"Disappointment/Boring\" very good\n",
    "- \"Chanting/Singing\" good\n",
    "- loss of two label-complexity\n",
    "\n",
    "**Due to the high loss of complexity, the first model, which combines \"Excitement\" and \"Celebration\", is used to further investigate the influence of data augmentation.**"
   ]
  },
  {
   "cell_type": "markdown",
   "id": "f20dbcb3b3531847",
   "metadata": {},
   "source": "## 8. Model: Merge \"Celebration\" & \"Excitement\" with Data Augmentation"
  },
  {
   "cell_type": "markdown",
   "id": "d6d4190a-1c29-41de-a9f8-15a094641dc6",
   "metadata": {},
   "source": "As discussed in the previous chapter, it will be further explored, if data augmentation does improve the model in terms of accuracy."
  },
  {
   "cell_type": "markdown",
   "id": "a87908d7-d554-43df-8d19-0180f7dcea84",
   "metadata": {
    "jp-MarkdownHeadingCollapsed": true
   },
   "source": "### 8.1 Data Augmentation: \"Disappointment\" with n_augments = 1"
  },
  {
   "metadata": {},
   "cell_type": "markdown",
   "source": "The first label, which will be augmented is the \"Disappointment\" label, resulting in doubled data points for \"Disappointment, which will be seen later on. For more information look into the notebook \"XXX\"",
   "id": "fff7d1810854807b"
  },
  {
   "metadata": {},
   "cell_type": "code",
   "outputs": [],
   "execution_count": null,
   "source": [
    "model_name = \"MIT/ast-finetuned-audioset-10-10-0.4593\"\n",
    "device = 'cuda'"
   ],
   "id": "5cd147f3f760630"
  },
  {
   "metadata": {
    "jp-MarkdownHeadingCollapsed": true
   },
   "cell_type": "markdown",
   "source": "#### 8.1.1 Data Processing",
   "id": "782f3609-6da1-4121-8316-d372fc484ab3"
  },
  {
   "metadata": {},
   "cell_type": "markdown",
   "source": "##### Merge \"Celebration\" & \"Excitement\"",
   "id": "58fdc7e5-98ef-4a36-9730-3db5ee8ce926"
  },
  {
   "metadata": {},
   "cell_type": "code",
   "outputs": [
    {
     "data": {
      "text/plain": [
       "{'Chanting/Singing': 0,\n",
       " 'Excitement/Celebration': 1,\n",
       " 'Disappointment': 2,\n",
       " 'Boring': 3}"
      ]
     },
     "execution_count": 12,
     "metadata": {},
     "output_type": "execute_result"
    }
   ],
   "execution_count": 12,
   "source": [
    "meta_labels = {\n",
    "     'Chanting/Singing': 0,\n",
    "     'Excitement/Celebration': 1,\n",
    "     'Disappointment': 2,\n",
    "     'Boring': 3\n",
    "}"
   ],
   "id": "ffd29a73-4a97-4141-a632-a7e7c820c4f7"
  },
  {
   "metadata": {
    "collapsed": true,
    "jupyter": {
     "outputs_hidden": true
    },
    "scrolled": true
   },
   "cell_type": "code",
   "outputs": [
    {
     "data": {
      "text/plain": [
       "array([3, 3, 3, 3, 3, 3, 3, 3, 3, 0, 0, 0, 1, 1, 1, 1, 1, 1, 1, 1, 0, 0,\n",
       "       0, 0, 2, 2, 0, 3, 3, 3, 3, 0, 0, 0, 0, 0, 0, 0, 0, 0, 2, 1, 1, 1,\n",
       "       1, 1, 1, 1, 1, 2, 2, 3, 3, 3, 3, 3, 3, 3, 0, 0, 0, 0, 0, 1, 1, 1,\n",
       "       2, 1, 1, 1, 1, 1, 1, 1, 1, 1, 1, 1, 1, 1, 1, 1, 1, 1, 1, 1, 1, 3,\n",
       "       3, 3, 3, 3, 3, 3, 2, 3, 3, 3, 3, 3, 1, 1, 1, 1, 3, 3, 3, 3, 3, 3,\n",
       "       3, 3, 3, 3, 3, 3, 3, 3, 3, 3, 3, 3, 2, 0, 0, 0, 0, 0, 0, 0, 3, 3,\n",
       "       3, 3, 3, 3, 3, 3, 3, 3, 3, 3, 3, 1, 1, 1, 1, 1, 1, 1, 1, 1, 1, 1,\n",
       "       2, 2, 0, 0, 0, 0, 0, 0, 0, 0, 0, 0, 0, 0, 0, 0, 0, 0, 0, 0, 0, 0,\n",
       "       0, 0, 0, 0, 0, 0, 0, 0, 0, 0, 0, 0, 0, 0, 0, 0, 0, 0, 0, 0, 0, 0,\n",
       "       0, 0, 0, 0, 0, 0, 0, 0, 0, 0, 0, 0, 0, 0, 0, 0, 0, 0, 0, 0, 0, 0,\n",
       "       0, 0, 0, 0, 0, 0, 0, 0, 0, 0, 0, 0, 0, 0, 0, 0, 0, 0, 0, 0, 0, 0,\n",
       "       0, 0, 0, 0, 0, 0, 0, 0, 0, 0, 0, 0, 0, 0, 0, 0, 0, 0, 0, 0, 0, 0,\n",
       "       0, 0, 0, 0, 0, 0, 0, 0, 0, 0, 0, 0, 0, 0, 0, 0, 1, 1, 0, 0, 0, 0,\n",
       "       0, 0, 0, 0, 0, 0, 0, 0, 0, 0, 0, 0, 0, 0, 0, 0, 0, 0, 0, 0, 0, 0,\n",
       "       0, 0, 0, 0, 0, 0, 0, 0, 0, 0, 0, 0, 0, 0, 0, 0, 0, 0, 0, 1, 1, 1,\n",
       "       1, 1, 1, 1, 1, 1, 1, 1, 0, 0, 0, 0, 0, 0, 0, 0, 0, 0, 0, 0, 0, 0,\n",
       "       0, 0, 1, 3, 3, 3, 3, 3, 3, 3, 3, 0, 0, 0, 0, 0, 0, 0, 0, 0, 0, 1,\n",
       "       1, 1, 1, 1, 3, 3, 3, 3, 3, 3, 0, 0, 0, 0, 0, 0, 0, 0, 0, 0, 0, 0,\n",
       "       0, 0, 0, 0, 0, 0, 0, 0, 0, 0, 0, 0, 0, 0, 0, 0, 0, 0, 0, 0, 0, 0,\n",
       "       0, 0, 0, 0, 0, 0, 0, 0, 0, 0, 0, 0, 0, 1, 1, 1, 1, 1, 1, 1, 3, 3,\n",
       "       3, 3, 3, 3, 3, 3, 3, 3, 3, 3, 3, 3, 3, 3, 3, 3, 3, 3, 3, 3, 0, 0,\n",
       "       0, 0, 0, 0, 0, 0, 1, 1, 1, 1, 1, 1, 0, 0, 0, 0, 0, 0, 0, 0, 1, 1,\n",
       "       1, 1, 1, 1, 1, 1, 1, 1, 1, 1, 1, 1, 1, 1, 1, 1, 1, 1, 1, 1, 1, 1,\n",
       "       1, 1, 1, 1, 1, 3, 3, 3, 3, 3, 3, 3, 3, 3, 3, 3, 3, 3, 3, 3, 3, 3,\n",
       "       3, 3, 3, 3, 3, 3, 3, 3, 3, 3, 3, 3, 3, 3, 1, 1, 1, 1, 1, 1, 1, 1,\n",
       "       1, 1, 1, 1, 1, 1, 1, 1, 1, 1, 1, 1, 1, 2, 2, 2, 2, 2, 2, 2, 2, 2,\n",
       "       2, 2, 2, 2, 2, 1, 1, 1, 1, 1, 1, 1, 1, 1, 1, 1, 2, 2, 2, 2, 2, 2,\n",
       "       2, 2, 2, 2, 2, 2, 2, 2, 2, 2, 2, 2, 2, 2, 2, 1, 1, 0, 0, 0, 0, 0,\n",
       "       0, 0, 0, 0, 0, 0, 0, 0, 0, 0, 0, 0, 0, 0, 0, 0, 0, 0, 0, 0, 0, 0,\n",
       "       0, 0, 0, 0, 0, 0, 0, 0, 3, 3, 3, 3, 3, 3, 3, 3, 3, 3, 3, 3, 3, 3,\n",
       "       3, 3, 3, 3, 3, 3, 3, 3, 3, 3, 3, 3, 3, 3, 3, 3, 3, 3, 3, 3, 3, 3,\n",
       "       3, 3, 3, 3, 3, 3, 3, 3, 3, 3, 3, 3, 3, 0, 0, 0, 0, 0, 0, 0, 0, 0,\n",
       "       0, 0, 0, 0, 0, 0, 0, 0, 0, 0, 0, 0, 0, 0, 0, 0, 0, 0, 0, 0, 0, 0,\n",
       "       0, 0, 0, 0, 0, 0, 0, 0, 0, 0, 0, 0, 0, 0, 0, 0, 0, 2, 2, 2, 2, 2,\n",
       "       2, 2, 2, 2, 2, 2, 2, 2, 2, 2, 1, 1, 1, 1, 1, 1, 1, 3, 3, 3, 3, 3,\n",
       "       3, 3, 3, 3, 1, 1, 1, 1, 1, 1, 3, 3, 3, 1, 1, 1, 3, 3, 3, 3, 3, 1,\n",
       "       3, 3, 3, 3, 3, 3, 3, 3, 3, 3, 3, 3, 1, 1, 1, 3, 3, 3, 3, 3, 3, 3,\n",
       "       3, 3, 3, 3, 3, 3, 3, 3, 3, 3, 3, 3, 3, 3, 3, 3, 3, 3, 1, 1, 1, 3,\n",
       "       3, 3, 3, 3, 3, 3, 3, 3, 3, 3, 3, 3, 3, 3, 3, 3, 3, 3, 3, 3, 3, 3,\n",
       "       3, 3, 3, 3, 3, 3, 3, 3, 3, 1, 1, 3, 3, 3, 3, 3, 3, 3, 3, 3, 3, 3,\n",
       "       3, 3, 3, 3, 3, 3, 3, 3, 3, 3, 3, 3, 3, 3, 3, 3, 3, 3, 3, 1, 1, 1,\n",
       "       1, 1, 1, 1])"
      ]
     },
     "execution_count": 11,
     "metadata": {},
     "output_type": "execute_result"
    }
   ],
   "execution_count": 11,
   "source": [
    "nparray2 = np.where(arrays['y']==3, 1, arrays['y'])\n",
    "nparray2 = np.where(nparray2==4, 3, nparray2)\n",
    "nparray2"
   ],
   "id": "8313456b-dd0b-4d74-830e-0f9e57bb7a45"
  },
  {
   "metadata": {
    "collapsed": true,
    "jupyter": {
     "outputs_hidden": true
    }
   },
   "cell_type": "code",
   "outputs": [
    {
     "data": {
      "text/plain": [
       "array([4, 4, 4, 4, 4, 4, 4, 4, 4, 0, 0, 0, 3, 3, 3, 3, 3, 3, 3, 3, 0, 0,\n",
       "       0, 0, 2, 2, 0, 4, 4, 4, 4, 0, 0, 0, 0, 0, 0, 0, 0, 0, 2, 1, 1, 1,\n",
       "       1, 3, 3, 3, 3, 2, 2, 4, 4, 4, 4, 4, 4, 4, 0, 0, 0, 0, 0, 1, 1, 1,\n",
       "       2, 1, 1, 1, 1, 1, 1, 3, 3, 3, 3, 3, 3, 3, 3, 3, 3, 3, 1, 1, 1, 4,\n",
       "       4, 4, 4, 4, 4, 4, 2, 4, 4, 4, 4, 4, 1, 1, 1, 1, 4, 4, 4, 4, 4, 4,\n",
       "       4, 4, 4, 4, 4, 4, 4, 4, 4, 4, 4, 4, 2, 0, 0, 0, 0, 0, 0, 0, 4, 4,\n",
       "       4, 4, 4, 4, 4, 4, 4, 4, 4, 4, 4, 1, 1, 1, 1, 3, 3, 3, 1, 3, 3, 3,\n",
       "       2, 2, 0, 0, 0, 0, 0, 0, 0, 0, 0, 0, 0, 0, 0, 0, 0, 0, 0, 0, 0, 0,\n",
       "       0, 0, 0, 0, 0, 0, 0, 0, 0, 0, 0, 0, 0, 0, 0, 0, 0, 0, 0, 0, 0, 0,\n",
       "       0, 0, 0, 0, 0, 0, 0, 0, 0, 0, 0, 0, 0, 0, 0, 0, 0, 0, 0, 0, 0, 0,\n",
       "       0, 0, 0, 0, 0, 0, 0, 0, 0, 0, 0, 0, 0, 0, 0, 0, 0, 0, 0, 0, 0, 0,\n",
       "       0, 0, 0, 0, 0, 0, 0, 0, 0, 0, 0, 0, 0, 0, 0, 0, 0, 0, 0, 0, 0, 0,\n",
       "       0, 0, 0, 0, 0, 0, 0, 0, 0, 0, 0, 0, 0, 0, 0, 0, 1, 1, 0, 0, 0, 0,\n",
       "       0, 0, 0, 0, 0, 0, 0, 0, 0, 0, 0, 0, 0, 0, 0, 0, 0, 0, 0, 0, 0, 0,\n",
       "       0, 0, 0, 0, 0, 0, 0, 0, 0, 0, 0, 0, 0, 0, 0, 0, 0, 0, 0, 3, 3, 3,\n",
       "       3, 3, 3, 3, 3, 3, 3, 3, 0, 0, 0, 0, 0, 0, 0, 0, 0, 0, 0, 0, 0, 0,\n",
       "       0, 0, 1, 4, 4, 4, 4, 4, 4, 4, 4, 0, 0, 0, 0, 0, 0, 0, 0, 0, 0, 1,\n",
       "       1, 3, 3, 3, 4, 4, 4, 4, 4, 4, 0, 0, 0, 0, 0, 0, 0, 0, 0, 0, 0, 0,\n",
       "       0, 0, 0, 0, 0, 0, 0, 0, 0, 0, 0, 0, 0, 0, 0, 0, 0, 0, 0, 0, 0, 0,\n",
       "       0, 0, 0, 0, 0, 0, 0, 0, 0, 0, 0, 0, 0, 3, 3, 3, 3, 1, 1, 1, 4, 4,\n",
       "       4, 4, 4, 4, 4, 4, 4, 4, 4, 4, 4, 4, 4, 4, 4, 4, 4, 4, 4, 4, 0, 0,\n",
       "       0, 0, 0, 0, 0, 0, 1, 1, 1, 1, 1, 1, 0, 0, 0, 0, 0, 0, 0, 0, 1, 1,\n",
       "       1, 1, 1, 1, 1, 1, 1, 1, 1, 1, 1, 1, 1, 1, 3, 3, 3, 3, 3, 3, 3, 3,\n",
       "       3, 3, 3, 3, 3, 4, 4, 4, 4, 4, 4, 4, 4, 4, 4, 4, 4, 4, 4, 4, 4, 4,\n",
       "       4, 4, 4, 4, 4, 4, 4, 4, 4, 4, 4, 4, 4, 4, 3, 3, 3, 3, 3, 3, 3, 3,\n",
       "       3, 3, 3, 3, 3, 3, 3, 3, 3, 3, 3, 3, 3, 2, 2, 2, 2, 2, 2, 2, 2, 2,\n",
       "       2, 2, 2, 2, 2, 1, 1, 1, 1, 1, 1, 1, 3, 3, 3, 3, 2, 2, 2, 2, 2, 2,\n",
       "       2, 2, 2, 2, 2, 2, 2, 2, 2, 2, 2, 2, 2, 2, 2, 1, 1, 0, 0, 0, 0, 0,\n",
       "       0, 0, 0, 0, 0, 0, 0, 0, 0, 0, 0, 0, 0, 0, 0, 0, 0, 0, 0, 0, 0, 0,\n",
       "       0, 0, 0, 0, 0, 0, 0, 0, 4, 4, 4, 4, 4, 4, 4, 4, 4, 4, 4, 4, 4, 4,\n",
       "       4, 4, 4, 4, 4, 4, 4, 4, 4, 4, 4, 4, 4, 4, 4, 4, 4, 4, 4, 4, 4, 4,\n",
       "       4, 4, 4, 4, 4, 4, 4, 4, 4, 4, 4, 4, 4, 0, 0, 0, 0, 0, 0, 0, 0, 0,\n",
       "       0, 0, 0, 0, 0, 0, 0, 0, 0, 0, 0, 0, 0, 0, 0, 0, 0, 0, 0, 0, 0, 0,\n",
       "       0, 0, 0, 0, 0, 0, 0, 0, 0, 0, 0, 0, 0, 0, 0, 0, 0, 2, 2, 2, 2, 2,\n",
       "       2, 2, 2, 2, 2, 2, 2, 2, 2, 2, 1, 1, 1, 1, 1, 1, 1, 4, 4, 4, 4, 4,\n",
       "       4, 4, 4, 4, 1, 1, 1, 1, 1, 1, 4, 4, 4, 1, 1, 1, 4, 4, 4, 4, 4, 1,\n",
       "       4, 4, 4, 4, 4, 4, 4, 4, 4, 4, 4, 4, 1, 1, 1, 4, 4, 4, 4, 4, 4, 4,\n",
       "       4, 4, 4, 4, 4, 4, 4, 4, 4, 4, 4, 4, 4, 4, 4, 4, 4, 4, 1, 1, 1, 4,\n",
       "       4, 4, 4, 4, 4, 4, 4, 4, 4, 4, 4, 4, 4, 4, 4, 4, 4, 4, 4, 4, 4, 4,\n",
       "       4, 4, 4, 4, 4, 4, 4, 4, 4, 1, 1, 4, 4, 4, 4, 4, 4, 4, 4, 4, 4, 4,\n",
       "       4, 4, 4, 4, 4, 4, 4, 4, 4, 4, 4, 4, 4, 4, 4, 4, 4, 4, 4, 1, 1, 1,\n",
       "       1, 1, 1, 1])"
      ]
     },
     "execution_count": 10,
     "metadata": {},
     "output_type": "execute_result"
    }
   ],
   "execution_count": 10,
   "source": "arrays['y']",
   "id": "28519201-52dc-4249-b2c4-cd7291cc6965"
  },
  {
   "metadata": {},
   "cell_type": "code",
   "outputs": [
    {
     "name": "stderr",
     "output_type": "stream",
     "text": [
      "/tmp/ipykernel_61/1762133594.py:3: UserWarning: set_ticklabels() should only be used with a fixed number of ticks, i.e. after set_ticks() or using a FixedLocator.\n",
      "  ax.set_xticklabels(meta_labels.keys())\n"
     ]
    },
    {
     "data": {
      "image/png": "[encoded data removed]",
      "text/plain": [
       "<Figure size 640x480 with 1 Axes>"
      ]
     },
     "metadata": {},
     "output_type": "display_data"
    }
   ],
   "execution_count": 25,
   "source": [
    "ax = sns.barplot(Counter(nparray2))\n",
    "ax.set(xlabel='Label', ylabel='Counts')\n",
    "ax.set_xticklabels(meta_labels.keys())\n",
    "ax.tick_params(axis='x', labelrotation=90)\n",
    "ax.set_axisbelow(True)\n",
    "plt.grid(axis = 'y',alpha=0.5)\n",
    "plt.title('Number of Labels not augmented')\n",
    "plt.show()"
   ],
   "id": "8816156b-d638-4d9d-9f46-7a988439e719"
  },
  {
   "metadata": {},
   "cell_type": "markdown",
   "source": "##### Augmentation",
   "id": "05d03dc0-c624-4002-a989-acc5244491e2"
  },
  {
   "metadata": {},
   "cell_type": "code",
   "outputs": [],
   "execution_count": 27,
   "source": [
    "def add_noise(audio, noise_factor=0.005):\n",
    "    noise = np.random.randn(len(audio)) * noise_factor\n",
    "    augmented_audio = audio + noise\n",
    "    return np.clip(augmented_audio, -1.0, 1.0)  # Clips the audio between -1 and 1\n",
    "\n",
    "def pitch_shift(audio, sr, shift=2):\n",
    "    return librosa.effects.pitch_shift(audio, sr=sr, n_steps=shift)\n",
    "\n",
    "def time_stretch(audio, rate=1.1):\n",
    "    return librosa.effects.time_stretch(audio, rate=rate)\n",
    "\n",
    "# Beispiel eines Augmentierungsprozesses\n",
    "def augment_audio(audio, sr):\n",
    "    augmentation_type = random.choice(['noise', 'pitch', 'stretch'])\n",
    "\n",
    "    if augmentation_type == 'noise':\n",
    "        return add_noise(audio)\n",
    "    elif augmentation_type == 'pitch':\n",
    "        return pitch_shift(audio, sr)\n",
    "    elif augmentation_type == 'stretch':\n",
    "        return time_stretch(audio)\n",
    "\n",
    "    return audio"
   ],
   "id": "1dc2b405-8ec0-4b62-b6f9-6fa39c671c6f"
  },
  {
   "metadata": {},
   "cell_type": "code",
   "outputs": [],
   "execution_count": 28,
   "source": [
    "def process_and_augment_dataset(arrays_X, arrays_y, arrays_groups, meta, feature_extractor, labels_to_augment, n_augments=5):\n",
    "    augmented_audio_data = []\n",
    "    augmented_labels = []\n",
    "    augmented_groups = []\n",
    "\n",
    "    sr = meta['sample_rate']\n",
    "\n",
    "    for i, audio in enumerate(arrays_X):\n",
    "        label = arrays_y[i]\n",
    "        group = arrays_groups[i]\n",
    "\n",
    "        # Originale Daten hinzufügen\n",
    "        preprocessed_audio = feature_extractor(\n",
    "            audio,\n",
    "            sampling_rate=sr,\n",
    "            return_tensors=\"pt\"\n",
    "        )\n",
    "        augmented_audio_data.append(preprocessed_audio['input_values'])\n",
    "        augmented_labels.append(label)  # Originales Label\n",
    "        augmented_groups.append(group)\n",
    "\n",
    "        # Augmentierung nur für Labels 1 und 2\n",
    "        if label in labels_to_augment:\n",
    "            for _ in range(n_augments):\n",
    "                # Augmentierung auf rohen Audiodaten anwenden\n",
    "                augmented_audio = augment_audio(audio, sr)\n",
    "\n",
    "                # Feature-Extraktion nach der Augmentierung\n",
    "                preprocessed_audio = feature_extractor(\n",
    "                    augmented_audio,\n",
    "                    sampling_rate=sr,\n",
    "                    return_tensors=\"pt\"\n",
    "                )\n",
    "\n",
    "                augmented_audio_data.append(preprocessed_audio['input_values'])\n",
    "                augmented_labels.append(label)  # Augmentiertes Label\n",
    "                augmented_groups.append(group)  # Ursprung der Daten\n",
    "\n",
    "    # Alle augmentierten Eingabewerte kombinieren\n",
    "    input_values = torch.cat(augmented_audio_data, dim=0)\n",
    "\n",
    "    hf_dataset = Dataset.from_dict({\n",
    "        \"input_values\": input_values.numpy(),  # In NumPy-Array umwandeln\n",
    "        \"label\": np.array(augmented_labels)  # Labels als NumPy-Array\n",
    "    })\n",
    "\n",
    "    augmented_groups = np.array(augmented_groups) # groups als NumPy-Array\n",
    "\n",
    "    return hf_dataset, augmented_groups"
   ],
   "id": "3661eb4f-deb0-4cbb-b5dc-e241f5bafd51"
  },
  {
   "metadata": {},
   "cell_type": "code",
   "outputs": [],
   "execution_count": 29,
   "source": [
    "feature_extractor = AutoFeatureExtractor.from_pretrained(model_name)\n",
    "\n",
    "hf_dataset, augmented_groups = process_and_augment_dataset(\n",
    "    arrays_X= arrays['X'],\n",
    "    arrays_y= nparray2,\n",
    "    arrays_groups= arrays['groups'],\n",
    "    meta= meta,\n",
    "    feature_extractor= feature_extractor,\n",
    "    labels_to_augment=[2],\n",
    "    n_augments=1 # bei <1 entstehen eventuell Duplikate\n",
    ")"
   ],
   "id": "ab8f069b-6362-41f7-9520-fa0ac1c0afb6"
  },
  {
   "metadata": {},
   "cell_type": "code",
   "outputs": [
    {
     "data": {
      "text/plain": [
       "Dataset({\n",
       "    features: ['input_values', 'label'],\n",
       "    num_rows: 966\n",
       "})"
      ]
     },
     "execution_count": 30,
     "metadata": {},
     "output_type": "execute_result"
    }
   ],
   "execution_count": 30,
   "source": "hf_dataset",
   "id": "ef46a417-8d2f-47e0-8ed5-4618a63fe97a"
  },
  {
   "metadata": {
    "scrolled": true
   },
   "cell_type": "code",
   "outputs": [
    {
     "data": {
      "text/plain": [
       "array([ 0,  0,  0,  0,  0,  0,  0,  0,  0,  0,  0,  0,  0,  0,  0,  0,  0,\n",
       "        0,  0,  0,  0,  0,  0,  0,  0,  0,  0,  0,  0,  1,  1,  1,  1,  1,\n",
       "        1,  1,  1,  1,  1,  1,  1,  1,  1,  1,  1,  1,  1,  1,  1,  1,  1,\n",
       "        1,  1,  1,  1,  1,  1,  1,  1,  1,  1,  1,  1,  2,  2,  2,  2,  2,\n",
       "        2,  2,  2,  2,  2,  2,  2,  2,  2,  2,  2,  2,  2,  2,  2,  2,  2,\n",
       "        2,  2,  2,  2,  2,  2,  2,  2,  2,  2,  2,  2,  2,  2,  2,  2,  2,\n",
       "        2,  2,  2,  2,  2,  2,  2,  2,  2,  2,  2,  2,  2,  2,  2,  2,  2,\n",
       "        2,  2,  2,  2,  2,  2,  2,  2,  2,  2,  2,  2,  2,  2,  2,  2,  2,\n",
       "        2,  2,  2,  2,  2,  2,  2,  2,  2,  2,  2,  2,  2,  2,  2,  2,  2,\n",
       "        2,  2,  2,  2,  2,  2,  2,  2,  2,  2,  2,  2,  2,  3,  3,  3,  3,\n",
       "        3,  3,  3,  3,  3,  3,  3,  3,  3,  3,  3,  3,  3,  3,  3,  3,  3,\n",
       "        3,  3,  3,  3,  3,  3,  3,  3,  3,  3,  3,  3,  3,  3,  3,  3,  3,\n",
       "        3,  3,  3,  3,  3,  3,  3,  3,  3,  3,  3,  3,  3,  3,  3,  3,  3,\n",
       "        3,  3,  3,  3,  3,  3,  3,  3,  3,  3,  3,  3,  3,  3,  3,  3,  3,\n",
       "        3,  3,  3,  3,  3,  3,  3,  3,  3,  3,  3,  3,  3,  3,  3,  3,  3,\n",
       "        3,  3,  3,  3,  3,  3,  3,  3,  3,  3,  3,  3,  3,  3,  3,  3,  3,\n",
       "        3,  3,  3,  3,  3,  3,  3,  3,  3,  3,  3,  3,  3,  3,  3,  3,  3,\n",
       "        3,  3,  3,  3,  3,  3,  3,  3,  3,  3,  3,  3,  3,  3,  3,  3,  3,\n",
       "        3,  3,  3,  3,  3,  3,  3,  3,  3,  3,  3,  3,  3,  3,  3,  3,  3,\n",
       "        3,  3,  3,  3,  3,  3,  3,  3,  3,  3,  3,  3,  3,  3,  3,  3,  3,\n",
       "        3,  3,  3,  3,  3,  3,  3,  3,  3,  3,  3,  3,  3,  3,  3,  3,  3,\n",
       "        3,  3,  3,  3,  3,  3,  3,  3,  3,  3,  3,  3,  3,  3,  3,  3,  3,\n",
       "        3,  3,  3,  3,  3,  3,  3,  3,  3,  3,  3,  3,  3,  3,  3,  3,  3,\n",
       "        3,  3,  3,  3,  3,  3,  3,  3,  3,  3,  3,  3,  3,  3,  3,  3,  3,\n",
       "        3,  3,  3,  3,  3,  3,  3,  3,  3,  3,  3,  3,  3,  3,  3,  3,  3,\n",
       "        3,  3,  3,  3,  3,  3,  3,  3,  3,  3,  3,  3,  3,  3,  3,  3,  3,\n",
       "        3,  3,  3,  3,  3,  3,  3,  3,  3,  3,  3,  3,  3,  3,  3,  3,  3,\n",
       "        3,  3,  3,  3,  3,  3,  3,  3,  3,  3,  3,  3,  3,  3,  3,  3,  3,\n",
       "        3,  3,  3,  3,  3,  3,  3,  3,  3,  3,  3,  3,  3,  3,  3,  3,  3,\n",
       "        3,  3,  3,  3,  3,  3,  4,  4,  4,  4,  4,  5,  5,  5,  5,  5,  5,\n",
       "        5,  5,  5,  5,  5,  5,  5,  5,  5,  5,  5,  6,  6,  6,  6,  6,  6,\n",
       "        6,  6,  6,  6,  6,  6,  6,  6,  6,  6,  6,  6,  6,  6,  6,  6,  6,\n",
       "        6,  6,  6,  6,  7,  7,  7,  7,  8,  8,  8,  8,  8,  8,  8,  8,  8,\n",
       "        8,  8,  9,  9,  9,  9,  9,  9,  9,  9,  9,  9, 10, 10, 10, 10, 10,\n",
       "       10, 10, 10, 10, 10, 10, 10, 10, 10, 10, 10, 10, 10, 10, 10, 10, 10,\n",
       "       10, 10, 10, 10, 10, 10, 10, 10, 10, 10, 10, 10, 10, 10, 10, 10, 10,\n",
       "       11, 11, 11, 11, 11, 11, 11, 11, 11, 11, 11, 11, 11, 11, 11, 11, 11,\n",
       "       11, 11, 11, 11, 11, 11, 11, 11, 11, 11, 11, 11, 11, 11, 11, 12, 12,\n",
       "       12, 12, 12, 12, 12, 12, 12, 12, 13, 13, 14, 14, 14, 14, 14, 14, 14,\n",
       "       14, 14, 14, 14, 14, 14, 14, 14, 14, 14, 14, 14, 14, 14, 14, 14, 14,\n",
       "       14, 14, 14, 14, 14, 14, 14, 14, 14, 14, 14, 14, 14, 14, 14, 14, 14,\n",
       "       14, 14, 14, 14, 14, 14, 14, 14, 14, 14, 14, 14, 14, 14, 14, 14, 14,\n",
       "       14, 14, 14, 14, 14, 14, 14, 14, 14, 14, 14, 14, 14, 14, 14, 14, 14,\n",
       "       14, 14, 14, 14, 14, 14, 14, 14, 14, 14, 14, 14, 14, 14, 14, 14, 14,\n",
       "       14, 14, 14, 14, 14, 14, 14, 14, 14, 14, 14, 14, 14, 14, 14, 14, 14,\n",
       "       14, 14, 14, 14, 14, 14, 14, 14, 14, 14, 14, 14, 14, 14, 14, 14, 14,\n",
       "       14, 14, 14, 14, 14, 14, 14, 14, 14, 14, 14, 14, 14, 14, 14, 14, 14,\n",
       "       14, 14, 14, 14, 14, 14, 14, 14, 14, 14, 14, 14, 14, 14, 14, 14, 14,\n",
       "       14, 14, 14, 14, 14, 14, 14, 14, 14, 15, 15, 15, 15, 15, 15, 15, 15,\n",
       "       15, 15, 15, 15, 15, 15, 15, 15, 15, 15, 15, 15, 15, 15, 15, 15, 15,\n",
       "       15, 15, 15, 15, 15, 15, 15, 15, 15, 15, 15, 15, 15, 15, 15, 15, 15,\n",
       "       15, 15, 15, 15, 15, 15, 15, 15, 15, 15, 15, 15, 15, 15, 15, 15, 15,\n",
       "       15, 15, 15, 15, 15, 15, 15, 15, 15, 15, 15, 15, 15, 15, 15, 15, 15,\n",
       "       15, 15, 15, 15, 15, 15, 15, 15, 15, 15, 15, 15, 15, 15, 15, 15, 15,\n",
       "       15, 15, 15, 15, 15, 15, 15, 15, 15, 15, 15, 15, 15, 15, 15, 15, 15,\n",
       "       15, 15, 15, 15, 15, 15, 15, 15, 15, 15, 15, 15, 15, 15, 15, 15, 15,\n",
       "       15, 15, 15, 15, 15, 15, 15, 15, 15, 15, 15, 15, 15, 15])"
      ]
     },
     "execution_count": 31,
     "metadata": {},
     "output_type": "execute_result"
    }
   ],
   "execution_count": 31,
   "source": "augmented_groups",
   "id": "f2539bda-6bfa-40cf-8ca8-18779d60e477"
  },
  {
   "metadata": {},
   "cell_type": "code",
   "outputs": [
    {
     "data": {
      "text/plain": [
       "Counter({0: 370, 3: 295, 1: 181, 2: 120})"
      ]
     },
     "execution_count": 32,
     "metadata": {},
     "output_type": "execute_result"
    }
   ],
   "execution_count": 32,
   "source": "Counter(hf_dataset['label'])",
   "id": "87829171-b6ed-410a-b006-6b3264e5152a"
  },
  {
   "metadata": {},
   "cell_type": "code",
   "outputs": [
    {
     "name": "stderr",
     "output_type": "stream",
     "text": [
      "/tmp/ipykernel_61/1318691458.py:3: UserWarning: set_ticklabels() should only be used with a fixed number of ticks, i.e. after set_ticks() or using a FixedLocator.\n",
      "  ax.set_xticklabels(meta_labels.keys())\n"
     ]
    },
    {
     "data": {
      "image/png": "[encoded data removed]",
      "text/plain": [
       "<Figure size 640x480 with 1 Axes>"
      ]
     },
     "metadata": {},
     "output_type": "display_data"
    }
   ],
   "execution_count": 35,
   "source": [
    "ax = sns.barplot(Counter(hf_dataset['label']))\n",
    "ax.set(xlabel='Label', ylabel='Counts')\n",
    "ax.set_xticklabels(meta_labels.keys())\n",
    "ax.tick_params(axis='x', labelrotation=90)\n",
    "ax.set_axisbelow(True)\n",
    "plt.grid(axis = 'y',alpha=0.5)\n",
    "plt.title('Number of Labels augmented')\n",
    "plt.show()"
   ],
   "id": "d6919f3b-94a1-4363-af90-acf228d62576"
  },
  {
   "metadata": {},
   "cell_type": "markdown",
   "source": "As we can see in both diagramms, the number of data points for \"Disappointment\" are doubled.",
   "id": "571e99f6-34c6-4522-bb5d-7900f5d3af3f"
  },
  {
   "metadata": {},
   "cell_type": "markdown",
   "source": "##### Train- and Test-Split",
   "id": "55b0d98f-b751-40c4-ab08-c3d6a9152957"
  },
  {
   "metadata": {},
   "cell_type": "code",
   "outputs": [
    {
     "name": "stdout",
     "output_type": "stream",
     "text": [
      "Fold 0:\n",
      "  Train: source={np.int64(2), np.int64(3), np.int64(4), np.int64(6), np.int64(7), np.int64(8), np.int64(9), np.int64(10), np.int64(11), np.int64(12), np.int64(13), np.int64(15)}\n",
      "  Test:  source={np.int64(0), np.int64(1), np.int64(5), np.int64(14)}\n",
      "Fold 1:\n",
      "  Train: source={np.int64(0), np.int64(1), np.int64(3), np.int64(4), np.int64(5), np.int64(7), np.int64(9), np.int64(10), np.int64(11), np.int64(12), np.int64(14), np.int64(15)}\n",
      "  Test:  source={np.int64(8), np.int64(2), np.int64(13), np.int64(6)}\n",
      "Fold 2:\n",
      "  Train: source={np.int64(0), np.int64(2), np.int64(3), np.int64(4), np.int64(6), np.int64(7), np.int64(9), np.int64(10), np.int64(11), np.int64(12), np.int64(14), np.int64(15)}\n",
      "  Test:  source={np.int64(8), np.int64(1), np.int64(13), np.int64(5)}\n",
      "Fold 3:\n",
      "  Train: source={np.int64(1), np.int64(3), np.int64(4), np.int64(6), np.int64(7), np.int64(8), np.int64(9), np.int64(10), np.int64(11), np.int64(12), np.int64(13), np.int64(15)}\n",
      "  Test:  source={np.int64(0), np.int64(2), np.int64(5), np.int64(14)}\n",
      "Fold 4:\n",
      "  Train: source={np.int64(0), np.int64(1), np.int64(2), np.int64(3), np.int64(5), np.int64(6), np.int64(7), np.int64(8), np.int64(9), np.int64(11), np.int64(12), np.int64(13)}\n",
      "  Test:  source={np.int64(10), np.int64(4), np.int64(14), np.int64(15)}\n",
      "Fold 5:\n",
      "  Train: source={np.int64(0), np.int64(1), np.int64(3), np.int64(5), np.int64(6), np.int64(7), np.int64(9), np.int64(10), np.int64(11), np.int64(13), np.int64(14), np.int64(15)}\n",
      "  Test:  source={np.int64(8), np.int64(2), np.int64(4), np.int64(12)}\n",
      "Fold 6:\n",
      "  Train: source={np.int64(0), np.int64(1), np.int64(4), np.int64(5), np.int64(6), np.int64(7), np.int64(8), np.int64(9), np.int64(10), np.int64(11), np.int64(12), np.int64(15)}\n",
      "  Test:  source={np.int64(2), np.int64(3), np.int64(13), np.int64(14)}\n",
      "Fold 7:\n",
      "  Train: source={np.int64(0), np.int64(1), np.int64(2), np.int64(3), np.int64(4), np.int64(6), np.int64(7), np.int64(8), np.int64(10), np.int64(12), np.int64(14), np.int64(15)}\n",
      "  Test:  source={np.int64(9), np.int64(13), np.int64(11), np.int64(5)}\n",
      "Fold 8:\n",
      "  Train: source={np.int64(0), np.int64(2), np.int64(4), np.int64(5), np.int64(6), np.int64(7), np.int64(9), np.int64(10), np.int64(12), np.int64(13), np.int64(14), np.int64(15)}\n",
      "  Test:  source={np.int64(8), np.int64(1), np.int64(3), np.int64(11)}\n",
      "Fold 9:\n",
      "  Train: source={np.int64(0), np.int64(2), np.int64(3), np.int64(4), np.int64(6), np.int64(7), np.int64(8), np.int64(9), np.int64(10), np.int64(11), np.int64(14), np.int64(15)}\n",
      "  Test:  source={np.int64(1), np.int64(13), np.int64(12), np.int64(5)}\n"
     ]
    }
   ],
   "execution_count": 92,
   "source": [
    "gss = GroupShuffleSplit(n_splits=10, train_size=.8, random_state=42)\n",
    "gss.get_n_splits()\n",
    "\n",
    "for i, (train_index, test_index) in enumerate(gss.split(X=hf_dataset[\"input_values\"], y=hf_dataset[\"label\"], groups=augmented_groups)):\n",
    "    print(f\"Fold {i}:\")\n",
    "    print(f\"  Train: source={set(augmented_groups[train_index])}\")\n",
    "    print(f\"  Test:  source={set(augmented_groups[test_index])}\")"
   ],
   "id": "20aa4d67-47f7-4421-8922-86060016ba2f"
  },
  {
   "metadata": {},
   "cell_type": "code",
   "outputs": [],
   "execution_count": 93,
   "source": [
    "# select one train test split\n",
    "(train_index, test_index) = next(gss.split(X=hf_dataset[\"input_values\"], y=hf_dataset[\"label\"], groups=augmented_groups))"
   ],
   "id": "f47cb1f1-c39f-4e57-bd51-2dff348093b3"
  },
  {
   "metadata": {},
   "cell_type": "code",
   "outputs": [
    {
     "data": {
      "text/plain": [
       "Dataset({\n",
       "    features: ['input_values', 'label'],\n",
       "    num_rows: 717\n",
       "})"
      ]
     },
     "execution_count": 94,
     "metadata": {},
     "output_type": "execute_result"
    }
   ],
   "execution_count": 94,
   "source": [
    "train_ds = hf_dataset.select(train_index)\n",
    "train_ds"
   ],
   "id": "bf7835ab-6ddd-4025-bc99-dbd333535313"
  },
  {
   "metadata": {},
   "cell_type": "code",
   "outputs": [
    {
     "data": {
      "text/plain": [
       "Dataset({\n",
       "    features: ['input_values', 'label'],\n",
       "    num_rows: 249\n",
       "})"
      ]
     },
     "execution_count": 95,
     "metadata": {},
     "output_type": "execute_result"
    }
   ],
   "execution_count": 95,
   "source": [
    "test_ds = hf_dataset.select(test_index)\n",
    "test_ds"
   ],
   "id": "b7796b14-ff3d-435f-8029-62273e6c0863"
  },
  {
   "metadata": {
    "jp-MarkdownHeadingCollapsed": true
   },
   "cell_type": "markdown",
   "source": "#### 8.1.2 Model Parameters",
   "id": "aa97eac9-64dc-4ce7-ab45-faa6b32cec32"
  },
  {
   "metadata": {},
   "cell_type": "code",
   "outputs": [
    {
     "name": "stderr",
     "output_type": "stream",
     "text": [
      "Some weights of ASTForAudioClassification were not initialized from the model checkpoint at MIT/ast-finetuned-audioset-10-10-0.4593 and are newly initialized because the shapes did not match:\n",
      "- classifier.dense.bias: found shape torch.Size([527]) in the checkpoint and torch.Size([4]) in the model instantiated\n",
      "- classifier.dense.weight: found shape torch.Size([527, 768]) in the checkpoint and torch.Size([4, 768]) in the model instantiated\n",
      "You should probably TRAIN this model on a down-stream task to be able to use it for predictions and inference.\n"
     ]
    }
   ],
   "execution_count": 126,
   "source": [
    "model2train = AutoModelForAudioClassification.from_pretrained(\n",
    "    model_name,\n",
    "    num_labels = len(meta_labels),\n",
    "    label2id = meta_labels,\n",
    "    id2label = {v:k for k,v in meta_labels.items()},\n",
    "    ignore_mismatched_sizes = True\n",
    ")"
   ],
   "id": "1a188c48-a733-4c36-9914-995640ea2cca"
  },
  {
   "metadata": {},
   "cell_type": "code",
   "outputs": [],
   "execution_count": 127,
   "source": [
    "batch_size = 8\n",
    "args = transformers.TrainingArguments(\n",
    "    f'{model_name.split(\"/\")[-1]}-ft_stadium',\n",
    "\n",
    "    learning_rate=1e-5,\n",
    "    warmup_ratio=0.1,\n",
    "\n",
    "\n",
    "    eval_strategy = \"steps\",\n",
    "    eval_steps = 10,\n",
    "    logging_steps=10,\n",
    "\n",
    "    save_strategy = \"epoch\",\n",
    "    per_device_train_batch_size=batch_size,\n",
    "    per_device_eval_batch_size=batch_size,\n",
    "\n",
    "    gradient_accumulation_steps=4,\n",
    "    num_train_epochs=5,\n",
    "    load_best_model_at_end=False,\n",
    "    push_to_hub=False,\n",
    ")"
   ],
   "id": "fa981814-ee05-4262-9b38-7386306c38f8"
  },
  {
   "metadata": {},
   "cell_type": "code",
   "outputs": [],
   "execution_count": 128,
   "source": [
    "class CustomTrainer(Trainer):\n",
    "    def __init__(self, *args, class_weights=None, **kwargs):\n",
    "        super().__init__(*args, **kwargs)\n",
    "        self.class_weights = class_weights\n",
    "\n",
    "    def compute_loss(self, model, inputs, return_outputs=False, **kwargs):\n",
    "        labels = inputs.pop(\"labels\").to(torch.long)  # Labels in int64 konvertieren\n",
    "        outputs = model(**inputs)\n",
    "        logits = outputs.logits.to(torch.float32)  # Logits in float32 konvertieren\n",
    "\n",
    "        # Loss-function with class weights\n",
    "        loss_fn = nn.CrossEntropyLoss(weight=self.class_weights)\n",
    "        loss = loss_fn(logits, labels)\n",
    "\n",
    "        return (loss, outputs) if return_outputs else loss\n",
    "\n",
    "    def compute_metrics(pred):\n",
    "        labels = pred.label_ids\n",
    "        preds = pred.predictions.argmax(-1)\n",
    "\n",
    "        metrics = {\n",
    "            'accuracy': skm.accuracy_score(labels, preds),\n",
    "            'macro_f1': skm.f1_score(labels, preds, average='macro'),\n",
    "            'weighted_f1': skm.f1_score(labels, preds, average='weighted')\n",
    "        }\n",
    "\n",
    "        return metrics"
   ],
   "id": "816b8229-be69-4a0f-9c1d-428f9ea2b43e"
  },
  {
   "metadata": {},
   "cell_type": "code",
   "outputs": [
    {
     "name": "stdout",
     "output_type": "stream",
     "text": [
      "Class Weights: tensor([0.6527, 1.3343, 2.0125, 0.8186], device='cuda:0')\n"
     ]
    }
   ],
   "execution_count": 129,
   "source": [
    "class_weights = compute_class_weight(\n",
    "    class_weight=\"balanced\",\n",
    "    classes=np.unique(hf_dataset['label']),\n",
    "    y = hf_dataset['label']\n",
    ")\n",
    "class_weights = torch.tensor(class_weights, dtype=torch.float32).to(device)\n",
    "print(\"Class Weights:\", class_weights)"
   ],
   "id": "9d372c8a-89c8-4e67-b5f7-6b497e372354"
  },
  {
   "metadata": {},
   "cell_type": "code",
   "outputs": [],
   "execution_count": 130,
   "source": [
    "trainer = CustomTrainer(\n",
    "    model=model2train,\n",
    "    args=args,\n",
    "    train_dataset=train_ds,\n",
    "    eval_dataset=test_ds,\n",
    "    processing_class = feature_extractor, #tokenizer=feature_extractor,\n",
    "    class_weights=class_weights,\n",
    "    compute_metrics=CustomTrainer.compute_metrics\n",
    ")"
   ],
   "id": "19f805bd-788c-4579-bf7b-280ef52d21f0"
  },
  {
   "metadata": {
    "jp-MarkdownHeadingCollapsed": true
   },
   "cell_type": "markdown",
   "source": "#### 8.1.3 Training\n",
   "id": "3f472639-145c-4f89-bbeb-cc778fb0b195"
  },
  {
   "metadata": {},
   "cell_type": "code",
   "outputs": [
    {
     "data": {
      "text/html": [
       "\n",
       "    <div>\n",
       "      \n",
       "      <progress value='110' max='110' style='width:300px; height:20px; vertical-align: middle;'></progress>\n",
       "      [110/110 08:36, Epoch 4/5]\n",
       "    </div>\n",
       "    <table border=\"1\" class=\"dataframe\">\n",
       "  <thead>\n",
       " <tr style=\"text-align: left;\">\n",
       "      <th>Step</th>\n",
       "      <th>Training Loss</th>\n",
       "      <th>Validation Loss</th>\n",
       "      <th>Accuracy</th>\n",
       "      <th>Macro F1</th>\n",
       "      <th>Weighted F1</th>\n",
       "    </tr>\n",
       "  </thead>\n",
       "  <tbody>\n",
       "    <tr>\n",
       "      <td>10</td>\n",
       "      <td>1.508400</td>\n",
       "      <td>1.337137</td>\n",
       "      <td>0.269076</td>\n",
       "      <td>0.245375</td>\n",
       "      <td>0.256134</td>\n",
       "    </tr>\n",
       "    <tr>\n",
       "      <td>20</td>\n",
       "      <td>0.839100</td>\n",
       "      <td>0.766659</td>\n",
       "      <td>0.746988</td>\n",
       "      <td>0.704606</td>\n",
       "      <td>0.744728</td>\n",
       "    </tr>\n",
       "    <tr>\n",
       "      <td>30</td>\n",
       "      <td>0.426400</td>\n",
       "      <td>0.588628</td>\n",
       "      <td>0.799197</td>\n",
       "      <td>0.776822</td>\n",
       "      <td>0.813947</td>\n",
       "    </tr>\n",
       "    <tr>\n",
       "      <td>40</td>\n",
       "      <td>0.274600</td>\n",
       "      <td>0.454910</td>\n",
       "      <td>0.875502</td>\n",
       "      <td>0.844784</td>\n",
       "      <td>0.872495</td>\n",
       "    </tr>\n",
       "    <tr>\n",
       "      <td>50</td>\n",
       "      <td>0.222200</td>\n",
       "      <td>0.444083</td>\n",
       "      <td>0.883534</td>\n",
       "      <td>0.863008</td>\n",
       "      <td>0.885599</td>\n",
       "    </tr>\n",
       "    <tr>\n",
       "      <td>60</td>\n",
       "      <td>0.185600</td>\n",
       "      <td>0.429124</td>\n",
       "      <td>0.867470</td>\n",
       "      <td>0.858901</td>\n",
       "      <td>0.870909</td>\n",
       "    </tr>\n",
       "    <tr>\n",
       "      <td>70</td>\n",
       "      <td>0.117000</td>\n",
       "      <td>0.368306</td>\n",
       "      <td>0.903614</td>\n",
       "      <td>0.887343</td>\n",
       "      <td>0.903630</td>\n",
       "    </tr>\n",
       "    <tr>\n",
       "      <td>80</td>\n",
       "      <td>0.063500</td>\n",
       "      <td>0.379587</td>\n",
       "      <td>0.899598</td>\n",
       "      <td>0.883963</td>\n",
       "      <td>0.900027</td>\n",
       "    </tr>\n",
       "    <tr>\n",
       "      <td>90</td>\n",
       "      <td>0.077100</td>\n",
       "      <td>0.397581</td>\n",
       "      <td>0.871486</td>\n",
       "      <td>0.850249</td>\n",
       "      <td>0.872919</td>\n",
       "    </tr>\n",
       "    <tr>\n",
       "      <td>100</td>\n",
       "      <td>0.048500</td>\n",
       "      <td>0.373459</td>\n",
       "      <td>0.891566</td>\n",
       "      <td>0.877219</td>\n",
       "      <td>0.892498</td>\n",
       "    </tr>\n",
       "    <tr>\n",
       "      <td>110</td>\n",
       "      <td>0.040400</td>\n",
       "      <td>0.365731</td>\n",
       "      <td>0.895582</td>\n",
       "      <td>0.878964</td>\n",
       "      <td>0.896495</td>\n",
       "    </tr>\n",
       "  </tbody>\n",
       "</table><p>"
      ],
      "text/plain": [
       "<IPython.core.display.HTML object>"
      ]
     },
     "metadata": {},
     "output_type": "display_data"
    },
    {
     "data": {
      "text/plain": [
       "TrainOutput(global_step=110, training_loss=0.34570471996610813, metrics={'train_runtime': 520.3518, 'train_samples_per_second': 6.89, 'train_steps_per_second': 0.211, 'total_flos': 2.4076894356268646e+17, 'train_loss': 0.34570471996610813, 'epoch': 4.977777777777778})"
      ]
     },
     "execution_count": 131,
     "metadata": {},
     "output_type": "execute_result"
    }
   ],
   "execution_count": 131,
   "source": "trainer.train() # 5 Epochs",
   "id": "6a115150-fb74-4fe7-bc25-8160651c2242"
  },
  {
   "metadata": {},
   "cell_type": "code",
   "outputs": [
    {
     "data": {
      "text/plain": [
       "23"
      ]
     },
     "execution_count": 132,
     "metadata": {},
     "output_type": "execute_result"
    }
   ],
   "execution_count": 132,
   "source": [
    "training_logs  = trainer.state.log_history\n",
    "len(training_logs)"
   ],
   "id": "4c9bccae-e6a2-4e51-a22d-8bf6b450f26c"
  },
  {
   "metadata": {},
   "cell_type": "code",
   "outputs": [],
   "execution_count": 134,
   "source": [
    "loss_values = [log[\"loss\"] for log in training_logs if \"loss\" in log]\n",
    "eval_loss = [log[\"eval_loss\"] for log in training_logs if \"eval_loss\" in log]\n",
    "steps = [log[\"step\"] for log in training_logs if \"loss\" in log]"
   ],
   "id": "48a7d817-1fdb-4fbb-81d8-6e93d6c9b01b"
  },
  {
   "metadata": {},
   "cell_type": "code",
   "outputs": [
    {
     "data": {
      "image/png": "[encoded data removed]",
      "text/plain": [
       "<Figure size 1000x600 with 1 Axes>"
      ]
     },
     "metadata": {},
     "output_type": "display_data"
    }
   ],
   "execution_count": 135,
   "source": [
    "plt.figure(figsize=(10, 6))\n",
    "plt.plot(steps, loss_values, label=\"train_Loss\")\n",
    "plt.plot(steps, eval_loss, label=\"eval_Loss\")\n",
    "plt.xlabel(\"Steps\")\n",
    "plt.ylabel(\"Loss\")\n",
    "plt.title(\"Training Loss over Steps\")\n",
    "plt.legend()\n",
    "plt.grid()\n",
    "plt.show()"
   ],
   "id": "2ed87fba-dafc-4863-9fe5-293f159b3c07"
  },
  {
   "metadata": {},
   "cell_type": "markdown",
   "source": "The graph shows that the model is fully trained from around 70 steps onwards and then starts to “overfit” as the training loss is increasing and the validation loss doesn't change much.",
   "id": "f4cfdbbd-e66a-4b2d-954e-87ec1a94c1fd"
  },
  {
   "metadata": {
    "jp-MarkdownHeadingCollapsed": true
   },
   "cell_type": "markdown",
   "source": "#### 8.1.4 Testing",
   "id": "5fb3fdae-a5ec-4589-9ed4-632f8ee1c5bc"
  },
  {
   "metadata": {},
   "cell_type": "code",
   "outputs": [
    {
     "data": {
      "text/html": [],
      "text/plain": [
       "<IPython.core.display.HTML object>"
      ]
     },
     "metadata": {},
     "output_type": "display_data"
    }
   ],
   "execution_count": 136,
   "source": "pred = trainer.predict(test_ds)",
   "id": "f0dd4ba9-75f7-42bb-ad79-7df1a8793f82"
  },
  {
   "metadata": {},
   "cell_type": "code",
   "outputs": [
    {
     "data": {
      "image/png": "[encoded data removed]",
      "text/plain": [
       "<Figure size 800x600 with 1 Axes>"
      ]
     },
     "metadata": {},
     "output_type": "display_data"
    }
   ],
   "execution_count": 142,
   "source": [
    "id2label = {v:k for k,v in meta_labels.items()}\n",
    "cm = confusion_matrix(pred.label_ids, pred.predictions.argmax(1), normalize='true')\n",
    "\n",
    "plt.figure(figsize=(8, 6))\n",
    "sns.heatmap(cm, annot=True, cmap=\"Blues\", cbar=False, xticklabels=id2label.values(), yticklabels=id2label.values())\n",
    "plt.xlabel(\"Predicted Label\")\n",
    "plt.ylabel(\"True Label\")\n",
    "plt.title(\"Normalized Confusion Matrix\")\n",
    "plt.show()"
   ],
   "id": "b9735718-84a1-4766-bb4a-59131cacbd24"
  },
  {
   "metadata": {},
   "cell_type": "markdown",
   "source": [
    "In the normalized confusion matrix it can be seen that the labels are recognized better. The accuracy of around 90% speaks for this. Without the augmentation of \"disappointment\" the accuracy was around 86 % (Model of chapter 5). Looking further at the matrix, it can be seen that the largest discrepancies arise between “Disappointment” and “Boring”, where 15% of the data points from “Disappointment” are incorrectly recognized as “Boring”. \\\n",
    "Another model is being investigated, which triples the data points \"Disappointment\" in the augmentation to investigate whether this makes the model better at recognizing the differences between \"Disappointment\" and \"Boring\"."
   ],
   "id": "2c299694-dc17-4ff9-9767-c4eae0f6ef02"
  },
  {
   "cell_type": "markdown",
   "id": "3b5f018663714b5c",
   "metadata": {
    "jp-MarkdownHeadingCollapsed": true
   },
   "source": "### 8.2 Data Augmentation: \"Disappointment\" with n_augments = 2"
  },
  {
   "metadata": {},
   "cell_type": "markdown",
   "source": "Following the chapter 8.1, the data point will be increasing threefold by data augmentation. With this the difference in unbalanced data is further decreased.",
   "id": "c8e53d84fb99906e"
  },
  {
   "metadata": {},
   "cell_type": "code",
   "outputs": [],
   "execution_count": null,
   "source": [
    "model_name = \"MIT/ast-finetuned-audioset-10-10-0.4593\"\n",
    "device = 'cuda'"
   ],
   "id": "44b773d37edc9cb0"
  },
  {
   "metadata": {
    "jp-MarkdownHeadingCollapsed": true
   },
   "cell_type": "markdown",
   "source": "#### 8.2.1 Data Processing",
   "id": "9cc860c1-0acd-4a46-9ab7-b4f1a0a6828f"
  },
  {
   "metadata": {},
   "cell_type": "markdown",
   "source": "##### Merge \"Celebration\" & \"Excitement\"",
   "id": "7de9121f-e8be-4e59-895c-0e3f1ca9be25"
  },
  {
   "metadata": {},
   "cell_type": "code",
   "outputs": [
    {
     "data": {
      "text/plain": [
       "{'Chanting/Singing': 0,\n",
       " 'Excitement/Celebration': 1,\n",
       " 'Disappointment': 2,\n",
       " 'Boring': 3}"
      ]
     },
     "execution_count": 41,
     "metadata": {},
     "output_type": "execute_result"
    }
   ],
   "execution_count": 41,
   "source": [
    "meta_labels = {\n",
    "     'Chanting/Singing': 0,\n",
    "     'Excitement/Celebration': 1,\n",
    "     'Disappointment': 2,\n",
    "     'Boring': 3\n",
    "}"
   ],
   "id": "04a12ad7-c117-49da-a391-a1456cb22dba"
  },
  {
   "metadata": {
    "scrolled": true
   },
   "cell_type": "code",
   "outputs": [
    {
     "data": {
      "text/plain": [
       "array([3, 3, 3, 3, 3, 3, 3, 3, 3, 0, 0, 0, 1, 1, 1, 1, 1, 1, 1, 1, 0, 0,\n",
       "       0, 0, 2, 2, 0, 3, 3, 3, 3, 0, 0, 0, 0, 0, 0, 0, 0, 0, 2, 1, 1, 1,\n",
       "       1, 1, 1, 1, 1, 2, 2, 3, 3, 3, 3, 3, 3, 3, 0, 0, 0, 0, 0, 1, 1, 1,\n",
       "       2, 1, 1, 1, 1, 1, 1, 1, 1, 1, 1, 1, 1, 1, 1, 1, 1, 1, 1, 1, 1, 3,\n",
       "       3, 3, 3, 3, 3, 3, 2, 3, 3, 3, 3, 3, 1, 1, 1, 1, 3, 3, 3, 3, 3, 3,\n",
       "       3, 3, 3, 3, 3, 3, 3, 3, 3, 3, 3, 3, 2, 0, 0, 0, 0, 0, 0, 0, 3, 3,\n",
       "       3, 3, 3, 3, 3, 3, 3, 3, 3, 3, 3, 1, 1, 1, 1, 1, 1, 1, 1, 1, 1, 1,\n",
       "       2, 2, 0, 0, 0, 0, 0, 0, 0, 0, 0, 0, 0, 0, 0, 0, 0, 0, 0, 0, 0, 0,\n",
       "       0, 0, 0, 0, 0, 0, 0, 0, 0, 0, 0, 0, 0, 0, 0, 0, 0, 0, 0, 0, 0, 0,\n",
       "       0, 0, 0, 0, 0, 0, 0, 0, 0, 0, 0, 0, 0, 0, 0, 0, 0, 0, 0, 0, 0, 0,\n",
       "       0, 0, 0, 0, 0, 0, 0, 0, 0, 0, 0, 0, 0, 0, 0, 0, 0, 0, 0, 0, 0, 0,\n",
       "       0, 0, 0, 0, 0, 0, 0, 0, 0, 0, 0, 0, 0, 0, 0, 0, 0, 0, 0, 0, 0, 0,\n",
       "       0, 0, 0, 0, 0, 0, 0, 0, 0, 0, 0, 0, 0, 0, 0, 0, 1, 1, 0, 0, 0, 0,\n",
       "       0, 0, 0, 0, 0, 0, 0, 0, 0, 0, 0, 0, 0, 0, 0, 0, 0, 0, 0, 0, 0, 0,\n",
       "       0, 0, 0, 0, 0, 0, 0, 0, 0, 0, 0, 0, 0, 0, 0, 0, 0, 0, 0, 1, 1, 1,\n",
       "       1, 1, 1, 1, 1, 1, 1, 1, 0, 0, 0, 0, 0, 0, 0, 0, 0, 0, 0, 0, 0, 0,\n",
       "       0, 0, 1, 3, 3, 3, 3, 3, 3, 3, 3, 0, 0, 0, 0, 0, 0, 0, 0, 0, 0, 1,\n",
       "       1, 1, 1, 1, 3, 3, 3, 3, 3, 3, 0, 0, 0, 0, 0, 0, 0, 0, 0, 0, 0, 0,\n",
       "       0, 0, 0, 0, 0, 0, 0, 0, 0, 0, 0, 0, 0, 0, 0, 0, 0, 0, 0, 0, 0, 0,\n",
       "       0, 0, 0, 0, 0, 0, 0, 0, 0, 0, 0, 0, 0, 1, 1, 1, 1, 1, 1, 1, 3, 3,\n",
       "       3, 3, 3, 3, 3, 3, 3, 3, 3, 3, 3, 3, 3, 3, 3, 3, 3, 3, 3, 3, 0, 0,\n",
       "       0, 0, 0, 0, 0, 0, 1, 1, 1, 1, 1, 1, 0, 0, 0, 0, 0, 0, 0, 0, 1, 1,\n",
       "       1, 1, 1, 1, 1, 1, 1, 1, 1, 1, 1, 1, 1, 1, 1, 1, 1, 1, 1, 1, 1, 1,\n",
       "       1, 1, 1, 1, 1, 3, 3, 3, 3, 3, 3, 3, 3, 3, 3, 3, 3, 3, 3, 3, 3, 3,\n",
       "       3, 3, 3, 3, 3, 3, 3, 3, 3, 3, 3, 3, 3, 3, 1, 1, 1, 1, 1, 1, 1, 1,\n",
       "       1, 1, 1, 1, 1, 1, 1, 1, 1, 1, 1, 1, 1, 2, 2, 2, 2, 2, 2, 2, 2, 2,\n",
       "       2, 2, 2, 2, 2, 1, 1, 1, 1, 1, 1, 1, 1, 1, 1, 1, 2, 2, 2, 2, 2, 2,\n",
       "       2, 2, 2, 2, 2, 2, 2, 2, 2, 2, 2, 2, 2, 2, 2, 1, 1, 0, 0, 0, 0, 0,\n",
       "       0, 0, 0, 0, 0, 0, 0, 0, 0, 0, 0, 0, 0, 0, 0, 0, 0, 0, 0, 0, 0, 0,\n",
       "       0, 0, 0, 0, 0, 0, 0, 0, 3, 3, 3, 3, 3, 3, 3, 3, 3, 3, 3, 3, 3, 3,\n",
       "       3, 3, 3, 3, 3, 3, 3, 3, 3, 3, 3, 3, 3, 3, 3, 3, 3, 3, 3, 3, 3, 3,\n",
       "       3, 3, 3, 3, 3, 3, 3, 3, 3, 3, 3, 3, 3, 0, 0, 0, 0, 0, 0, 0, 0, 0,\n",
       "       0, 0, 0, 0, 0, 0, 0, 0, 0, 0, 0, 0, 0, 0, 0, 0, 0, 0, 0, 0, 0, 0,\n",
       "       0, 0, 0, 0, 0, 0, 0, 0, 0, 0, 0, 0, 0, 0, 0, 0, 0, 2, 2, 2, 2, 2,\n",
       "       2, 2, 2, 2, 2, 2, 2, 2, 2, 2, 1, 1, 1, 1, 1, 1, 1, 3, 3, 3, 3, 3,\n",
       "       3, 3, 3, 3, 1, 1, 1, 1, 1, 1, 3, 3, 3, 1, 1, 1, 3, 3, 3, 3, 3, 1,\n",
       "       3, 3, 3, 3, 3, 3, 3, 3, 3, 3, 3, 3, 1, 1, 1, 3, 3, 3, 3, 3, 3, 3,\n",
       "       3, 3, 3, 3, 3, 3, 3, 3, 3, 3, 3, 3, 3, 3, 3, 3, 3, 3, 1, 1, 1, 3,\n",
       "       3, 3, 3, 3, 3, 3, 3, 3, 3, 3, 3, 3, 3, 3, 3, 3, 3, 3, 3, 3, 3, 3,\n",
       "       3, 3, 3, 3, 3, 3, 3, 3, 3, 1, 1, 3, 3, 3, 3, 3, 3, 3, 3, 3, 3, 3,\n",
       "       3, 3, 3, 3, 3, 3, 3, 3, 3, 3, 3, 3, 3, 3, 3, 3, 3, 3, 3, 1, 1, 1,\n",
       "       1, 1, 1, 1])"
      ]
     },
     "execution_count": 40,
     "metadata": {},
     "output_type": "execute_result"
    }
   ],
   "execution_count": 40,
   "source": [
    "nparray2 = np.where(arrays['y']==3, 1, arrays['y'])\n",
    "nparray2 = np.where(nparray2==4, 3, nparray2)\n",
    "nparray2"
   ],
   "id": "55b840e3-6dab-4e72-bef2-b8c1f6f200d4"
  },
  {
   "metadata": {
    "scrolled": true
   },
   "cell_type": "code",
   "outputs": [
    {
     "data": {
      "text/plain": [
       "array([4, 4, 4, 4, 4, 4, 4, 4, 4, 0, 0, 0, 3, 3, 3, 3, 3, 3, 3, 3, 0, 0,\n",
       "       0, 0, 2, 2, 0, 4, 4, 4, 4, 0, 0, 0, 0, 0, 0, 0, 0, 0, 2, 1, 1, 1,\n",
       "       1, 3, 3, 3, 3, 2, 2, 4, 4, 4, 4, 4, 4, 4, 0, 0, 0, 0, 0, 1, 1, 1,\n",
       "       2, 1, 1, 1, 1, 1, 1, 3, 3, 3, 3, 3, 3, 3, 3, 3, 3, 3, 1, 1, 1, 4,\n",
       "       4, 4, 4, 4, 4, 4, 2, 4, 4, 4, 4, 4, 1, 1, 1, 1, 4, 4, 4, 4, 4, 4,\n",
       "       4, 4, 4, 4, 4, 4, 4, 4, 4, 4, 4, 4, 2, 0, 0, 0, 0, 0, 0, 0, 4, 4,\n",
       "       4, 4, 4, 4, 4, 4, 4, 4, 4, 4, 4, 1, 1, 1, 1, 3, 3, 3, 1, 3, 3, 3,\n",
       "       2, 2, 0, 0, 0, 0, 0, 0, 0, 0, 0, 0, 0, 0, 0, 0, 0, 0, 0, 0, 0, 0,\n",
       "       0, 0, 0, 0, 0, 0, 0, 0, 0, 0, 0, 0, 0, 0, 0, 0, 0, 0, 0, 0, 0, 0,\n",
       "       0, 0, 0, 0, 0, 0, 0, 0, 0, 0, 0, 0, 0, 0, 0, 0, 0, 0, 0, 0, 0, 0,\n",
       "       0, 0, 0, 0, 0, 0, 0, 0, 0, 0, 0, 0, 0, 0, 0, 0, 0, 0, 0, 0, 0, 0,\n",
       "       0, 0, 0, 0, 0, 0, 0, 0, 0, 0, 0, 0, 0, 0, 0, 0, 0, 0, 0, 0, 0, 0,\n",
       "       0, 0, 0, 0, 0, 0, 0, 0, 0, 0, 0, 0, 0, 0, 0, 0, 1, 1, 0, 0, 0, 0,\n",
       "       0, 0, 0, 0, 0, 0, 0, 0, 0, 0, 0, 0, 0, 0, 0, 0, 0, 0, 0, 0, 0, 0,\n",
       "       0, 0, 0, 0, 0, 0, 0, 0, 0, 0, 0, 0, 0, 0, 0, 0, 0, 0, 0, 3, 3, 3,\n",
       "       3, 3, 3, 3, 3, 3, 3, 3, 0, 0, 0, 0, 0, 0, 0, 0, 0, 0, 0, 0, 0, 0,\n",
       "       0, 0, 1, 4, 4, 4, 4, 4, 4, 4, 4, 0, 0, 0, 0, 0, 0, 0, 0, 0, 0, 1,\n",
       "       1, 3, 3, 3, 4, 4, 4, 4, 4, 4, 0, 0, 0, 0, 0, 0, 0, 0, 0, 0, 0, 0,\n",
       "       0, 0, 0, 0, 0, 0, 0, 0, 0, 0, 0, 0, 0, 0, 0, 0, 0, 0, 0, 0, 0, 0,\n",
       "       0, 0, 0, 0, 0, 0, 0, 0, 0, 0, 0, 0, 0, 3, 3, 3, 3, 1, 1, 1, 4, 4,\n",
       "       4, 4, 4, 4, 4, 4, 4, 4, 4, 4, 4, 4, 4, 4, 4, 4, 4, 4, 4, 4, 0, 0,\n",
       "       0, 0, 0, 0, 0, 0, 1, 1, 1, 1, 1, 1, 0, 0, 0, 0, 0, 0, 0, 0, 1, 1,\n",
       "       1, 1, 1, 1, 1, 1, 1, 1, 1, 1, 1, 1, 1, 1, 3, 3, 3, 3, 3, 3, 3, 3,\n",
       "       3, 3, 3, 3, 3, 4, 4, 4, 4, 4, 4, 4, 4, 4, 4, 4, 4, 4, 4, 4, 4, 4,\n",
       "       4, 4, 4, 4, 4, 4, 4, 4, 4, 4, 4, 4, 4, 4, 3, 3, 3, 3, 3, 3, 3, 3,\n",
       "       3, 3, 3, 3, 3, 3, 3, 3, 3, 3, 3, 3, 3, 2, 2, 2, 2, 2, 2, 2, 2, 2,\n",
       "       2, 2, 2, 2, 2, 1, 1, 1, 1, 1, 1, 1, 3, 3, 3, 3, 2, 2, 2, 2, 2, 2,\n",
       "       2, 2, 2, 2, 2, 2, 2, 2, 2, 2, 2, 2, 2, 2, 2, 1, 1, 0, 0, 0, 0, 0,\n",
       "       0, 0, 0, 0, 0, 0, 0, 0, 0, 0, 0, 0, 0, 0, 0, 0, 0, 0, 0, 0, 0, 0,\n",
       "       0, 0, 0, 0, 0, 0, 0, 0, 4, 4, 4, 4, 4, 4, 4, 4, 4, 4, 4, 4, 4, 4,\n",
       "       4, 4, 4, 4, 4, 4, 4, 4, 4, 4, 4, 4, 4, 4, 4, 4, 4, 4, 4, 4, 4, 4,\n",
       "       4, 4, 4, 4, 4, 4, 4, 4, 4, 4, 4, 4, 4, 0, 0, 0, 0, 0, 0, 0, 0, 0,\n",
       "       0, 0, 0, 0, 0, 0, 0, 0, 0, 0, 0, 0, 0, 0, 0, 0, 0, 0, 0, 0, 0, 0,\n",
       "       0, 0, 0, 0, 0, 0, 0, 0, 0, 0, 0, 0, 0, 0, 0, 0, 0, 2, 2, 2, 2, 2,\n",
       "       2, 2, 2, 2, 2, 2, 2, 2, 2, 2, 1, 1, 1, 1, 1, 1, 1, 4, 4, 4, 4, 4,\n",
       "       4, 4, 4, 4, 1, 1, 1, 1, 1, 1, 4, 4, 4, 1, 1, 1, 4, 4, 4, 4, 4, 1,\n",
       "       4, 4, 4, 4, 4, 4, 4, 4, 4, 4, 4, 4, 1, 1, 1, 4, 4, 4, 4, 4, 4, 4,\n",
       "       4, 4, 4, 4, 4, 4, 4, 4, 4, 4, 4, 4, 4, 4, 4, 4, 4, 4, 1, 1, 1, 4,\n",
       "       4, 4, 4, 4, 4, 4, 4, 4, 4, 4, 4, 4, 4, 4, 4, 4, 4, 4, 4, 4, 4, 4,\n",
       "       4, 4, 4, 4, 4, 4, 4, 4, 4, 1, 1, 4, 4, 4, 4, 4, 4, 4, 4, 4, 4, 4,\n",
       "       4, 4, 4, 4, 4, 4, 4, 4, 4, 4, 4, 4, 4, 4, 4, 4, 4, 4, 4, 1, 1, 1,\n",
       "       1, 1, 1, 1])"
      ]
     },
     "execution_count": 39,
     "metadata": {},
     "output_type": "execute_result"
    }
   ],
   "execution_count": 39,
   "source": "arrays['y']",
   "id": "0d4ccc64-d89d-43d8-bd17-45ad396de5e6"
  },
  {
   "metadata": {},
   "cell_type": "code",
   "outputs": [
    {
     "name": "stderr",
     "output_type": "stream",
     "text": [
      "/tmp/ipykernel_61/1762133594.py:3: UserWarning: set_ticklabels() should only be used with a fixed number of ticks, i.e. after set_ticks() or using a FixedLocator.\n",
      "  ax.set_xticklabels(meta_labels.keys())\n"
     ]
    },
    {
     "data": {
      "image/png": "[encoded data removed]",
      "text/plain": [
       "<Figure size 640x480 with 1 Axes>"
      ]
     },
     "metadata": {},
     "output_type": "display_data"
    }
   ],
   "execution_count": 42,
   "source": [
    "ax = sns.barplot(Counter(nparray2))\n",
    "ax.set(xlabel='Label', ylabel='Counts')\n",
    "ax.set_xticklabels(meta_labels.keys())\n",
    "ax.tick_params(axis='x', labelrotation=90)\n",
    "ax.set_axisbelow(True)\n",
    "plt.grid(axis = 'y',alpha=0.5)\n",
    "plt.title('Number of Labels not augmented')\n",
    "plt.show()"
   ],
   "id": "27a4d46e-1c14-4816-93f0-10d8a957e831"
  },
  {
   "metadata": {},
   "cell_type": "markdown",
   "source": "##### Augmentation",
   "id": "d497a814-0a6d-4b8d-b520-146ba8a2ba97"
  },
  {
   "metadata": {},
   "cell_type": "code",
   "outputs": [],
   "execution_count": 43,
   "source": [
    "def add_noise(audio, noise_factor=0.005):\n",
    "    noise = np.random.randn(len(audio)) * noise_factor\n",
    "    augmented_audio = audio + noise\n",
    "    return np.clip(augmented_audio, -1.0, 1.0)  # Clips the audio between -1 and 1\n",
    "\n",
    "def pitch_shift(audio, sr, shift=2):\n",
    "    return librosa.effects.pitch_shift(audio, sr=sr, n_steps=shift)\n",
    "\n",
    "def time_stretch(audio, rate=1.1):\n",
    "    return librosa.effects.time_stretch(audio, rate=rate)\n",
    "\n",
    "# Beispiel eines Augmentierungsprozesses\n",
    "def augment_audio(audio, sr):\n",
    "    augmentation_type = random.choice(['noise', 'pitch', 'stretch'])\n",
    "\n",
    "    if augmentation_type == 'noise':\n",
    "        return add_noise(audio)\n",
    "    elif augmentation_type == 'pitch':\n",
    "        return pitch_shift(audio, sr)\n",
    "    elif augmentation_type == 'stretch':\n",
    "        return time_stretch(audio)\n",
    "\n",
    "    return audio"
   ],
   "id": "bb13022b-e183-4095-8896-5dc46eb93e4a"
  },
  {
   "metadata": {},
   "cell_type": "code",
   "outputs": [],
   "execution_count": 44,
   "source": [
    "def process_and_augment_dataset(arrays_X, arrays_y, arrays_groups, meta, feature_extractor, labels_to_augment, n_augments=5):\n",
    "    augmented_audio_data = []\n",
    "    augmented_labels = []\n",
    "    augmented_groups = []\n",
    "\n",
    "    sr = meta['sample_rate']\n",
    "\n",
    "    for i, audio in enumerate(arrays_X):\n",
    "        label = arrays_y[i]\n",
    "        group = arrays_groups[i]\n",
    "\n",
    "        # Originale Daten hinzufügen\n",
    "        preprocessed_audio = feature_extractor(\n",
    "            audio,\n",
    "            sampling_rate=sr,\n",
    "            return_tensors=\"pt\"\n",
    "        )\n",
    "        augmented_audio_data.append(preprocessed_audio['input_values'])\n",
    "        augmented_labels.append(label)  # Originales Label\n",
    "        augmented_groups.append(group)\n",
    "\n",
    "        # Augmentierung nur für Labels 1 und 2\n",
    "        if label in labels_to_augment:\n",
    "            for _ in range(n_augments):\n",
    "                # Augmentierung auf rohen Audiodaten anwenden\n",
    "                augmented_audio = augment_audio(audio, sr)\n",
    "\n",
    "                # Feature-Extraktion nach der Augmentierung\n",
    "                preprocessed_audio = feature_extractor(\n",
    "                    augmented_audio,\n",
    "                    sampling_rate=sr,\n",
    "                    return_tensors=\"pt\"\n",
    "                )\n",
    "\n",
    "                augmented_audio_data.append(preprocessed_audio['input_values'])\n",
    "                augmented_labels.append(label)  # Augmentiertes Label\n",
    "                augmented_groups.append(group)  # Ursprung der Daten\n",
    "\n",
    "    # Alle augmentierten Eingabewerte kombinieren\n",
    "    input_values = torch.cat(augmented_audio_data, dim=0)\n",
    "\n",
    "    hf_dataset = Dataset.from_dict({\n",
    "        \"input_values\": input_values.numpy(),  # In NumPy-Array umwandeln\n",
    "        \"label\": np.array(augmented_labels)  # Labels als NumPy-Array\n",
    "    })\n",
    "\n",
    "    augmented_groups = np.array(augmented_groups) # groups als NumPy-Array\n",
    "\n",
    "    return hf_dataset, augmented_groups"
   ],
   "id": "2fe20505-79af-42b6-8875-01c95da4b36c"
  },
  {
   "metadata": {},
   "cell_type": "code",
   "outputs": [],
   "execution_count": 45,
   "source": [
    "feature_extractor = AutoFeatureExtractor.from_pretrained(model_name)\n",
    "\n",
    "hf_dataset, augmented_groups = process_and_augment_dataset(\n",
    "    arrays_X= arrays['X'],\n",
    "    arrays_y= nparray2,\n",
    "    arrays_groups= arrays['groups'],\n",
    "    meta= meta,\n",
    "    feature_extractor= feature_extractor,\n",
    "    labels_to_augment=[2],\n",
    "    n_augments=2 # bei <1 entstehen eventuell Duplikate\n",
    ")"
   ],
   "id": "675e3cf0-e089-47e4-b569-a5da70cb8599"
  },
  {
   "metadata": {},
   "cell_type": "code",
   "outputs": [
    {
     "data": {
      "text/plain": [
       "Dataset({\n",
       "    features: ['input_values', 'label'],\n",
       "    num_rows: 1026\n",
       "})"
      ]
     },
     "execution_count": 46,
     "metadata": {},
     "output_type": "execute_result"
    }
   ],
   "execution_count": 46,
   "source": "hf_dataset",
   "id": "b2bc9e59-b668-48a9-8b81-48370bc094a2"
  },
  {
   "metadata": {},
   "cell_type": "code",
   "outputs": [
    {
     "data": {
      "text/plain": [
       "array([ 0,  0,  0, ..., 15, 15, 15])"
      ]
     },
     "execution_count": 47,
     "metadata": {},
     "output_type": "execute_result"
    }
   ],
   "execution_count": 47,
   "source": "augmented_groups",
   "id": "eac1438c-55c6-4eaa-84ed-fbc0b6c44d67"
  },
  {
   "metadata": {
    "scrolled": true
   },
   "cell_type": "code",
   "outputs": [
    {
     "data": {
      "text/plain": [
       "Counter({0: 370, 3: 295, 1: 181, 2: 180})"
      ]
     },
     "execution_count": 48,
     "metadata": {},
     "output_type": "execute_result"
    }
   ],
   "execution_count": 48,
   "source": "Counter(hf_dataset['label'])",
   "id": "d0c610b3-6c9d-406f-a89e-d8d3e3ea752a"
  },
  {
   "metadata": {},
   "cell_type": "code",
   "outputs": [
    {
     "name": "stderr",
     "output_type": "stream",
     "text": [
      "/tmp/ipykernel_61/1318691458.py:3: UserWarning: set_ticklabels() should only be used with a fixed number of ticks, i.e. after set_ticks() or using a FixedLocator.\n",
      "  ax.set_xticklabels(meta_labels.keys())\n"
     ]
    },
    {
     "data": {
      "image/png": "[encoded data removed]",
      "text/plain": [
       "<Figure size 640x480 with 1 Axes>"
      ]
     },
     "metadata": {},
     "output_type": "display_data"
    }
   ],
   "execution_count": 49,
   "source": [
    "ax = sns.barplot(Counter(hf_dataset['label']))\n",
    "ax.set(xlabel='Label', ylabel='Counts')\n",
    "ax.set_xticklabels(meta_labels.keys())\n",
    "ax.tick_params(axis='x', labelrotation=90)\n",
    "ax.set_axisbelow(True)\n",
    "plt.grid(axis = 'y',alpha=0.5)\n",
    "plt.title('Number of Labels augmented')\n",
    "plt.show()"
   ],
   "id": "0cc49262-7bd6-437f-b808-0f65867f58b1"
  },
  {
   "metadata": {},
   "cell_type": "markdown",
   "source": "Both Barplots show, that the data for \"Disappointment\" is tripled.",
   "id": "3fdfad5e-95fc-496e-8a65-f49d568c7729"
  },
  {
   "metadata": {},
   "cell_type": "markdown",
   "source": "##### Train- and Test-Split",
   "id": "8400237f-c034-4d8e-91ce-a24afe12476d"
  },
  {
   "metadata": {},
   "cell_type": "code",
   "outputs": [
    {
     "name": "stdout",
     "output_type": "stream",
     "text": [
      "Fold 0:\n",
      "  Train: source={np.int64(2), np.int64(3), np.int64(4), np.int64(6), np.int64(7), np.int64(8), np.int64(9), np.int64(10), np.int64(11), np.int64(12), np.int64(13), np.int64(15)}\n",
      "  Test:  source={np.int64(0), np.int64(1), np.int64(5), np.int64(14)}\n",
      "Fold 1:\n",
      "  Train: source={np.int64(0), np.int64(1), np.int64(3), np.int64(4), np.int64(5), np.int64(7), np.int64(9), np.int64(10), np.int64(11), np.int64(12), np.int64(14), np.int64(15)}\n",
      "  Test:  source={np.int64(8), np.int64(2), np.int64(13), np.int64(6)}\n",
      "Fold 2:\n",
      "  Train: source={np.int64(0), np.int64(2), np.int64(3), np.int64(4), np.int64(6), np.int64(7), np.int64(9), np.int64(10), np.int64(11), np.int64(12), np.int64(14), np.int64(15)}\n",
      "  Test:  source={np.int64(8), np.int64(1), np.int64(13), np.int64(5)}\n",
      "Fold 3:\n",
      "  Train: source={np.int64(1), np.int64(3), np.int64(4), np.int64(6), np.int64(7), np.int64(8), np.int64(9), np.int64(10), np.int64(11), np.int64(12), np.int64(13), np.int64(15)}\n",
      "  Test:  source={np.int64(0), np.int64(2), np.int64(5), np.int64(14)}\n",
      "Fold 4:\n",
      "  Train: source={np.int64(0), np.int64(1), np.int64(2), np.int64(3), np.int64(5), np.int64(6), np.int64(7), np.int64(8), np.int64(9), np.int64(11), np.int64(12), np.int64(13)}\n",
      "  Test:  source={np.int64(10), np.int64(4), np.int64(14), np.int64(15)}\n",
      "Fold 5:\n",
      "  Train: source={np.int64(0), np.int64(1), np.int64(3), np.int64(5), np.int64(6), np.int64(7), np.int64(9), np.int64(10), np.int64(11), np.int64(13), np.int64(14), np.int64(15)}\n",
      "  Test:  source={np.int64(8), np.int64(2), np.int64(4), np.int64(12)}\n",
      "Fold 6:\n",
      "  Train: source={np.int64(0), np.int64(1), np.int64(4), np.int64(5), np.int64(6), np.int64(7), np.int64(8), np.int64(9), np.int64(10), np.int64(11), np.int64(12), np.int64(15)}\n",
      "  Test:  source={np.int64(2), np.int64(3), np.int64(13), np.int64(14)}\n",
      "Fold 7:\n",
      "  Train: source={np.int64(0), np.int64(1), np.int64(2), np.int64(3), np.int64(4), np.int64(6), np.int64(7), np.int64(8), np.int64(10), np.int64(12), np.int64(14), np.int64(15)}\n",
      "  Test:  source={np.int64(9), np.int64(13), np.int64(11), np.int64(5)}\n",
      "Fold 8:\n",
      "  Train: source={np.int64(0), np.int64(2), np.int64(4), np.int64(5), np.int64(6), np.int64(7), np.int64(9), np.int64(10), np.int64(12), np.int64(13), np.int64(14), np.int64(15)}\n",
      "  Test:  source={np.int64(8), np.int64(1), np.int64(3), np.int64(11)}\n",
      "Fold 9:\n",
      "  Train: source={np.int64(0), np.int64(2), np.int64(3), np.int64(4), np.int64(6), np.int64(7), np.int64(8), np.int64(9), np.int64(10), np.int64(11), np.int64(14), np.int64(15)}\n",
      "  Test:  source={np.int64(1), np.int64(13), np.int64(12), np.int64(5)}\n"
     ]
    }
   ],
   "execution_count": 55,
   "source": [
    "gss = GroupShuffleSplit(n_splits=10, train_size=.8, random_state=42)\n",
    "gss.get_n_splits()\n",
    "\n",
    "for i, (train_index, test_index) in enumerate(gss.split(X=hf_dataset[\"input_values\"], y=hf_dataset[\"label\"], groups=augmented_groups)):\n",
    "    print(f\"Fold {i}:\")\n",
    "    print(f\"  Train: source={set(augmented_groups[train_index])}\")\n",
    "    print(f\"  Test:  source={set(augmented_groups[test_index])}\")"
   ],
   "id": "7ab28e8f-77e6-41db-a7b2-2b5be4e0d1d4"
  },
  {
   "metadata": {},
   "cell_type": "code",
   "outputs": [],
   "execution_count": 56,
   "source": [
    "# select one train test split\n",
    "(train_index, test_index) = next(gss.split(X=hf_dataset[\"input_values\"], y=hf_dataset[\"label\"], groups=augmented_groups))"
   ],
   "id": "45451fb7-1b27-4b95-b5b2-71bbc39c02d3"
  },
  {
   "metadata": {},
   "cell_type": "code",
   "outputs": [
    {
     "data": {
      "text/plain": [
       "Dataset({\n",
       "    features: ['input_values', 'label'],\n",
       "    num_rows: 757\n",
       "})"
      ]
     },
     "execution_count": 57,
     "metadata": {},
     "output_type": "execute_result"
    }
   ],
   "execution_count": 57,
   "source": [
    "train_ds = hf_dataset.select(train_index)\n",
    "train_ds"
   ],
   "id": "7442fd6d-cc42-46f5-8ce4-b9edc3d77865"
  },
  {
   "metadata": {},
   "cell_type": "code",
   "outputs": [
    {
     "data": {
      "text/plain": [
       "Dataset({\n",
       "    features: ['input_values', 'label'],\n",
       "    num_rows: 269\n",
       "})"
      ]
     },
     "execution_count": 58,
     "metadata": {},
     "output_type": "execute_result"
    }
   ],
   "execution_count": 58,
   "source": [
    "test_ds = hf_dataset.select(test_index)\n",
    "test_ds"
   ],
   "id": "735f3698-9855-4caf-b073-d7c3b4786409"
  },
  {
   "metadata": {
    "jp-MarkdownHeadingCollapsed": true
   },
   "cell_type": "markdown",
   "source": "#### 8.2.2 Model Parameters",
   "id": "86d5dff1-5d96-4782-9780-2623c33d38ce"
  },
  {
   "metadata": {},
   "cell_type": "code",
   "outputs": [
    {
     "name": "stderr",
     "output_type": "stream",
     "text": [
      "Some weights of ASTForAudioClassification were not initialized from the model checkpoint at MIT/ast-finetuned-audioset-10-10-0.4593 and are newly initialized because the shapes did not match:\n",
      "- classifier.dense.bias: found shape torch.Size([527]) in the checkpoint and torch.Size([4]) in the model instantiated\n",
      "- classifier.dense.weight: found shape torch.Size([527, 768]) in the checkpoint and torch.Size([4, 768]) in the model instantiated\n",
      "You should probably TRAIN this model on a down-stream task to be able to use it for predictions and inference.\n"
     ]
    }
   ],
   "execution_count": 59,
   "source": [
    "model2train = AutoModelForAudioClassification.from_pretrained(\n",
    "    model_name,\n",
    "    num_labels = len(meta_labels),\n",
    "    label2id = meta_labels,\n",
    "    id2label = {v:k for k,v in meta_labels.items()},\n",
    "    ignore_mismatched_sizes = True\n",
    ")"
   ],
   "id": "dc5e5cb9-3880-4428-95d1-fb67d7db7a92"
  },
  {
   "metadata": {},
   "cell_type": "code",
   "outputs": [],
   "execution_count": 60,
   "source": [
    "batch_size = 8\n",
    "args = transformers.TrainingArguments(\n",
    "    f'{model_name.split(\"/\")[-1]}-ft_stadium',\n",
    "\n",
    "    learning_rate=1e-5,\n",
    "    warmup_ratio=0.1,\n",
    "\n",
    "\n",
    "    eval_strategy = \"steps\",\n",
    "    eval_steps = 10,\n",
    "    logging_steps=10,\n",
    "\n",
    "    save_strategy = \"epoch\",\n",
    "    per_device_train_batch_size=batch_size,\n",
    "    per_device_eval_batch_size=batch_size,\n",
    "\n",
    "    gradient_accumulation_steps=4,\n",
    "    num_train_epochs=5,\n",
    "    load_best_model_at_end=False,\n",
    "    push_to_hub=False,\n",
    ")"
   ],
   "id": "d6cadd5e-3cb7-40b9-baa0-099359c94c7d"
  },
  {
   "metadata": {},
   "cell_type": "code",
   "outputs": [],
   "execution_count": 61,
   "source": [
    "class CustomTrainer(Trainer):\n",
    "    def __init__(self, *args, class_weights=None, **kwargs):\n",
    "        super().__init__(*args, **kwargs)\n",
    "        self.class_weights = class_weights\n",
    "\n",
    "    def compute_loss(self, model, inputs, return_outputs=False, **kwargs):\n",
    "        labels = inputs.pop(\"labels\").to(torch.long)  # Labels in int64 konvertieren\n",
    "        outputs = model(**inputs)\n",
    "        logits = outputs.logits.to(torch.float32)  # Logits in float32 konvertieren\n",
    "\n",
    "        # Loss-function with class weights\n",
    "        loss_fn = nn.CrossEntropyLoss(weight=self.class_weights)\n",
    "        loss = loss_fn(logits, labels)\n",
    "\n",
    "        return (loss, outputs) if return_outputs else loss\n",
    "\n",
    "    def compute_metrics(pred):\n",
    "        labels = pred.label_ids\n",
    "        preds = pred.predictions.argmax(-1)\n",
    "\n",
    "        metrics = {\n",
    "            'accuracy': skm.accuracy_score(labels, preds),\n",
    "            'macro_f1': skm.f1_score(labels, preds, average='macro'),\n",
    "            'weighted_f1': skm.f1_score(labels, preds, average='weighted')\n",
    "        }\n",
    "\n",
    "        return metrics"
   ],
   "id": "cb24d533-cbaa-4fdc-a7a7-993185353fc9"
  },
  {
   "metadata": {},
   "cell_type": "code",
   "outputs": [
    {
     "name": "stdout",
     "output_type": "stream",
     "text": [
      "Class Weights: tensor([0.6932, 1.4171, 1.4250, 0.8695], device='cuda:0')\n"
     ]
    }
   ],
   "execution_count": 62,
   "source": [
    "class_weights = compute_class_weight(\n",
    "    class_weight=\"balanced\",\n",
    "    classes=np.unique(hf_dataset['label']),\n",
    "    y = hf_dataset['label']\n",
    ")\n",
    "class_weights = torch.tensor(class_weights, dtype=torch.float32).to(device)\n",
    "print(\"Class Weights:\", class_weights)"
   ],
   "id": "b9baa127-84e1-4604-a4e7-fa1ef39171af"
  },
  {
   "metadata": {},
   "cell_type": "code",
   "outputs": [],
   "execution_count": 63,
   "source": [
    "trainer = CustomTrainer(\n",
    "    model=model2train,\n",
    "    args=args,\n",
    "    train_dataset=train_ds,\n",
    "    eval_dataset=test_ds,\n",
    "    processing_class = feature_extractor, #tokenizer=feature_extractor,\n",
    "    class_weights=class_weights,\n",
    "    compute_metrics=CustomTrainer.compute_metrics\n",
    ")"
   ],
   "id": "24c71328-53ac-4583-8bde-ca9c9d0310e2"
  },
  {
   "metadata": {
    "jp-MarkdownHeadingCollapsed": true
   },
   "cell_type": "markdown",
   "source": "#### 8.2.3 Training\n",
   "id": "4abea90c-4117-444e-81c1-fcf0b3110bfd"
  },
  {
   "metadata": {},
   "cell_type": "code",
   "outputs": [
    {
     "data": {
      "text/html": [
       "\n",
       "    <div>\n",
       "      \n",
       "      <progress value='115' max='115' style='width:300px; height:20px; vertical-align: middle;'></progress>\n",
       "      [115/115 08:55, Epoch 4/5]\n",
       "    </div>\n",
       "    <table border=\"1\" class=\"dataframe\">\n",
       "  <thead>\n",
       " <tr style=\"text-align: left;\">\n",
       "      <th>Step</th>\n",
       "      <th>Training Loss</th>\n",
       "      <th>Validation Loss</th>\n",
       "      <th>Accuracy</th>\n",
       "      <th>Macro F1</th>\n",
       "      <th>Weighted F1</th>\n",
       "    </tr>\n",
       "  </thead>\n",
       "  <tbody>\n",
       "    <tr>\n",
       "      <td>10</td>\n",
       "      <td>1.294100</td>\n",
       "      <td>1.142054</td>\n",
       "      <td>0.553903</td>\n",
       "      <td>0.526222</td>\n",
       "      <td>0.558564</td>\n",
       "    </tr>\n",
       "    <tr>\n",
       "      <td>20</td>\n",
       "      <td>0.708500</td>\n",
       "      <td>0.662477</td>\n",
       "      <td>0.810409</td>\n",
       "      <td>0.797944</td>\n",
       "      <td>0.812200</td>\n",
       "    </tr>\n",
       "    <tr>\n",
       "      <td>30</td>\n",
       "      <td>0.384800</td>\n",
       "      <td>0.493248</td>\n",
       "      <td>0.840149</td>\n",
       "      <td>0.829165</td>\n",
       "      <td>0.841076</td>\n",
       "    </tr>\n",
       "    <tr>\n",
       "      <td>40</td>\n",
       "      <td>0.220500</td>\n",
       "      <td>0.429587</td>\n",
       "      <td>0.877323</td>\n",
       "      <td>0.866684</td>\n",
       "      <td>0.878539</td>\n",
       "    </tr>\n",
       "    <tr>\n",
       "      <td>50</td>\n",
       "      <td>0.207500</td>\n",
       "      <td>0.402436</td>\n",
       "      <td>0.873606</td>\n",
       "      <td>0.867714</td>\n",
       "      <td>0.873432</td>\n",
       "    </tr>\n",
       "    <tr>\n",
       "      <td>60</td>\n",
       "      <td>0.106700</td>\n",
       "      <td>0.403008</td>\n",
       "      <td>0.873606</td>\n",
       "      <td>0.876108</td>\n",
       "      <td>0.876171</td>\n",
       "    </tr>\n",
       "    <tr>\n",
       "      <td>70</td>\n",
       "      <td>0.092800</td>\n",
       "      <td>0.394921</td>\n",
       "      <td>0.851301</td>\n",
       "      <td>0.840588</td>\n",
       "      <td>0.852034</td>\n",
       "    </tr>\n",
       "    <tr>\n",
       "      <td>80</td>\n",
       "      <td>0.044900</td>\n",
       "      <td>0.369280</td>\n",
       "      <td>0.877323</td>\n",
       "      <td>0.878195</td>\n",
       "      <td>0.878189</td>\n",
       "    </tr>\n",
       "    <tr>\n",
       "      <td>90</td>\n",
       "      <td>0.057600</td>\n",
       "      <td>0.350573</td>\n",
       "      <td>0.881041</td>\n",
       "      <td>0.875208</td>\n",
       "      <td>0.881564</td>\n",
       "    </tr>\n",
       "    <tr>\n",
       "      <td>100</td>\n",
       "      <td>0.031200</td>\n",
       "      <td>0.368348</td>\n",
       "      <td>0.866171</td>\n",
       "      <td>0.864712</td>\n",
       "      <td>0.867473</td>\n",
       "    </tr>\n",
       "    <tr>\n",
       "      <td>110</td>\n",
       "      <td>0.027300</td>\n",
       "      <td>0.375952</td>\n",
       "      <td>0.866171</td>\n",
       "      <td>0.863298</td>\n",
       "      <td>0.867900</td>\n",
       "    </tr>\n",
       "  </tbody>\n",
       "</table><p>"
      ],
      "text/plain": [
       "<IPython.core.display.HTML object>"
      ]
     },
     "metadata": {},
     "output_type": "display_data"
    },
    {
     "data": {
      "text/plain": [
       "TrainOutput(global_step=115, training_loss=0.2774338882902394, metrics={'train_runtime': 539.2218, 'train_samples_per_second': 7.019, 'train_steps_per_second': 0.213, 'total_flos': 2.516143914709156e+17, 'train_loss': 0.2774338882902394, 'epoch': 4.968421052631579})"
      ]
     },
     "execution_count": 64,
     "metadata": {},
     "output_type": "execute_result"
    }
   ],
   "execution_count": 64,
   "source": "trainer.train()",
   "id": "652f9e35-e993-4358-92da-2b5cbbc50136"
  },
  {
   "metadata": {},
   "cell_type": "code",
   "outputs": [
    {
     "data": {
      "text/plain": [
       "23"
      ]
     },
     "execution_count": 65,
     "metadata": {},
     "output_type": "execute_result"
    }
   ],
   "execution_count": 65,
   "source": [
    "training_logs  = trainer.state.log_history\n",
    "len(training_logs)"
   ],
   "id": "3b5166bf-02b7-4046-8cc4-827f7ee7aaa7"
  },
  {
   "metadata": {},
   "cell_type": "code",
   "outputs": [],
   "execution_count": 67,
   "source": [
    "loss_values = [log[\"loss\"] for log in training_logs if \"loss\" in log]\n",
    "eval_loss = [log[\"eval_loss\"] for log in training_logs if \"eval_loss\" in log]\n",
    "steps = [log[\"step\"] for log in training_logs if \"loss\" in log]"
   ],
   "id": "a0903083-7011-4616-9064-4124db6398cd"
  },
  {
   "metadata": {},
   "cell_type": "code",
   "outputs": [
    {
     "data": {
      "image/png": "[encoded data removed]",
      "text/plain": [
       "<Figure size 1000x600 with 1 Axes>"
      ]
     },
     "metadata": {},
     "output_type": "display_data"
    }
   ],
   "execution_count": 68,
   "source": [
    "plt.figure(figsize=(10, 6))\n",
    "plt.plot(steps, loss_values, label=\"train_Loss\")\n",
    "plt.plot(steps, eval_loss, label=\"eval_Loss\")\n",
    "plt.xlabel(\"Steps\")\n",
    "plt.ylabel(\"Loss\")\n",
    "plt.title(\"Training Loss over Steps\")\n",
    "plt.legend()\n",
    "plt.grid()\n",
    "plt.show()"
   ],
   "id": "7a548374-b63f-4da2-adcc-d75db61a0552"
  },
  {
   "metadata": {},
   "cell_type": "markdown",
   "source": "The graph shows that the model is fully trained from around 80 steps onwards and then starts to “overfit” as the training loss is increasing and the validation loss doesn't change much.",
   "id": "8261a1fe-8ed2-4afa-9e08-a3bf02bc2070"
  },
  {
   "metadata": {
    "jp-MarkdownHeadingCollapsed": true
   },
   "cell_type": "markdown",
   "source": "#### 8.2.4 Testing",
   "id": "88abab6b-aacf-4ce2-b378-abd1e9491c09"
  },
  {
   "metadata": {},
   "cell_type": "code",
   "outputs": [
    {
     "data": {
      "text/html": [],
      "text/plain": [
       "<IPython.core.display.HTML object>"
      ]
     },
     "metadata": {},
     "output_type": "display_data"
    }
   ],
   "execution_count": 69,
   "source": "pred = trainer.predict(test_ds)",
   "id": "581bf03e"
  },
  {
   "metadata": {},
   "cell_type": "code",
   "outputs": [
    {
     "name": "stdout",
     "output_type": "stream",
     "text": [
      "              precision    recall  f1-score   support\n",
      "\n",
      "           0       0.96      0.86      0.91       100\n",
      "           1       0.86      0.90      0.88        40\n",
      "           2       0.90      0.78      0.84        60\n",
      "           3       0.74      0.91      0.82        69\n",
      "\n",
      "    accuracy                           0.86       269\n",
      "   macro avg       0.86      0.86      0.86       269\n",
      "weighted avg       0.87      0.86      0.86       269\n",
      "\n"
     ]
    }
   ],
   "execution_count": 71,
   "source": "print(classification_report(pred.label_ids, pred.predictions.argmax(1)))",
   "id": "b0e3711f"
  },
  {
   "metadata": {},
   "cell_type": "code",
   "outputs": [
    {
     "data": {
      "text/plain": [
       "<sklearn.metrics._plot.confusion_matrix.ConfusionMatrixDisplay at 0x7f42710a4050>"
      ]
     },
     "execution_count": 70,
     "metadata": {},
     "output_type": "execute_result"
    },
    {
     "data": {
      "image/png": "[encoded data removed]",
      "text/plain": [
       "<Figure size 640x480 with 2 Axes>"
      ]
     },
     "metadata": {},
     "output_type": "display_data"
    }
   ],
   "execution_count": 70,
   "source": [
    "cmd = skm.ConfusionMatrixDisplay(\n",
    "    skm.confusion_matrix(pred.label_ids, pred.predictions.argmax(1)),\n",
    "    display_labels = meta_labels.keys()\n",
    ")\n",
    "cmd.plot(xticks_rotation=\"vertical\")"
   ],
   "id": "4e2d5d7f"
  },
  {
   "metadata": {},
   "cell_type": "code",
   "outputs": [
    {
     "data": {
      "image/png": "[encoded data removed]",
      "text/plain": [
       "<Figure size 800x600 with 1 Axes>"
      ]
     },
     "metadata": {},
     "output_type": "display_data"
    }
   ],
   "execution_count": 75,
   "source": [
    "id2label = {v:k for k,v in meta_labels.items()}\n",
    "cm = confusion_matrix(pred.label_ids, pred.predictions.argmax(1), normalize='true')\n",
    "\n",
    "plt.figure(figsize=(8, 6))\n",
    "sns.heatmap(cm, annot=True, cmap=\"Blues\", cbar=False, xticklabels=id2label.values(), yticklabels=id2label.values())\n",
    "plt.xlabel(\"Predicted Label\")\n",
    "plt.ylabel(\"True Label\")\n",
    "plt.title(\"Normalized Confusion Matrix\")\n",
    "plt.show()"
   ],
   "id": "963a75ef"
  },
  {
   "metadata": {},
   "cell_type": "markdown",
   "source": "In the normalized confusion matrix it can be seen that the labels are recognized worse (86% accuracy) compared to the previous model (90% accuracy) and roughly equivalent to the model without augmentation (86% accuracy). Overall, except “Boring”, the accuracy of every label drops. With that, additional data augmentation won't be explored, because it may worsen more. Also with more data augmentation, there will be more \"same\" or closely related data, which can led more to overfitting and resulting in a less accurate model.",
   "id": "92c78a2b-532f-4b5e-8f31-2534100c74fe"
  },
  {
   "cell_type": "markdown",
   "id": "ef0fba01-fbd5-4904-b422-0a98b04d9d51",
   "metadata": {},
   "source": "## 9. Conclusion"
  },
  {
   "cell_type": "markdown",
   "id": "25ac08b3-8f3a-40d5-8c6e-06f9bcf5731a",
   "metadata": {},
   "source": "Overall, an increase in accuracy could be achieved by combining labels. Moreover, the usage of data augmentation on the model increases also the accuracy. However, when combining labels, the requirements for the model should always be taken into account, as this reduces the complexity of the output and does may not meet the desired requirements. It must also be taken into account that by augmentation no newly generated data is used. This can lead to an overwriting and over representation of the training data. To increase furthermore the accuracy of the model, a semi-supervised procedure can be promising, because the isn't much data, other options would be to change the model to better needs, but will require a deep understanding of the architecture\n"
  }
 ],
 "metadata": {
  "kernelspec": {
   "display_name": "Python 3 (ipykernel)",
   "language": "python",
   "name": "python3"
  },
  "language_info": {
   "codemirror_mode": {
    "name": "ipython",
    "version": 3
   },
   "file_extension": ".py",
   "mimetype": "text/x-python",
   "name": "python",
   "nbconvert_exporter": "python",
   "pygments_lexer": "ipython3",
   "version": "3.11.10"
  }
 },
 "nbformat": 4,
 "nbformat_minor": 5
}
